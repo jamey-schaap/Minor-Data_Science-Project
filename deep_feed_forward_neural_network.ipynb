{
 "cells": [
  {
   "cell_type": "code",
   "execution_count": null,
   "outputs": [],
   "source": [
    "import pandas as pd\n",
    "from sklearn.metrics import classification_report\n",
    "import os\n",
    "import warnings\n",
    "from configs.data import MACHINE_LEARNING_DATASET_PATH\n",
    "from machine_learning.utils import split_data, scale_dataset\n",
    "from machine_learning.neural_networks.utils import get_tensorflow_version, plot_history\n",
    "from machine_learning.neural_networks.deep_fnn import train_deep_fnn_model\n",
    "from configs.enums import Column, RiskClassifications\n",
    "import numpy as np\n",
    "import matplotlib.pyplot as plt\n",
    "from configs.data import MERGED_DATASET_PATH, OUT_PATH, MODELS_PATH\n",
    "import shap\n",
    "import tensorflow as tf\n",
    "\n",
    "warnings.simplefilter(action='ignore', category=FutureWarning)\n",
    "np.random.seed(0)"
   ],
   "metadata": {
    "collapsed": false
   },
   "id": "initial_id"
  },
  {
   "cell_type": "markdown",
   "source": [
    "## Loading the dataset"
   ],
   "metadata": {
    "collapsed": false
   },
   "id": "318dc18bb83c8386"
  },
  {
   "cell_type": "code",
   "execution_count": null,
   "outputs": [],
   "source": [
    "df = pd.read_excel(MACHINE_LEARNING_DATASET_PATH)\n",
    "train_df, valid_df, test_df = split_data(df)\n",
    "train, x_train, train_labels = scale_dataset(train_df, oversample=True)\n",
    "valid, x_val, val_labels = scale_dataset(valid_df, oversample=False)\n",
    "test, x_test, test_labels = scale_dataset(test_df, oversample=False)\n",
    "\n",
    "print(f\"Train: {x_train.shape}, Valid: {x_val.shape}, Test: {x_test.shape}\")"
   ],
   "metadata": {
    "collapsed": false
   },
   "id": "e9e3b783640832f"
  },
  {
   "cell_type": "code",
   "execution_count": null,
   "outputs": [],
   "source": [
    "def print_results(model) -> None:\n",
    "    y_pred_train = model.predict(x_train).argmax(axis=1)\n",
    "    print(\"\\n###### Training ######\")\n",
    "    print(classification_report(train_labels, y_pred_train))\n",
    "    \n",
    "    y_pred_valid = model.predict(x_val).argmax(axis=1)\n",
    "    print(\"\\n###### Validation ######\")\n",
    "    print(classification_report(val_labels, y_pred_valid))\n",
    "    \n",
    "    y_pred = model.predict(x_test).argmax(axis=1)\n",
    "    print(\"\\n###### Test ######\")\n",
    "    print(classification_report(test_labels, y_pred))"
   ],
   "metadata": {
    "collapsed": false
   },
   "id": "2258abc54cae18c3"
  },
  {
   "cell_type": "markdown",
   "source": [
    "## Load model from file"
   ],
   "metadata": {
    "collapsed": false
   },
   "id": "6c96243509c2d54d"
  },
  {
   "cell_type": "code",
   "execution_count": null,
   "outputs": [],
   "source": [
    "model_file = \"tf-2.15.0_Deep_Adam_8_256_0.2_0.001_1000_20_128_0.1691402643918991.fnn.keras\"\n",
    "model = tf.keras.models.load_model(os.path.join(MODELS_PATH, model_file))\n",
    "\n",
    "print_results(model)"
   ],
   "metadata": {
    "collapsed": false
   },
   "id": "25f3960170fbb930"
  },
  {
   "cell_type": "markdown",
   "source": [
    "## Automated tuning"
   ],
   "metadata": {
    "collapsed": false
   },
   "id": "4576bd762e555588"
  },
  {
   "cell_type": "code",
   "execution_count": null,
   "outputs": [],
   "source": [
    "def tune_deep_fnn_model(df, layers, units, dropout_rates, learning_rates, epochs=200, patience=[10, 20], batch_sizes=[128]):\n",
    "    import time\n",
    "    from datetime import timedelta\n",
    "    \n",
    "    least_val_lost_file_name = f\"tuning_least_val_loss.fnn.keras\"\n",
    "    \n",
    "    to_hh_mm_ss = lambda seconds: str(timedelta(seconds=seconds)).rsplit(\".\")[0]\n",
    "    \n",
    "    least_val_loss = float('inf')\n",
    "    least_val_loss_params = []\n",
    "    least_val_loss_accuracy = float('inf')\n",
    "    least_val_loss_model = None  \n",
    "    least_val_loss_history = None\n",
    "    eta = None\n",
    "    \n",
    "    time_past = 0\n",
    "    \n",
    "    i = 1 \n",
    "    max = len(layers) * len(units) * len(dropout_rates) * len(learning_rates) * len(patience) * len(batch_sizes)\n",
    "    \n",
    "    print(\"[prev: N/A] [eta: TBD]\")\n",
    "    \n",
    "    for l in layers:\n",
    "        for u in units:\n",
    "            for dr in dropout_rates:\n",
    "                for lr in learning_rates: \n",
    "                    for pt in patience:\n",
    "                        for bt in batch_sizes:\n",
    "                            start_time = time.time()\n",
    "    \n",
    "                            print(f\"[{i}/{max}] Layers: {l}; Units: {u}; Dropout rate: {dr}; Learning rate: {lr}; Patience: {pt}; Batch size: {bt}\")\n",
    "                            \n",
    "                            # TODO: add batch_size param to tune\n",
    "                            model, history, num_classes = train_deep_fnn_model(\n",
    "                                df, \n",
    "                                epochs=epochs, \n",
    "                                patience=pt, \n",
    "                                layers=l, \n",
    "                                units=u,\n",
    "                                dropout_rate=dr,\n",
    "                                learning_rate=lr,\n",
    "                                batch_size=bt,\n",
    "                                verbose=0,\n",
    "                                disable_save=True,\n",
    "                                disable_plot_history=True,\n",
    "                                disable_print_report=True)\n",
    "                            \n",
    "                            val_loss, val_acc = model.evaluate(x_test, test_labels)\n",
    "                            print(f\"Loss: {val_loss}; Accuracy: {val_acc};\")\n",
    "                            if val_loss < least_val_loss:\n",
    "                                model.save(os.path.join(MODELS_PATH, least_val_lost_file_name))\n",
    "                                least_val_loss = val_loss\n",
    "                                least_val_loss_params = [l, u, dr, lr, pt, bt]\n",
    "                                least_val_loss_accuracy = val_acc\n",
    "                                least_val_loss_model = model\n",
    "                                least_val_loss_history = history\n",
    "                                \n",
    "                            duration = time.time() - start_time\n",
    "                            time_past += duration\n",
    "                            avg_duration = time_past / i\n",
    "                            eta = time_past + avg_duration * (max - i)\n",
    "                            \n",
    "                            print(f\"\\n[eta: {to_hh_mm_ss(time_past)}/{to_hh_mm_ss(eta)}] [prev: {to_hh_mm_ss(duration)}] [avg: {to_hh_mm_ss(avg_duration)}]\")\n",
    "                                \n",
    "                            i += 1\n",
    "    \n",
    "    l, u, dr, lr, pt, bt = least_val_loss_params\n",
    "    print(\"\\nLeast validation loss:\")              \n",
    "    print(f\"\\tParams:\\t {{Layers: {l}; Units: {u}; Dropout rate: {dr}; Learning rate: {lr}; Patience: {pt}; Batch size: {bt}}}\")\n",
    "    print(\"\\tLoss:\\t\", least_val_loss)\n",
    "    print(\"\\tAccuracy:\\t\", least_val_loss_accuracy)\n",
    "    \n",
    "    best_model_file_name = f\"tf-{get_tensorflow_version()}_Deep_Adam_{l}_{u}_{dr}_{lr}_{epochs}_{pt}_{bt}_{least_val_loss}.fnn.keras\"\n",
    "    os.rename(\n",
    "        os.path.join(MODELS_PATH, least_val_lost_file_name), \n",
    "        os.path.join(MODELS_PATH, best_model_file_name))\n",
    "    print(f\"\\nModel has been saved as '{best_model_file_name}'\")\n",
    "    \n",
    "    plot_history(least_val_loss_history, num_classes)\n",
    "    \n",
    "    print_results(model)\n",
    "    \n",
    "    return least_val_loss_model, least_val_loss_history, num_classes\n"
   ],
   "metadata": {
    "collapsed": false
   },
   "id": "bc74cfdd9caf2bd2"
  },
  {
   "cell_type": "code",
   "execution_count": null,
   "outputs": [],
   "source": [
    "model, history, num_classes = tune_deep_fnn_model(\n",
    "        df=df,\n",
    "        epochs=1000,\n",
    "        # Layers: 1, 2, 3, 4, 5, 6, 7\n",
    "        layers=[8],\n",
    "        # Units: 8, 16, 32, 64, 96, 128, 160, 192\n",
    "        units=[256],\n",
    "        # Dropout rates: 0.2, 0.3, 0.4, 0.5\n",
    "        dropout_rates=[0.2], \n",
    "        # Learning rates: # 0.0001, 0.0005, 0.00075, 0.001, 0.00125, 0.0015, 0.00175, 0.002\n",
    "        learning_rates=[0.001],   \n",
    "        # Patience: 10, 20\n",
    "        patience=[20],\n",
    "        # Batch sizes: 10, 50, 100, 128, 150, 200, 250\n",
    "        batch_sizes=[128]  \n",
    "    )\n",
    "\n",
    "# Least validation loss:\n",
    "# \tParams:  [8, 256, 0.2, 0.0015, 20]\n",
    "# \tLoss:  0.1532142609357834\n",
    "\n",
    "# Least validation loss:\n",
    "# \tParams:\t {Layers: 9; Units: 1024; Dropout rate: 0.2; Learning rate: 0.001; Patience: 20; Batch size: 128}\n",
    "# \tLoss:\t 0.13461776077747345\n",
    "\n",
    "# [9/48] Layers: 6; Units: 512; Dropout rate: 0.2; Learning rate: 0.001; Patience: 10; Batch size: 128\n",
    "# Loss: 0.15980109572410583; Accuracy: 0.9331550598144531;"
   ],
   "metadata": {
    "collapsed": false
   },
   "id": "4b67271b9e804558"
  },
  {
   "cell_type": "markdown",
   "source": [
    "## Manual Tuning"
   ],
   "metadata": {
    "collapsed": false
   },
   "id": "ac627e9fa133af3"
  },
  {
   "cell_type": "code",
   "execution_count": null,
   "outputs": [],
   "source": [
    "model, _, num_classes = train_deep_fnn_model(\n",
    "                        df, \n",
    "                        epochs=2000, \n",
    "                        patience=20, \n",
    "                        layers=8, \n",
    "                        units=256,\n",
    "                        dropout_rate=0.2,\n",
    "                        learning_rate=0.001,\n",
    "                        verbose=2,\n",
    "                        disable_print_report=True)\n",
    "# epsilon=1 =>  0.41 loss, 0.80 acc | Interesting\n",
    "# epsilon=1e-1 => 0.38 loss, 0.82 acc\n",
    "# epsilon=1e-2 =>\n",
    "# epsilon=1e-3 => \n",
    "# epsilon=1e-4 =>  0.197 loss, 0.907 acc\n",
    "# epsilon=1e-5 =>  0.163 loss, 0.929 acc <= Curve looks better than DEFAULT\n",
    "# epsilon=1e-6 =>  0.186 loss, 0.915 acc\n",
    "\n",
    "# weight_decay=0.01 => Worth testing\n",
    "\n",
    "# amsgrad=True => 0.189 loss, 0.915 acc \n",
    "\n",
    "# beta_1=0.95 => 0.170 loss, 0.922 acc\n",
    "# beta_1=0.85 => 0.183 loss, 0.914 acc\n",
    "\n",
    "# (DEFAULT; epsilon=1e-7, beta_1=0.9, amsgrad=False) =>  0.174 loss, 0.932 acc\n",
    "\n",
    "print_results(model)"
   ],
   "metadata": {
    "collapsed": false
   },
   "id": "117af0c4f8460a42"
  },
  {
   "cell_type": "markdown",
   "source": [
    "## Plot confusion matrix by risk classification"
   ],
   "metadata": {
    "collapsed": false
   },
   "id": "d340cae7ba67c95b"
  },
  {
   "cell_type": "code",
   "execution_count": null,
   "outputs": [],
   "source": [
    "def split_confusion(data, classification):\n",
    "    true_positives = data[\n",
    "        (data[\"country_risk\"] == classification) & \n",
    "        (data[\"predicted_country_risk\"] == classification) \n",
    "    ]\n",
    "    \n",
    "    true_negatives = data[\n",
    "        (data[\"country_risk\"] != classification) & \n",
    "        (data[\"predicted_country_risk\"] != classification) \n",
    "    ]\n",
    "    \n",
    "    false_positives = data[\n",
    "        (data[\"country_risk\"] != classification) & \n",
    "        (data[\"predicted_country_risk\"] == classification) \n",
    "    ]\n",
    "    \n",
    "    false_negatives = data[\n",
    "        (data[\"country_risk\"] == classification) & \n",
    "        (data[\"predicted_country_risk\"] != classification) \n",
    "    ]\n",
    "    \n",
    "    return {\"true_positives\": true_positives, \"true_negatives\": true_negatives, \"false_positives\": false_positives, \"false_negatives\": false_negatives}"
   ],
   "metadata": {
    "collapsed": false
   },
   "id": "c316e59b1155a548"
  },
  {
   "cell_type": "code",
   "execution_count": null,
   "outputs": [],
   "source": [
    "# model_file = \"tf-2.14.0_Adam_8_256_0.2_0.0015_200_20_128_0.1532142609357834.fnn.keras\"\n",
    "# model = load_model(os.path.join(MODELS_PATH, model_file))\n",
    "y_pred = model.predict(x_test).argmax(axis=1)\n",
    "\n",
    "x_feature = Column.POL2\n",
    "y_feature = Column.GDP_PC\n",
    "\n",
    "result = test_df \n",
    "result[\"predicted_country_risk\"] = y_pred\n",
    "\n",
    "low, medium, high = [split_confusion(result, c) for c in [0,1,2]]\n",
    "plot_data = high"
   ],
   "metadata": {
    "collapsed": false
   },
   "id": "98a9798758057014"
  },
  {
   "cell_type": "code",
   "execution_count": null,
   "outputs": [],
   "source": [
    "def subplot_scatter(ax, x, y, title: str, color) -> None:\n",
    "    ax.scatter(x, y, color=color)\n",
    "    ax.grid(True)\n",
    "    ax.set_xlim((x_min, x_max))\n",
    "    ax.set_ylim((y_min, y_max))\n",
    "    ax.set_xlabel(x_feature.get_description())\n",
    "    ax.set_ylabel(y_feature.get_description())\n",
    "    ax.title.set_text(title)\n",
    "    \n",
    "def subplot_scatter2(ax, data, risk_col: Column | str, title: str) -> None:\n",
    "    low = data[data[risk_col] == 0]\n",
    "    med = data[data[risk_col] == 1]\n",
    "    hig = data[data[risk_col] == 2]\n",
    "    \n",
    "    l = ax.scatter(low[x_feature], low[y_feature], color=\"green\")\n",
    "    m = ax.scatter(med[x_feature], med[y_feature], color=\"yellow\")\n",
    "    h = ax.scatter(hig[x_feature], hig[y_feature], color=\"red\")\n",
    "    \n",
    "    ax.legend([l, m, h], (\"low\", \"medium\", \"high\"), loc=\"best\")\n",
    "    ax.grid(True)\n",
    "    ax.set_xlabel(x_feature.get_description())\n",
    "    ax.set_ylabel(y_feature.get_description())\n",
    "    ax.set_xlim((x_min, x_max))\n",
    "    ax.set_ylim((y_min, y_max))\n",
    "    ax.title.set_text(title)"
   ],
   "metadata": {
    "collapsed": false
   },
   "id": "9e7a058beb1d68fc"
  },
  {
   "cell_type": "code",
   "execution_count": null,
   "outputs": [],
   "source": [
    "x_min = min([np.min(x[x_feature]) for x in plot_data.values()])\n",
    "x_min -= abs(0.1 * x_min) \n",
    "\n",
    "y_min = min([np.min(y[y_feature]) for y in plot_data.values()])\n",
    "y_min -= abs(0.1 * y_min)\n",
    "\n",
    "x_max = max([np.max(x[x_feature]) for x in plot_data.values()]) * 1.1\n",
    "y_max = max([np.max(y[y_feature]) for y in plot_data.values()]) * 1.1\n",
    "    \n",
    "fig, ((ax1, ax2), (ax3, ax4), (ax5, ax6), (ax7, ax8)) = plt.subplots(4, 2, figsize=(30, 30))\n",
    "subplot_scatter(ax1, plot_data[\"true_positives\"][x_feature], plot_data[\"true_positives\"][y_feature], \"true_positives\", color=\"green\")\n",
    "subplot_scatter(ax2, plot_data[\"true_negatives\"][x_feature], plot_data[\"true_negatives\"][y_feature], \"true_negatives\", color=\"green\")\n",
    "subplot_scatter(ax3, plot_data[\"false_positives\"][x_feature], plot_data[\"false_positives\"][y_feature], \"false_positives\", color=\"red\")\n",
    "subplot_scatter(ax4, plot_data[\"false_negatives\"][x_feature], plot_data[\"false_negatives\"][y_feature], \"false_negatives\", color=\"red\")\n",
    "\n",
    "wrongly_predicted = result[result[\"country_risk\"] != result[\"predicted_country_risk\"]]\n",
    "subplot_scatter2(ax5, wrongly_predicted, \"predicted_country_risk\", title=\"Predicted: WRONG\")\n",
    "subplot_scatter2(ax6, wrongly_predicted, \"country_risk\", title=\"Predicted: SHOULD BE\")\n",
    "\n",
    "subplot_scatter2(ax7, result, \"predicted_country_risk\", title=\"Predicted\")\n",
    "subplot_scatter2(ax8, result, \"country_risk\", title=\"Actual\")\n",
    "plt.show()"
   ],
   "metadata": {
    "collapsed": false
   },
   "id": "1786fee1e45b5939"
  },
  {
   "cell_type": "markdown",
   "source": [
    "## Print the distribution of the correct/wrong labeled test cases"
   ],
   "metadata": {
    "collapsed": false
   },
   "id": "d617a38ec977691c"
  },
  {
   "cell_type": "code",
   "execution_count": null,
   "outputs": [],
   "source": [
    "distribution = result.groupby([\"country_risk\", \"predicted_country_risk\"]).size().reset_index().rename(columns={0: 'count'})\n",
    "\n",
    "match_classifications = lambda dist: lambda c: [(dist[c] == 0), (dist[c] == 1), (dist[c] == 2)]\n",
    "match_classifications_result = match_classifications(distribution)\n",
    "options = [\"low\", \"medium\", \"high\"]\n",
    "distribution[\"country_risk\"] = np.select(match_classifications_result(\"country_risk\"), options)\n",
    "distribution[\"predicted_country_risk\"] = np.select(match_classifications_result(\"predicted_country_risk\"), options)\n",
    "\n",
    "print(distribution)"
   ],
   "metadata": {
    "collapsed": false
   },
   "id": "826a7b7959a391d8"
  },
  {
   "cell_type": "markdown",
   "source": [
    "## Output an xlsx file containing the wrongly predicted rows"
   ],
   "metadata": {
    "collapsed": false
   },
   "id": "6c8b7c605837cf28"
  },
  {
   "cell_type": "code",
   "execution_count": null,
   "outputs": [],
   "source": [
    "m_df = pd.read_excel(MERGED_DATASET_PATH)\n",
    "wm_df = m_df.iloc[wrongly_predicted.index, ]\n",
    "wm_df[\"predicted_country_risk\"] = np.select(\n",
    "    match_classifications(wrongly_predicted)(\"predicted_country_risk\"),\n",
    "    options)\n",
    "\n",
    "cols = [\"year\", \"country\"] + list(wrongly_predicted.columns) + [\"norm_risk\"]\n",
    "\n",
    "wm_df = wm_df[cols]\n",
    "wm_df.to_excel(\n",
    "            os.path.join(OUT_PATH, f\"wrongly-predicted.xlsx\"),\n",
    "            index=False,\n",
    "            sheet_name=\"Data\")"
   ],
   "metadata": {
    "collapsed": false
   },
   "id": "f5c744c7ce714794"
  },
  {
   "cell_type": "markdown",
   "source": [
    "### 2.4 Shap"
   ],
   "metadata": {
    "collapsed": false
   },
   "id": "921546bb2dd95774"
  },
  {
   "cell_type": "code",
   "execution_count": null,
   "outputs": [],
   "source": [
    "def shapify(data: pd.DataFrame):\n",
    "    train, valid, test = split_data(data)\n",
    "\n",
    "    train, x_train, train_labels = scale_dataset(train, oversample=True)\n",
    "    valid, x_val, val_labels = scale_dataset(valid, oversample=False)\n",
    "    test, x_test, test_labels = scale_dataset(test, oversample=False)\n",
    "    \n",
    "    explainer = shap.KernelExplainer(model.predict, x_train)\n",
    "    shap_values = explainer.shap_values(x_test, nsamples=100) # nsamples { default = 2 * X.shape[1] + 2048 = 2066 }\n",
    "    # explainer.save()\n",
    "    \n",
    "    return explainer, shap_values, x_test"
   ],
   "metadata": {
    "collapsed": false
   },
   "id": "590b521a6f69e"
  },
  {
   "cell_type": "code",
   "execution_count": null,
   "outputs": [],
   "source": [
    "explainer, shap_values, shap_x_test = shapify(df[:1000])\n",
    "shap.summary_plot(shap_values, shap_x_test, feature_names=df.columns[Column.COUNTRY_RISK], class_names=RiskClassifications.get_names())"
   ],
   "metadata": {
    "collapsed": false
   },
   "id": "5cf2d9d36017d0ca"
  }
 ],
 "metadata": {
  "kernelspec": {
   "display_name": "Python 3 (ipykernel)",
   "language": "python",
   "name": "python3"
  },
  "language_info": {
   "codemirror_mode": {
    "name": "ipython",
    "version": 3
   },
   "file_extension": ".py",
   "mimetype": "text/x-python",
   "name": "python",
   "nbconvert_exporter": "python",
   "pygments_lexer": "ipython3",
   "version": "3.11.0rc1"
  }
 },
 "nbformat": 4,
 "nbformat_minor": 5
}
