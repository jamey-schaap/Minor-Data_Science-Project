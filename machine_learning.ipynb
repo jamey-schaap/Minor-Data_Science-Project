{
 "cells": [
  {
   "cell_type": "code",
   "execution_count": null,
   "outputs": [],
   "source": [
    "import pandas as pd\n",
    "from configs.data import MACHINE_LEARNING_DATASET_PATH\n",
    "from sklearn.preprocessing import StandardScaler\n",
    "from sklearn.metrics import classification_report\n",
    "from imblearn.over_sampling import RandomOverSampler\n",
    "import numpy as np\n",
    "from configs.enums import Column, RiskClassifications\n",
    "from machine_learning.utils import split_data, scale_dataset"
   ],
   "metadata": {
    "collapsed": false
   },
   "id": "76f1541520d536e3"
  },
  {
   "cell_type": "code",
   "execution_count": null,
   "outputs": [],
   "source": [
    "df = pd.read_excel(MACHINE_LEARNING_DATASET_PATH)\n",
    "\n",
    "train, valid, test = split_data(df)\n",
    "\n",
    "train, X_train, y_train = scale_dataset(train, oversample=True)\n",
    "valid, X_valid, y_valid = scale_dataset(valid, oversample=False)\n",
    "test, X_test, y_test = scale_dataset(test, oversample=False)"
   ],
   "metadata": {
    "collapsed": false
   },
   "id": "58a22c5e76a55955"
  },
  {
   "cell_type": "markdown",
   "source": [
    "## KNN"
   ],
   "metadata": {
    "collapsed": false
   },
   "id": "9eeca891b4310b5f"
  },
  {
   "cell_type": "code",
   "execution_count": null,
   "outputs": [],
   "source": [
    "from sklearn.neighbors import KNeighborsClassifier\n",
    "knn_model = KNeighborsClassifier(n_neighbors=50)\n",
    "knn_model.fit(X_train, y_train)\n",
    "y_pred = knn_model.predict(X_test)\n",
    "print(classification_report(y_test, y_pred))"
   ],
   "metadata": {
    "collapsed": false
   },
   "id": "f2f44540bdf8ca63"
  },
  {
   "cell_type": "markdown",
   "source": [
    "### Shap"
   ],
   "metadata": {
    "collapsed": false
   },
   "id": "fc3a14f51a9ad6d0"
  },
  {
   "cell_type": "code",
   "execution_count": null,
   "outputs": [],
   "source": [
    "import sys\n",
    "python_version = sys.version.split(\"|\")[0].rstrip()\n",
    "\n",
    "if python_version == \"3.11.6\":\n",
    "    import shap\n",
    "    print(\"Shap imported.\")\n",
    "else:\n",
    "    print(\"Shap could not be installed on this docker image ('tensorflow-2150'), build 'tensorflow-2140' from docker compose.\")"
   ],
   "metadata": {
    "collapsed": false
   },
   "id": "fb06ebaaa9a7107"
  },
  {
   "cell_type": "code",
   "execution_count": null,
   "outputs": [],
   "source": [
    "def shapify(data: pd.DataFrame, model):\n",
    "    train, valid, test = split_data(data)\n",
    "\n",
    "    train, x_train, train_labels = scale_dataset(train, oversample=True)\n",
    "    valid, x_val, val_labels = scale_dataset(valid, oversample=False)\n",
    "    test, x_test, test_labels = scale_dataset(test, oversample=False)\n",
    "\n",
    "    explainer = shap.KernelExplainer(model.predict, x_train)\n",
    "    shap_values = explainer.shap_values(x_test, nsamples=100)\n",
    "    # explainer.save()\n",
    "\n",
    "    return explainer, shap_values, x_test"
   ],
   "metadata": {
    "collapsed": false
   },
   "id": "9538e802d866abdf"
  },
  {
   "cell_type": "code",
   "execution_count": null,
   "outputs": [],
   "source": [
    "shap_df = df[:300]\n",
    "\n",
    "train, valid, test = split_data(shap_df)\n",
    "train, X_train, y_train = scale_dataset(train, oversample=True)\n",
    "valid, X_valid, y_valid = scale_dataset(valid, oversample=False)\n",
    "test, X_test, y_test = scale_dataset(test, oversample=False)\n",
    "\n",
    "knn_model = KNeighborsClassifier(n_neighbors=50)\n",
    "knn_model.fit(X_train, y_train)\n",
    "\n",
    "explainer, shap_values, shap_x_test = shapify(shap_df, knn_model)\n",
    "shap.summary_plot(shap_values, shap_x_test, feature_names=df.columns[Column.COUNTRY_RISK],\n",
    "                  class_names=RiskClassifications.get_names())"
   ],
   "metadata": {
    "collapsed": false
   },
   "id": "e5034270cbc77264"
  },
  {
   "cell_type": "markdown",
   "source": [
    "## Logistic Regression"
   ],
   "metadata": {
    "collapsed": false
   },
   "id": "c7bb2154ccf4ce10"
  },
  {
   "cell_type": "code",
   "execution_count": null,
   "outputs": [],
   "source": [
    "from sklearn.linear_model import LogisticRegression\n",
    "lg_model = LogisticRegression()\n",
    "lg_model.fit(X_train, y_train)\n",
    "y_pred = lg_model.predict(X_test)\n",
    "print(classification_report(y_test, y_pred))"
   ],
   "metadata": {
    "collapsed": false
   },
   "id": "c865575aefcdbffc"
  },
  {
   "cell_type": "markdown",
   "source": [
    "## SVM"
   ],
   "metadata": {
    "collapsed": false
   },
   "id": "3b649d9b36f1e440"
  },
  {
   "cell_type": "code",
   "execution_count": null,
   "outputs": [],
   "source": [
    "from sklearn.svm import SVC\n",
    "svm_model = SVC()\n",
    "svm_model.fit(X_train, y_train)\n",
    "y_pred = svm_model.predict(X_test)\n",
    "print(classification_report(y_test, y_pred))"
   ],
   "metadata": {
    "collapsed": false
   },
   "id": "35037073811e57c4"
  },
  {
   "cell_type": "markdown",
   "source": [
    "## Random Forest"
   ],
   "metadata": {
    "collapsed": false
   },
   "id": "adfdd63248eb093b"
  },
  {
   "cell_type": "code",
   "execution_count": null,
   "outputs": [],
   "source": [
    "from sklearn.ensemble import RandomForestClassifier\n",
    "rf_model = RandomForestClassifier(n_estimators=100, random_state=42)\n",
    "rf_model.fit(X_train, y_train)\n",
    "y_pred = rf_model.predict(X_test)\n",
    "print(classification_report(y_test, y_pred))"
   ],
   "metadata": {
    "collapsed": false
   },
   "id": "3e81ab76c8ccaf2f"
  }
 ],
 "metadata": {
  "kernelspec": {
   "display_name": "Python 3",
   "language": "python",
   "name": "python3"
  },
  "language_info": {
   "codemirror_mode": {
    "name": "ipython",
    "version": 2
   },
   "file_extension": ".py",
   "mimetype": "text/x-python",
   "name": "python",
   "nbconvert_exporter": "python",
   "pygments_lexer": "ipython2",
   "version": "2.7.6"
  }
 },
 "nbformat": 4,
 "nbformat_minor": 5
}
