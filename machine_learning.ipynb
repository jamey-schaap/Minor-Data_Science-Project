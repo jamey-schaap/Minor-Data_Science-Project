{
 "cells": [
  {
   "cell_type": "code",
   "execution_count": null,
   "outputs": [],
   "source": [
    "import pandas as pd\n",
    "from configs.data import MACHINE_LEARNING_DATASET_PATH\n",
    "from sklearn.preprocessing import StandardScaler\n",
    "from sklearn.metrics import classification_report\n",
    "from imblearn.over_sampling import RandomOverSampler\n",
    "import numpy as np\n",
    "from configs.enums import Column, RiskClassifications\n",
    "from machine_learning.utils import split_data, scale_dataset\n",
    "from sklearn.model_selection import cross_val_score\n",
    "import shap"
   ],
   "metadata": {
    "collapsed": false
   },
   "id": "76f1541520d536e3"
  },
  {
   "cell_type": "code",
   "execution_count": null,
   "outputs": [],
   "source": [
    "df = pd.read_excel(MACHINE_LEARNING_DATASET_PATH)\n",
    "\n",
    "train, valid, test = split_data(df)\n",
    "\n",
    "train, X_train, y_train = scale_dataset(train, oversample=True)\n",
    "valid, X_valid, y_valid = scale_dataset(valid, oversample=False)\n",
    "test, X_test, y_test = scale_dataset(test, oversample=False)"
   ],
   "metadata": {
    "collapsed": false
   },
   "id": "58a22c5e76a55955"
  },
  {
   "cell_type": "markdown",
   "source": [
    "## KNN"
   ],
   "metadata": {
    "collapsed": false
   },
   "id": "9eeca891b4310b5f"
  },
  {
   "cell_type": "code",
   "execution_count": null,
   "outputs": [],
   "source": [
    "def print_results(model) -> None:\n",
    "    y_pred_train = model.predict(x_train).argmax(axis=1)\n",
    "    print(\"\\n###### Training ######\")\n",
    "    print(classification_report(train_labels, y_pred_train))\n",
    "    \n",
    "    y_pred_valid = model.predict(x_val).argmax(axis=1)\n",
    "    print(\"\\n###### Validation ######\")\n",
    "    print(classification_report(val_labels, y_pred_valid))\n",
    "    \n",
    "    y_pred = model.predict(x_test).argmax(axis=1)\n",
    "    print(\"\\n###### Test ######\")\n",
    "    print(classification_report(test_labels, y_pred))"
   ],
   "metadata": {
    "collapsed": false
   },
   "id": "99fcae97297d061d"
  },
  {
   "cell_type": "code",
   "execution_count": null,
   "outputs": [],
   "source": [
    "from sklearn.neighbors import KNeighborsClassifier\n",
    "knn_model = KNeighborsClassifier(n_neighbors=200)\n",
    "knn_model.fit(X_train, y_train)\n",
    "\n",
    "print_results(knn_model)"
   ],
   "metadata": {
    "collapsed": false
   },
   "id": "f2f44540bdf8ca63"
  },
  {
   "cell_type": "code",
   "execution_count": null,
   "outputs": [],
   "source": [
    "X = df[df.columns[:-1]]\n",
    "y = df[df.columns[-1]]  \n",
    "score_knn = cross_val_score(knn_model, X, y, cv=10)\n",
    "print(score_knn)\n",
    "print(\"Avg: \", np.average((score_knn)))"
   ],
   "metadata": {
    "collapsed": false
   },
   "id": "22f22bad6c79758"
  },
  {
   "cell_type": "markdown",
   "source": [
    "### Shap"
   ],
   "metadata": {
    "collapsed": false
   },
   "id": "fc3a14f51a9ad6d0"
  },
  {
   "cell_type": "code",
   "execution_count": null,
   "outputs": [],
   "source": [
    "def shapify(data: pd.DataFrame, model):\n",
    "    train, valid, test = split_data(data)\n",
    "\n",
    "    train, x_train, train_labels = scale_dataset(train, oversample=True)\n",
    "    valid, x_val, val_labels = scale_dataset(valid, oversample=False)\n",
    "    test, x_test, test_labels = scale_dataset(test, oversample=False)\n",
    "\n",
    "    explainer = shap.KernelExplainer(model.predict, x_train)\n",
    "    shap_values = explainer.shap_values(x_test, nsamples=100)\n",
    "    # explainer.save()\n",
    "\n",
    "    return explainer, shap_values, x_test"
   ],
   "metadata": {
    "collapsed": false
   },
   "id": "9538e802d866abdf"
  },
  {
   "cell_type": "code",
   "execution_count": null,
   "outputs": [],
   "source": [
    "shap_df = df[:300]\n",
    "\n",
    "train, valid, test = split_data(shap_df)\n",
    "train, X_train, y_train = scale_dataset(train, oversample=True)\n",
    "valid, X_valid, y_valid = scale_dataset(valid, oversample=False)\n",
    "test, X_test, y_test = scale_dataset(test, oversample=False)\n",
    "\n",
    "knn_model = KNeighborsClassifier(n_neighbors=50)\n",
    "knn_model.fit(X_train, y_train)\n",
    "\n",
    "explainer, shap_values, shap_x_test = shapify(shap_df, knn_model)\n",
    "shap.summary_plot(shap_values, shap_x_test, feature_names=df.columns[Column.COUNTRY_RISK],\n",
    "                  class_names=RiskClassifications.get_names())"
   ],
   "metadata": {
    "collapsed": false
   },
   "id": "e5034270cbc77264"
  },
  {
   "cell_type": "markdown",
   "source": [
    "## Logistic Regression"
   ],
   "metadata": {
    "collapsed": false
   },
   "id": "c7bb2154ccf4ce10"
  },
  {
   "cell_type": "code",
   "execution_count": null,
   "outputs": [],
   "source": [
    "from sklearn.linear_model import LogisticRegression\n",
    "lg_model = LogisticRegression()\n",
    "lg_model.fit(X_train, y_train)\n",
    "\n",
    "print_results(lg_model)"
   ],
   "metadata": {
    "collapsed": false
   },
   "id": "c865575aefcdbffc"
  },
  {
   "cell_type": "markdown",
   "source": [
    "## SVM"
   ],
   "metadata": {
    "collapsed": false
   },
   "id": "3b649d9b36f1e440"
  },
  {
   "cell_type": "code",
   "execution_count": null,
   "outputs": [],
   "source": [
    "from sklearn.svm import SVC\n",
    "svm_model = SVC()\n",
    "svm_model.fit(X_train, y_train)\n",
    "\n",
    "print_results(svm_model)"
   ],
   "metadata": {
    "collapsed": false
   },
   "id": "35037073811e57c4"
  },
  {
   "cell_type": "markdown",
   "source": [
    "## Random Forest"
   ],
   "metadata": {
    "collapsed": false
   },
   "id": "adfdd63248eb093b"
  },
  {
   "cell_type": "code",
   "execution_count": null,
   "outputs": [],
   "source": [
    "from sklearn.ensemble import RandomForestClassifier\n",
    "rf_model = RandomForestClassifier(n_estimators=500, random_state=42)\n",
    "rf_model.fit(X_train, y_train)\n",
    "\n",
    "print_results(rf_model)"
   ],
   "metadata": {
    "collapsed": false
   },
   "id": "3e81ab76c8ccaf2f"
  },
  {
   "cell_type": "code",
   "execution_count": null,
   "outputs": [],
   "source": [
    "X = df[df.columns[:-1]]\n",
    "y = df[df.columns[-1]]  \n",
    "score_rf = cross_val_score(rf_model, X, y, cv=10)\n",
    "print(score_rf)\n",
    "print(\"Avg: \", np.average((score_rf)))"
   ],
   "metadata": {
    "collapsed": false
   },
   "id": "3027ab214e485340"
  }
 ],
 "metadata": {
  "kernelspec": {
   "display_name": "Python 3",
   "language": "python",
   "name": "python3"
  },
  "language_info": {
   "codemirror_mode": {
    "name": "ipython",
    "version": 2
   },
   "file_extension": ".py",
   "mimetype": "text/x-python",
   "name": "python",
   "nbconvert_exporter": "python",
   "pygments_lexer": "ipython2",
   "version": "2.7.6"
  }
 },
 "nbformat": 4,
 "nbformat_minor": 5
}
