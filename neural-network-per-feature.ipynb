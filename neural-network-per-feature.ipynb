{
 "cells": [
  {
   "cell_type": "code",
   "execution_count": null,
   "id": "initial_id",
   "metadata": {
    "collapsed": true
   },
   "outputs": [],
   "source": [
    "import matplotlib.pyplot as plt\n",
    "import pandas as pd\n",
    "from sklearn.preprocessing import StandardScaler\n",
    "from sklearn.metrics import classification_report\n",
    "from imblearn.over_sampling import RandomOverSampler\n",
    "from configs.enums import RiskClassifications\n",
    "import numpy as np\n",
    "import os\n",
    "import warnings\n",
    "from configs.enums import Column\n",
    "from machine_learning.utils import split_data, scale_dataset\n",
    "from machine_learning.neural_networks.utils import plot_history\n",
    "from machine_learning.neural_networks.fnn import fnn_model, train_fnn_model\n",
    "from configs.data import MACHINE_LEARNING_DATASET_PATH\n",
    "import pandas as pd\n",
    "from tensorflow.keras.models import load_model\n",
    "warnings.simplefilter(action='ignore', category=FutureWarning)"
   ]
  },
  {
   "cell_type": "markdown",
   "source": [
    "## 1. Loading the dataset"
   ],
   "metadata": {
    "collapsed": false
   },
   "id": "dc8f784eb1472ed2"
  },
  {
   "cell_type": "code",
   "execution_count": null,
   "outputs": [],
   "source": [
    "df = pd.read_excel(MACHINE_LEARNING_DATASET_PATH)\n",
    "x_feature = Column.GOV_INSTABILITY\n",
    "y_feature = Column.GDP_PC\n",
    "\n",
    "df_2_features = df[[x_feature, y_feature, Column.COUNTRY_RISK]]\n",
    "_, _, test = split_data(df_2_features)\n",
    "scaled_test, x_test, test_labels = scale_dataset(test, oversample=False)"
   ],
   "metadata": {
    "collapsed": false
   },
   "id": "1ab2fec2557de92c"
  },
  {
   "cell_type": "markdown",
   "source": [
    "## 2. FNN"
   ],
   "metadata": {
    "collapsed": false
   },
   "id": "a724fbbefb96400d"
  },
  {
   "cell_type": "code",
   "execution_count": null,
   "outputs": [],
   "source": [
    "def subplot_scatter(ax, data: pd.DataFrame, risk_col: Column | str, title: str) -> None:\n",
    "    low = data[data[risk_col] == 1]\n",
    "    med = data[data[risk_col] == 2]\n",
    "    hig = data[data[risk_col] == 3]\n",
    "    \n",
    "    l = ax.scatter(low[x_feature], low[y_feature], color=\"green\")\n",
    "    m = ax.scatter(med[x_feature], med[y_feature], color=\"yellow\")\n",
    "    h = ax.scatter(hig[x_feature], hig[y_feature], color=\"red\")\n",
    "    \n",
    "    ax.legend([l, m, h], (\"low\", \"medium\", \"high\"), loc=\"best\")\n",
    "    ax.grid(True)\n",
    "    ax.set_xlabel(x_feature.get_description())\n",
    "    ax.set_ylabel(y_feature.get_description())\n",
    "    ax.title.set_text(title)"
   ],
   "metadata": {
    "collapsed": false
   },
   "id": "a722465122079f11"
  },
  {
   "cell_type": "code",
   "execution_count": null,
   "outputs": [],
   "source": [
    "def tune_fnn_model(df, layers, units, dropout_rates, learning_rates):\n",
    "    least_val_loss = float('inf')\n",
    "    least_val_loss_params = []\n",
    "    \n",
    "    i = 1 \n",
    "    max = len(layers) * len(units) * len(dropout_rates) * len(learning_rates)\n",
    "    for l in layers:\n",
    "        for u in units:\n",
    "            for dr in dropout_rates:\n",
    "                for lr in learning_rates:  \n",
    "                    print(f\"[{i}/{max}] Layers: {l}; Units: {u}; Dropout rate: {dr}; Learning rate: {lr};\")\n",
    "                    \n",
    "                    model, _, _ = train_fnn_model(\n",
    "                        df, \n",
    "                        epochs=100, \n",
    "                        patience=20, \n",
    "                        layers=l, \n",
    "                        units=u,\n",
    "                        dropout_rate=dr,\n",
    "                        learning_rate=lr,\n",
    "                        verbose=0,\n",
    "                        disable_save=True,\n",
    "                        disable_plot_history=True,\n",
    "                        disable_print_report=True)\n",
    "                    \n",
    "                    val_loss, val_acc = model.evaluate(x_test, test_labels)\n",
    "                    print(f\"Loss: {val_loss}; Accuracy: {val_acc};\")\n",
    "                    if val_loss < least_val_loss:\n",
    "                        model.save(os.path.join(os.environ[\"OUTPUT_PATH\"], \"Risk_factor_dnn_model_per_feature.keras\"))\n",
    "                        least_val_loss = val_loss\n",
    "                        least_val_loss_params = [l, u, dr, lr]\n",
    "                        \n",
    "                    i += 1\n",
    "                        \n",
    "    print(least_val_loss_params)\n",
    "    print(least_val_loss)"
   ],
   "metadata": {
    "collapsed": false
   },
   "id": "874d1d7b8646d8a1"
  },
  {
   "cell_type": "markdown",
   "source": [
    "### 2.1 Tuning"
   ],
   "metadata": {
    "collapsed": false
   },
   "id": "e494775265ff49be"
  },
  {
   "cell_type": "code",
   "execution_count": null,
   "outputs": [],
   "source": [
    "tune_fnn_model(\n",
    "        df=df_2_features,\n",
    "        layers=[2, 3, 4, 5], # 1, 2, 3\n",
    "        units=[32, 64, 96, 128], # 8, 16, 32, 64\n",
    "        dropout_rates=[0.2],\n",
    "        learning_rates=[0.0015, 0.00175], # 0.001, 0.0015, 0.002  \n",
    "    )"
   ],
   "metadata": {
    "collapsed": false
   },
   "id": "8bfb355bcd2d2dd3"
  },
  {
   "cell_type": "markdown",
   "source": [
    "### 2.2 Manual tuning"
   ],
   "metadata": {
    "collapsed": false
   },
   "id": "e8292e4fcdfd6fe3"
  },
  {
   "cell_type": "code",
   "execution_count": null,
   "outputs": [],
   "source": [
    "train_fnn_model(\n",
    "                df_2_features, \n",
    "                epochs=100, \n",
    "                patience=20, \n",
    "                layers=3, \n",
    "                units=128,\n",
    "                dropout_rate=0.2,\n",
    "                learning_rate=0.0015,\n",
    "                verbose=2)"
   ],
   "metadata": {
    "collapsed": false
   },
   "id": "5d107b8c578a879d"
  },
  {
   "cell_type": "markdown",
   "source": [
    "### 2.3 Plotting"
   ],
   "metadata": {
    "collapsed": false
   },
   "id": "800e8f01a7c89715"
  },
  {
   "cell_type": "code",
   "execution_count": null,
   "outputs": [],
   "source": [
    "model_file = \"fnn_model.keras\" \n",
    "    # \"gov-inst_gdp-pc_3_128_0.2_0.00175.keras\"\n",
    "    # \"pol_gdp-pc_4_128_0.2_0.0015.keras\"\n",
    "model = load_model(os.path.join(os.environ[\"OUTPUT_PATH\"], model_file))\n",
    "\n",
    "y_pred = model.predict(x_test).argmax(axis=1)\n",
    "print(classification_report(test_labels, y_pred))\n",
    "\n",
    "result = test \n",
    "result[\"predicted_country_risk\"] = y_pred\n",
    "\n",
    "fig, ((ax1, ax2), (ax3, ax4)) = plt.subplots(2, 2, figsize=(20, 10))\n",
    "subplot_scatter(ax1, result, \"predicted_country_risk\", \"Predicted\")\n",
    "subplot_scatter(ax2, result, \"country_risk\", \"Actual\")\n",
    "\n",
    "wrong = result[y_pred != test_labels]\n",
    "subplot_scatter(ax3, wrong, \"predicted_country_risk\", \"Wrong - Predicted\")\n",
    "subplot_scatter(ax4, wrong, \"country_risk\", \"Wrong - Actual\")\n",
    "\n",
    "plt.show()"
   ],
   "metadata": {
    "collapsed": false
   },
   "id": "65f7b41f95d7dd65"
  },
  {
   "cell_type": "code",
   "execution_count": null,
   "outputs": [],
   "source": [],
   "metadata": {
    "collapsed": false
   },
   "id": "8fa334d2b4f599fa"
  }
 ],
 "metadata": {
  "kernelspec": {
   "display_name": "Python 3",
   "language": "python",
   "name": "python3"
  },
  "language_info": {
   "codemirror_mode": {
    "name": "ipython",
    "version": 2
   },
   "file_extension": ".py",
   "mimetype": "text/x-python",
   "name": "python",
   "nbconvert_exporter": "python",
   "pygments_lexer": "ipython2",
   "version": "2.7.6"
  }
 },
 "nbformat": 4,
 "nbformat_minor": 5
}
