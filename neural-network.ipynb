{
 "cells": [
  {
   "cell_type": "code",
   "execution_count": null,
   "id": "initial_id",
   "metadata": {},
   "outputs": [],
   "source": [
    "import matplotlib.pyplot as plt\n",
    "import pandas as pd\n",
    "from sklearn.preprocessing import StandardScaler\n",
    "from sklearn.metrics import classification_report\n",
    "from imblearn.over_sampling import RandomOverSampler\n",
    "import numpy as np\n",
    "import os\n",
    "import math"
   ]
  },
  {
   "cell_type": "code",
   "execution_count": null,
   "outputs": [],
   "source": [
    "df = pd.read_excel(\"./MachineLearning-Dataset-V1.xlsx\")"
   ],
   "metadata": {
    "collapsed": false
   },
   "id": "5234c15179609083"
  },
  {
   "cell_type": "code",
   "execution_count": null,
   "id": "8717e40efcd20d79",
   "metadata": {
    "collapsed": false
   },
   "outputs": [],
   "source": [
    "def scale_dataset(dataframe: pd.DataFrame, oversample: bool = False):\n",
    "    # if target column is the last value\n",
    "    X = dataframe[dataframe.columns[:-1]].values\n",
    "    y = dataframe[dataframe.columns[-1]].values\n",
    "\n",
    "    scaler = StandardScaler()\n",
    "    X = scaler.fit_transform(X)\n",
    "\n",
    "    if oversample:\n",
    "        ros = RandomOverSampler()\n",
    "        X, y = ros.fit_resample(X, y)\n",
    "\n",
    "    data = np.hstack((X, np.reshape(y, (-1, 1))))\n",
    "    return data, X, y"
   ]
  },
  {
   "cell_type": "code",
   "execution_count": null,
   "outputs": [],
   "source": [
    "def _get_last_layer_units_and_activation(num_classes):\n",
    "    \"\"\"Gets the # units and activation function for the last network layer.\n",
    "\n",
    "    # Arguments\n",
    "        num_classes: int, number of classes.\n",
    "\n",
    "    # Returns\n",
    "        units, activation values.\n",
    "    \"\"\"\n",
    "    if num_classes == 2:\n",
    "        activation = \"sigmoid\"\n",
    "        units = 1\n",
    "    else:\n",
    "        activation = \"softmax\"\n",
    "        units = num_classes\n",
    "    return units, activation"
   ],
   "metadata": {
    "collapsed": false
   },
   "id": "f5aeee7bfa41efbb"
  },
  {
   "cell_type": "code",
   "execution_count": null,
   "outputs": [],
   "source": [
    "def plot_history(history, num_classes):\n",
    "    fig, (ax1, ax2) = plt.subplots(1, 2, figsize=(10, 4))\n",
    "    ax1.plot(history[\"loss\"], label=\"loss\")\n",
    "    ax1.plot(history[\"val_loss\"], label=\"val_loss\")\n",
    "    ax1.set_xlabel(\"Epoch\")\n",
    "    if num_classes == 2:\n",
    "        ax1.set_ylabel(\"Binary crossentropy\")\n",
    "    else:\n",
    "        ax1.set_ylabel(\"Sparse categorical crossentropy\")\n",
    "    ax1.grid(True)\n",
    "\n",
    "    ax2.plot(history[\"acc\"], label=\"accuracy\")\n",
    "    ax2.plot(history[\"val_acc\"], label=\"val_accuracy\")\n",
    "    ax2.set_xlabel(\"Epoch\")\n",
    "    ax2.set_ylabel(\"Accuracy\")\n",
    "    ax2.grid(True)\n",
    "\n",
    "    plt.show()"
   ],
   "metadata": {
    "collapsed": false
   },
   "id": "d9054d771de05cae"
  },
  {
   "cell_type": "code",
   "execution_count": null,
   "outputs": [],
   "source": [
    "from tensorflow.keras import models\n",
    "from tensorflow.keras.layers import Dense\n",
    "from tensorflow.keras.layers import Dropout\n",
    "\n",
    "def mlp_model(layers, units, dropout_rate, input_shape, num_classes):\n",
    "    \"\"\"Creates an instance of a multi-layer perceptron model.\n",
    "\n",
    "    # Arguments\n",
    "        layers: int, number of `Dense` layers in the model.\n",
    "        units: int, output dimension of the layers.\n",
    "        dropout_rate: float, percentage of input to drop at Dropout layers.\n",
    "        input_shape: tuple, shape of input to the model.\n",
    "        num_classes: int, number of output classes.\n",
    "\n",
    "    # Returns\n",
    "        An MLP model instance.\n",
    "    \"\"\"\n",
    "    op_units, op_activation = _get_last_layer_units_and_activation(num_classes)\n",
    "    model = models.Sequential()\n",
    "    model.add(Dropout(rate=dropout_rate, input_shape=input_shape))\n",
    "\n",
    "    for _ in range(layers-1):\n",
    "        model.add(Dense(units=units, activation=\"relu\"))\n",
    "        model.add(Dropout(rate=dropout_rate))\n",
    "\n",
    "    model.add(Dense(units=op_units, activation=op_activation))\n",
    "    return model"
   ],
   "metadata": {
    "collapsed": false
   },
   "id": "50dc5033d4b5bd1c"
  },
  {
   "cell_type": "code",
   "execution_count": 107,
   "outputs": [],
   "source": [
    "def train_ngram_model(df,\n",
    "                      learning_rate=1e-3,\n",
    "                      epochs=1000,\n",
    "                      batch_size=128,\n",
    "                      layers=2,\n",
    "                      units=64,\n",
    "                      dropout_rate=0.2):\n",
    "    \"\"\"Trains n-gram model on the given dataset.\n",
    "\n",
    "    # Arguments\n",
    "        df: pandas dataframe containing train, test and validation data.\n",
    "        learning_rate: float, learning rate for training model.\n",
    "        epochs: int, number of epochs.\n",
    "        batch_size: int, number of samples per batch.\n",
    "        layers: int, number of `Dense` layers in the model.\n",
    "        units: int, output dimension of Dense layers in the model.\n",
    "        dropout_rate: float: percentage of input to drop at Dropout layers.\n",
    "\n",
    "    # Raises\n",
    "        ValueError: If validation data has label values which were not seen\n",
    "            in the training data.\n",
    "    \"\"\"\n",
    "    # Get the data. (train (60%), validation (20%) and test (20%) datasets)\n",
    "    train, valid, test = np.split(df.sample(frac=1), [int(0.6 * len(df)), int(0.8 * len(df))])\n",
    "\n",
    "    train, x_train, train_labels = scale_dataset(train, oversample=True)\n",
    "    valid, x_val, val_labels = scale_dataset(valid, oversample=False)\n",
    "    test, x_test, test_labels = scale_dataset(test, oversample=False)\n",
    "\n",
    "    # Verify that validation labels are in the same range as training labels.\n",
    "    num_classes = len(np.unique(df[df.columns[-1]].values)) + 1\n",
    "    unexpected_labels = [v for v in val_labels if v not in range(num_classes)]\n",
    "    if len(unexpected_labels):\n",
    "        raise ValueError(\"Unexpected label values found in the validation set:\"\n",
    "                         \" {unexpected_labels}. Please make sure that the \"\n",
    "                         \"labels in the validation set are in the same range \"\n",
    "                         \"as training labels.\".format(\n",
    "                             unexpected_labels=unexpected_labels))\n",
    "\n",
    "    # Create model instance.\n",
    "    model = mlp_model(layers=layers,\n",
    "                        units=units,\n",
    "                        dropout_rate=dropout_rate,\n",
    "                        input_shape=x_train.shape[1:],\n",
    "                        num_classes=num_classes)\n",
    "\n",
    "    # Compile model with learning parameters.\n",
    "    if num_classes == 2:\n",
    "        loss = \"binary_crossentropy\"\n",
    "    else:\n",
    "        loss = \"sparse_categorical_crossentropy\"\n",
    "    optimizer = tf.keras.optimizers.Adam(learning_rate=learning_rate)\n",
    "    model.compile(optimizer=optimizer, loss=loss, metrics=[\"acc\"])\n",
    "\n",
    "    # Create callback for early stopping on validation loss. If the loss does\n",
    "    # not decrease in two consecutive tries, stop training.\n",
    "    callbacks = [tf.keras.callbacks.EarlyStopping(\n",
    "        monitor=\"val_loss\", patience=2)]\n",
    "\n",
    "    # Train and validate model.\n",
    "    history = model.fit(\n",
    "            x_train,\n",
    "            train_labels,\n",
    "            epochs=epochs,\n",
    "            callbacks=callbacks,\n",
    "            validation_data=(x_val, val_labels),\n",
    "            verbose=2,  # Logs once per epoch.\n",
    "            batch_size=batch_size)\n",
    "\n",
    "    # Print results.\n",
    "    history = history.history\n",
    "    print(\"Validation accuracy: {acc}, loss: {loss}\".format(\n",
    "            acc=history[\"val_acc\"][-1], loss=history[\"val_loss\"][-1]))\n",
    "    plot_history(history, num_classes)\n",
    "\n",
    "    # Save model.\n",
    "    model.save(os.path.join(os.environ[\"OUTPUT_PATH\"], \"Risk_factor_mlp_model.keras\"))\n",
    "    return history[\"val_acc\"][-1], history[\"val_loss\"][-1]"
   ],
   "metadata": {
    "collapsed": false,
    "ExecuteTime": {
     "end_time": "2023-11-23T15:27:18.034042800Z",
     "start_time": "2023-11-23T15:27:18.028273700Z"
    }
   },
   "id": "167b007c00aea45d"
  },
  {
   "cell_type": "code",
   "execution_count": 108,
   "outputs": [
    {
     "name": "stdout",
     "output_type": "stream",
     "text": [
      "Epoch 1/100\n"
     ]
    },
    {
     "name": "stderr",
     "output_type": "stream",
     "text": [
      "/usr/local/lib/python3.11/dist-packages/numpy/core/fromnumeric.py:59: FutureWarning: 'DataFrame.swapaxes' is deprecated and will be removed in a future version. Please use 'DataFrame.transpose' instead.\n",
      "  return bound(*args, **kwds)\n"
     ]
    },
    {
     "name": "stdout",
     "output_type": "stream",
     "text": [
      "77/77 - 1s - loss: 1.0931 - acc: 0.5618 - val_loss: 0.8586 - val_acc: 0.5980 - 816ms/epoch - 11ms/step\n",
      "Epoch 2/100\n",
      "77/77 - 0s - loss: 0.6182 - acc: 0.7628 - val_loss: 0.6430 - val_acc: 0.7010 - 161ms/epoch - 2ms/step\n",
      "Epoch 3/100\n",
      "77/77 - 0s - loss: 0.5181 - acc: 0.7835 - val_loss: 0.5520 - val_acc: 0.7478 - 266ms/epoch - 3ms/step\n",
      "Epoch 4/100\n",
      "77/77 - 0s - loss: 0.4733 - acc: 0.7985 - val_loss: 0.4962 - val_acc: 0.7806 - 148ms/epoch - 2ms/step\n",
      "Epoch 5/100\n",
      "77/77 - 0s - loss: 0.4514 - acc: 0.8028 - val_loss: 0.4759 - val_acc: 0.7839 - 151ms/epoch - 2ms/step\n",
      "Epoch 6/100\n",
      "77/77 - 0s - loss: 0.4337 - acc: 0.8072 - val_loss: 0.4525 - val_acc: 0.7946 - 146ms/epoch - 2ms/step\n",
      "Epoch 7/100\n",
      "77/77 - 0s - loss: 0.4157 - acc: 0.8184 - val_loss: 0.4500 - val_acc: 0.7940 - 146ms/epoch - 2ms/step\n",
      "Epoch 8/100\n",
      "77/77 - 0s - loss: 0.4062 - acc: 0.8206 - val_loss: 0.4221 - val_acc: 0.8054 - 189ms/epoch - 2ms/step\n",
      "Epoch 9/100\n",
      "77/77 - 0s - loss: 0.4032 - acc: 0.8180 - val_loss: 0.4006 - val_acc: 0.8181 - 199ms/epoch - 3ms/step\n",
      "Epoch 10/100\n",
      "77/77 - 0s - loss: 0.3990 - acc: 0.8221 - val_loss: 0.3927 - val_acc: 0.8214 - 168ms/epoch - 2ms/step\n",
      "Epoch 11/100\n",
      "77/77 - 0s - loss: 0.3955 - acc: 0.8238 - val_loss: 0.3792 - val_acc: 0.8281 - 128ms/epoch - 2ms/step\n",
      "Epoch 12/100\n",
      "77/77 - 0s - loss: 0.3877 - acc: 0.8272 - val_loss: 0.4091 - val_acc: 0.8074 - 131ms/epoch - 2ms/step\n",
      "Epoch 13/100\n",
      "77/77 - 0s - loss: 0.3800 - acc: 0.8299 - val_loss: 0.3769 - val_acc: 0.8268 - 155ms/epoch - 2ms/step\n",
      "Epoch 14/100\n",
      "77/77 - 0s - loss: 0.3809 - acc: 0.8297 - val_loss: 0.3768 - val_acc: 0.8227 - 152ms/epoch - 2ms/step\n",
      "Epoch 15/100\n",
      "77/77 - 0s - loss: 0.3760 - acc: 0.8359 - val_loss: 0.3702 - val_acc: 0.8281 - 240ms/epoch - 3ms/step\n",
      "Epoch 16/100\n",
      "77/77 - 0s - loss: 0.3672 - acc: 0.8379 - val_loss: 0.3673 - val_acc: 0.8281 - 192ms/epoch - 2ms/step\n",
      "Epoch 17/100\n",
      "77/77 - 0s - loss: 0.3713 - acc: 0.8329 - val_loss: 0.3618 - val_acc: 0.8334 - 152ms/epoch - 2ms/step\n",
      "Epoch 18/100\n",
      "77/77 - 0s - loss: 0.3697 - acc: 0.8344 - val_loss: 0.3863 - val_acc: 0.8167 - 255ms/epoch - 3ms/step\n",
      "Epoch 19/100\n",
      "77/77 - 0s - loss: 0.3730 - acc: 0.8311 - val_loss: 0.3539 - val_acc: 0.8368 - 247ms/epoch - 3ms/step\n",
      "Epoch 20/100\n",
      "77/77 - 0s - loss: 0.3634 - acc: 0.8385 - val_loss: 0.3529 - val_acc: 0.8348 - 199ms/epoch - 3ms/step\n",
      "Epoch 21/100\n",
      "77/77 - 0s - loss: 0.3690 - acc: 0.8377 - val_loss: 0.3473 - val_acc: 0.8381 - 174ms/epoch - 2ms/step\n",
      "Epoch 22/100\n",
      "77/77 - 0s - loss: 0.3642 - acc: 0.8367 - val_loss: 0.3479 - val_acc: 0.8348 - 152ms/epoch - 2ms/step\n",
      "Epoch 23/100\n",
      "77/77 - 0s - loss: 0.3625 - acc: 0.8401 - val_loss: 0.3650 - val_acc: 0.8241 - 174ms/epoch - 2ms/step\n",
      "Validation accuracy: 0.8240802884101868, loss: 0.36503472924232483\n"
     ]
    },
    {
     "data": {
      "text/plain": "<Figure size 1000x400 with 2 Axes>",
      "image/png": "[encoded data removed]"
     },
     "metadata": {},
     "output_type": "display_data"
    },
    {
     "data": {
      "text/plain": "(0.8240802884101868, 0.36503472924232483)"
     },
     "execution_count": 108,
     "metadata": {},
     "output_type": "execute_result"
    }
   ],
   "source": [
    "train_ngram_model(df, epochs=100)"
   ],
   "metadata": {
    "collapsed": false,
    "ExecuteTime": {
     "end_time": "2023-11-23T15:27:23.810036300Z",
     "start_time": "2023-11-23T15:27:18.524856800Z"
    }
   },
   "id": "e92014b076fdecb1"
  }
 ],
 "metadata": {
  "kernelspec": {
   "display_name": "Python 3 (ipykernel)",
   "language": "python",
   "name": "python3"
  },
  "language_info": {
   "codemirror_mode": {
    "name": "ipython",
    "version": 3
   },
   "file_extension": ".py",
   "mimetype": "text/x-python",
   "name": "python",
   "nbconvert_exporter": "python",
   "pygments_lexer": "ipython3",
   "version": "3.11.0rc1"
  }
 },
 "nbformat": 4,
 "nbformat_minor": 5
}
