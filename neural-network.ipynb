{
 "cells": [
  {
   "cell_type": "code",
   "execution_count": 1,
   "id": "initial_id",
   "metadata": {
    "ExecuteTime": {
     "end_time": "2023-11-24T22:19:36.290103700Z",
     "start_time": "2023-11-24T22:19:27.668056800Z"
    }
   },
   "outputs": [
    {
     "name": "stderr",
     "output_type": "stream",
     "text": [
      "2023-11-24 22:19:29.085212: I tensorflow/core/util/port.cc:113] oneDNN custom operations are on. You may see slightly different numerical results due to floating-point round-off errors from different computation orders. To turn them off, set the environment variable `TF_ENABLE_ONEDNN_OPTS=0`.\n",
      "2023-11-24 22:19:30.413452: I tensorflow/core/platform/cpu_feature_guard.cc:182] This TensorFlow binary is optimized to use available CPU instructions in performance-critical operations.\n",
      "To enable the following instructions: AVX2 AVX512F AVX512_VNNI FMA, in other operations, rebuild TensorFlow with the appropriate compiler flags.\n"
     ]
    }
   ],
   "source": [
    "import tensorflow as tf\n",
    "import matplotlib.pyplot as plt\n",
    "import pandas as pd\n",
    "from sklearn.preprocessing import StandardScaler\n",
    "from sklearn.metrics import classification_report\n",
    "from imblearn.over_sampling import RandomOverSampler\n",
    "from configs.enums import RiskClassifications\n",
    "import numpy as np\n",
    "import os\n",
    "import warnings\n",
    "warnings.simplefilter(action='ignore', category=FutureWarning)"
   ]
  },
  {
   "cell_type": "code",
   "execution_count": 2,
   "outputs": [],
   "source": [
    "def split_data(dataframe: pd.DataFrame):\n",
    "    data_by_risk = [dataframe[dataframe[\"country_risk\"] == v] for v in RiskClassifications.get_values()]\n",
    "    split_data = [\n",
    "        # Train (60%), validation (20%) and test (20%) datasets\n",
    "        np.split(sd.sample(frac=1, random_state=0), [int(0.6 * len(sd)), int(0.8 * len(sd))])\n",
    "        for sd\n",
    "        in data_by_risk\n",
    "    ]\n",
    "\n",
    "    train = pd.concat([row[0] for row in split_data])\n",
    "    valid = pd.concat([row[1] for row in split_data])\n",
    "    test = pd.concat([row[2] for row in split_data])\n",
    "\n",
    "    return train, valid, test"
   ],
   "metadata": {
    "collapsed": false,
    "ExecuteTime": {
     "end_time": "2023-11-24T22:19:36.304289200Z",
     "start_time": "2023-11-24T22:19:36.289591700Z"
    }
   },
   "id": "11aa8f9a552b761f"
  },
  {
   "cell_type": "code",
   "execution_count": 3,
   "id": "8717e40efcd20d79",
   "metadata": {
    "collapsed": false,
    "ExecuteTime": {
     "end_time": "2023-11-24T22:19:36.305860800Z",
     "start_time": "2023-11-24T22:19:36.303769500Z"
    }
   },
   "outputs": [],
   "source": [
    "def scale_dataset(dataframe: pd.DataFrame, oversample: bool = False):\n",
    "    # if target column is the last value\n",
    "    x = dataframe[dataframe.columns[:-1]].values\n",
    "    y = dataframe[dataframe.columns[-1]].values\n",
    "\n",
    "    scaler = StandardScaler()\n",
    "    x = scaler.fit_transform(x)\n",
    "\n",
    "    if oversample:\n",
    "        ros = RandomOverSampler()\n",
    "        x, y = ros.fit_resample(x, y)\n",
    "\n",
    "    data = np.hstack((x, np.reshape(y, (-1, 1))))\n",
    "    return data, x, y"
   ]
  },
  {
   "cell_type": "code",
   "execution_count": 4,
   "outputs": [],
   "source": [
    "df = pd.read_excel(\"./MachineLearning-Dataset-V1.xlsx\")\n",
    "train, valid, test = split_data(df)\n",
    "test, x_test, test_labels = scale_dataset(test, oversample=False)"
   ],
   "metadata": {
    "collapsed": false,
    "ExecuteTime": {
     "end_time": "2023-11-24T22:19:37.848207200Z",
     "start_time": "2023-11-24T22:19:36.304289200Z"
    }
   },
   "id": "e9e3b783640832f"
  },
  {
   "cell_type": "markdown",
   "source": [
    "## Utility"
   ],
   "metadata": {
    "collapsed": false
   },
   "id": "671ca05d0d7aa9c2"
  },
  {
   "cell_type": "code",
   "execution_count": 5,
   "outputs": [],
   "source": [
    "def _get_last_layer_units_and_activation(num_classes):\n",
    "    \"\"\"Gets the # units and activation function for the last network layer.\n",
    "\n",
    "    # Arguments\n",
    "        num_classes: int, number of classes.\n",
    "\n",
    "    # Returns\n",
    "        units, activation values.\n",
    "    \"\"\"\n",
    "    if num_classes == 2:\n",
    "        activation = \"sigmoid\"\n",
    "        units = 1\n",
    "    else:\n",
    "        activation = \"softmax\"\n",
    "        units = num_classes\n",
    "    return units, activation"
   ],
   "metadata": {
    "collapsed": false,
    "ExecuteTime": {
     "end_time": "2023-11-24T22:19:37.861146100Z",
     "start_time": "2023-11-24T22:19:37.851960Z"
    }
   },
   "id": "ae952a3bbd35069f"
  },
  {
   "cell_type": "code",
   "execution_count": 6,
   "outputs": [],
   "source": [
    "def plot_history(history, num_classes):\n",
    "    fig, (ax1, ax2) = plt.subplots(1, 2, figsize=(10, 4))\n",
    "    ax1.plot(history[\"loss\"], label=\"loss\")\n",
    "    ax1.plot(history[\"val_loss\"], label=\"val_loss\")\n",
    "    ax1.set_xlabel(\"Epoch\")\n",
    "    if num_classes == 2:\n",
    "        ax1.set_ylabel(\"Binary crossentropy\")\n",
    "    else:\n",
    "        ax1.set_ylabel(\"Sparse categorical crossentropy\")\n",
    "    ax1.grid(True)\n",
    "\n",
    "    ax2.plot(history[\"acc\"], label=\"accuracy\")\n",
    "    ax2.plot(history[\"val_acc\"], label=\"val_accuracy\")\n",
    "    ax2.set_xlabel(\"Epoch\")\n",
    "    ax2.set_ylabel(\"Accuracy\")\n",
    "    ax2.grid(True)\n",
    "\n",
    "    plt.show()"
   ],
   "metadata": {
    "collapsed": false,
    "ExecuteTime": {
     "end_time": "2023-11-24T22:19:37.864908500Z",
     "start_time": "2023-11-24T22:19:37.859853700Z"
    }
   },
   "id": "3520caad832e8307"
  },
  {
   "cell_type": "markdown",
   "source": [
    "## Deep Neural Network (DNN) "
   ],
   "metadata": {
    "collapsed": false
   },
   "id": "4576bd762e555588"
  },
  {
   "cell_type": "code",
   "execution_count": 7,
   "outputs": [],
   "source": [
    "from tensorflow.keras import models\n",
    "from tensorflow.keras.layers import Dense\n",
    "from tensorflow.keras.layers import Dropout\n",
    "\n",
    "def dnn_model(layers, units, dropout_rate, input_shape, num_classes):\n",
    "    \"\"\"Creates an instance of a DNN model.\n",
    "\n",
    "    # Arguments\n",
    "        layers: int, number of `Dense` layers in the model.\n",
    "        units: int, output dimension of the layers.\n",
    "        dropout_rate: float, percentage of input to drop at Dropout layers.\n",
    "        input_shape: tuple, shape of input to the model.\n",
    "        num_classes: int, number of output classes.\n",
    "\n",
    "    # Returns\n",
    "        A DNN model instance.\n",
    "    \"\"\"\n",
    "    op_units, op_activation = _get_last_layer_units_and_activation(num_classes)\n",
    "    model = models.Sequential()\n",
    "    model.add(Dropout(rate=dropout_rate, input_shape=input_shape))\n",
    "\n",
    "    for _ in range(layers-1):\n",
    "        model.add(Dense(units=units, activation=\"relu\"))\n",
    "        model.add(Dropout(rate=dropout_rate))\n",
    "\n",
    "    model.add(Dense(units=op_units, activation=op_activation))\n",
    "    return model"
   ],
   "metadata": {
    "collapsed": false,
    "ExecuteTime": {
     "end_time": "2023-11-24T22:19:37.924230900Z",
     "start_time": "2023-11-24T22:19:37.865691Z"
    }
   },
   "id": "50dc5033d4b5bd1c"
  },
  {
   "cell_type": "code",
   "execution_count": 8,
   "outputs": [],
   "source": [
    "def train_dnn_model(dataframe,\n",
    "                    learning_rate=1e-3,\n",
    "                    epochs=1000,\n",
    "                    batch_size=128,\n",
    "                    layers=2,\n",
    "                    units=64,\n",
    "                    dropout_rate=0.2,\n",
    "                    patience=2,\n",
    "                    verbose=2,\n",
    "                    disable_save=False,\n",
    "                    disable_plot_history=False,\n",
    "                    disable_print_report=False):\n",
    "    \"\"\"Trains DNN model on the given dataset.\n",
    "\n",
    "    # Arguments\n",
    "        dataframe: pandas dataframe containing train, test and validation data.\n",
    "        learning_rate: float, learning rate for training model.\n",
    "        epochs: int, number of epochs.\n",
    "        batch_size: int, number of samples per batch.\n",
    "        layers: int, number of `Dense` layers in the model.\n",
    "        units: int, output dimension of Dense layers in the model.\n",
    "        dropout_rate: float: percentage of input to drop at Dropout layers.\n",
    "\n",
    "    # Raises\n",
    "        ValueError: If validation data has label values which were not seen\n",
    "            in the training data.\n",
    "    \"\"\"\n",
    "    # Get the data.\n",
    "    train, valid, test = split_data(dataframe)\n",
    "\n",
    "    train, x_train, train_labels = scale_dataset(train, oversample=True)\n",
    "    valid, x_val, val_labels = scale_dataset(valid, oversample=False)\n",
    "    test, x_test, test_labels = scale_dataset(test, oversample=False)\n",
    "\n",
    "    # Verify that validation labels are in the same range as training labels.\n",
    "    num_classes = len(np.unique(dataframe[dataframe.columns[-1]].values)) + 1\n",
    "    unexpected_labels = [v for v in val_labels if v not in range(num_classes)]\n",
    "    if len(unexpected_labels):\n",
    "        raise ValueError(\"Unexpected label values found in the validation set:\"\n",
    "                         \" {unexpected_labels}. Please make sure that the \"\n",
    "                         \"labels in the validation set are in the same range \"\n",
    "                         \"as training labels.\".format(\n",
    "                             unexpected_labels=unexpected_labels))\n",
    "\n",
    "    # Create model instance.\n",
    "    model = dnn_model(layers=layers,\n",
    "                      units=units,\n",
    "                      dropout_rate=dropout_rate,\n",
    "                      input_shape=x_train.shape[1:],\n",
    "                      num_classes=num_classes)\n",
    "\n",
    "    # Compile model with learning parameters.\n",
    "    if num_classes == 2:\n",
    "        loss = \"binary_crossentropy\"\n",
    "    else:\n",
    "        loss = \"sparse_categorical_crossentropy\"\n",
    "    optimizer = tf.keras.optimizers.Adam(learning_rate=learning_rate)\n",
    "    model.compile(optimizer=optimizer, loss=loss, metrics=[\"acc\"])\n",
    "\n",
    "    # Create callback for early stopping on validation loss.\n",
    "    callbacks = [tf.keras.callbacks.EarlyStopping(\n",
    "        monitor=\"val_loss\", patience=patience)]\n",
    "\n",
    "    # Train and validate model.\n",
    "    history = model.fit(\n",
    "            x_train,\n",
    "            train_labels,\n",
    "            epochs=epochs,\n",
    "            callbacks=callbacks,\n",
    "            validation_data=(x_val, val_labels),\n",
    "            verbose=verbose,\n",
    "            batch_size=batch_size)\n",
    "\n",
    "    # Print results.\n",
    "    history = history.history\n",
    "    if not disable_plot_history:\n",
    "        print(\"Validation accuracy: {acc}, loss: {loss}\".format(\n",
    "                acc=history[\"val_acc\"][-1], loss=history[\"val_loss\"][-1]))\n",
    "    \n",
    "        plot_history(history, num_classes)\n",
    "    \n",
    "    if not disable_print_report:\n",
    "        y_pred = model.predict(x_test).argmax(axis=1)\n",
    "        print(classification_report(test_labels, y_pred))\n",
    "    \n",
    "    # Save model.\n",
    "    if not disable_save:\n",
    "        model.save(os.path.join(os.environ[\"OUTPUT_PATH\"], \"Risk_factor_dnn_model.keras\"))\n",
    "        \n",
    "    return model, history[\"val_acc\"][-1], history[\"val_loss\"][-1]"
   ],
   "metadata": {
    "collapsed": false,
    "ExecuteTime": {
     "end_time": "2023-11-24T22:19:37.929459900Z",
     "start_time": "2023-11-24T22:19:37.908657300Z"
    }
   },
   "id": "167b007c00aea45d"
  },
  {
   "cell_type": "code",
   "execution_count": 9,
   "outputs": [],
   "source": [
    "def tune_dnn_model(df, layers, units, dropout_rates, learning_rates):\n",
    "    least_val_loss = float('inf')\n",
    "    least_val_loss_params = []\n",
    "    \n",
    "    i = 1 \n",
    "    max = len(layers) * len(units) * len(dropout_rates) * len(learning_rates)\n",
    "    for l in layers:\n",
    "        for u in units:\n",
    "            for dr in dropout_rates:\n",
    "                for lr in learning_rates:  \n",
    "                    print(f\"[{i}/{max}] Layers: {l}; Units: {u}; Dropout rate: {dr}; Learning rate: {lr};\")\n",
    "                    \n",
    "                    model, _, _ = train_dnn_model(\n",
    "                        df, \n",
    "                        epochs=100, \n",
    "                        patience=20, \n",
    "                        layers=l, \n",
    "                        units=u,\n",
    "                        dropout_rate=dr,\n",
    "                        learning_rate=lr,\n",
    "                        verbose=0,\n",
    "                        disable_save=True,\n",
    "                        disable_plot_history=True,\n",
    "                        disable_print_report=True)\n",
    "                    \n",
    "                    val_loss, val_acc = model.evaluate(x_test, test_labels)\n",
    "                    print(f\"Loss: {val_loss}; Accuracy: {val_acc};\")\n",
    "                    if val_loss < least_val_loss:\n",
    "                        model.save(os.path.join(os.environ[\"OUTPUT_PATH\"], \"Risk_factor_dnn_model.keras\"))\n",
    "                        least_val_loss = val_loss\n",
    "                        least_val_loss_params = [l, u, dr, lr]\n",
    "                        \n",
    "                    i += 1\n",
    "                        \n",
    "    print(least_val_loss_params)\n",
    "    print(least_val_loss)"
   ],
   "metadata": {
    "collapsed": false,
    "ExecuteTime": {
     "end_time": "2023-11-24T22:19:37.930493900Z",
     "start_time": "2023-11-24T22:19:37.921550900Z"
    }
   },
   "id": "bc74cfdd9caf2bd2"
  },
  {
   "cell_type": "code",
   "execution_count": null,
   "outputs": [],
   "source": [
    "tune_dnn_model(\n",
    "        df=df,\n",
    "        layers=[1], # 1, 2, 3, 4, 5, 6\n",
    "        units=[192, 224, 256], # 8, 16, 32, 64, 96, 128, 160, 192\n",
    "        dropout_rates=[0.2], # 0.2, 0.3, 0.4, 0.5\n",
    "        learning_rates=[0.001, 0.00125, 0.0015, 0.00175, 0.002], # 0.0001, 0.0005, 0.00075, 0.001, 0.00125, 0.0015, 0.00175, 0.002  \n",
    "    )\n",
    "   "
   ],
   "metadata": {
    "collapsed": false
   },
   "id": "4b67271b9e804558"
  },
  {
   "cell_type": "code",
   "execution_count": 10,
   "outputs": [
    {
     "name": "stdout",
     "output_type": "stream",
     "text": [
      "47/47 [==============================] - 0s 2ms/step\n",
      "              precision    recall  f1-score   support\n",
      "\n",
      "           1       0.97      0.90      0.93       299\n",
      "           2       0.94      0.97      0.95      1078\n",
      "           3       0.75      0.71      0.73       119\n",
      "\n",
      "    accuracy                           0.93      1496\n",
      "   macro avg       0.89      0.86      0.87      1496\n",
      "weighted avg       0.93      0.93      0.93      1496\n"
     ]
    }
   ],
   "source": [
    "model_file = \"Adam_6_192_0.2_0.00175_0.1515021026134491_100.keras\" # \"Risk_factor_dnn_model.keras\"\n",
    "model = tf.keras.models.load_model(os.path.join(os.environ[\"OUTPUT_PATH\"], model_file))\n",
    "\n",
    "y_pred = model.predict(x_test).argmax(axis=1)\n",
    "print(classification_report(test_labels, y_pred))"
   ],
   "metadata": {
    "collapsed": false,
    "ExecuteTime": {
     "end_time": "2023-11-24T22:19:57.100841200Z",
     "start_time": "2023-11-24T22:19:55.378065800Z"
    }
   },
   "id": "d317fd2c95277a6d"
  },
  {
   "cell_type": "markdown",
   "source": [
    "## Artificial Neural Network (ANN)"
   ],
   "metadata": {
    "collapsed": false
   },
   "id": "5fd75204b32107be"
  },
  {
   "cell_type": "code",
   "execution_count": 11,
   "outputs": [],
   "source": [
    "def ann_model(units, dropout_rate, input_shape, num_classes):\n",
    "    op_units, op_activation = _get_last_layer_units_and_activation(num_classes)\n",
    "    \n",
    "    model = models.Sequential()\n",
    "    model.add(Dropout(rate=dropout_rate, input_shape=input_shape))\n",
    "    model.add(Dense(units=units, activation=\"relu\"))\n",
    "    model.add(Dropout(rate=dropout_rate))\n",
    "    model.add(Dense(units=op_units, activation=op_activation))\n",
    "    \n",
    "    return model"
   ],
   "metadata": {
    "collapsed": false,
    "ExecuteTime": {
     "end_time": "2023-11-24T22:20:09.043482600Z",
     "start_time": "2023-11-24T22:20:09.037759100Z"
    }
   },
   "id": "6c040851010e0fa"
  },
  {
   "cell_type": "code",
   "execution_count": 12,
   "outputs": [],
   "source": [
    "def train_ann_model(dataframe,\n",
    "                    learning_rate=1e-3,\n",
    "                    epochs=1000,\n",
    "                    batch_size=128,\n",
    "                    units=64,\n",
    "                    dropout_rate=0.2,\n",
    "                    patience=2,\n",
    "                    verbose=2,\n",
    "                    disable_save=False,\n",
    "                    disable_plot_history=False,\n",
    "                    disable_print_report=False):\n",
    "    # Get the data.\n",
    "    train, valid, test = split_data(dataframe)\n",
    "\n",
    "    train, x_train, train_labels = scale_dataset(train, oversample=True)\n",
    "    valid, x_val, val_labels = scale_dataset(valid, oversample=False)\n",
    "    test, x_test, test_labels = scale_dataset(test, oversample=False)\n",
    "\n",
    "    # Verify that validation labels are in the same range as training labels.\n",
    "    num_classes = len(np.unique(dataframe[dataframe.columns[-1]].values)) + 1\n",
    "    unexpected_labels = [v for v in val_labels if v not in range(num_classes)]\n",
    "    if len(unexpected_labels):\n",
    "        raise ValueError(\"Unexpected label values found in the validation set:\"\n",
    "                         \" {unexpected_labels}. Please make sure that the \"\n",
    "                         \"labels in the validation set are in the same range \"\n",
    "                         \"as training labels.\".format(\n",
    "                             unexpected_labels=unexpected_labels))\n",
    "\n",
    "    # Create model instance.\n",
    "    model = ann_model(\n",
    "                        units=units,\n",
    "                        dropout_rate=dropout_rate,\n",
    "                        input_shape=x_train.shape[1:],\n",
    "                        num_classes=num_classes)\n",
    "\n",
    "    # Compile model with learning parameters.\n",
    "    if num_classes == 2:\n",
    "        loss = \"binary_crossentropy\"\n",
    "    else:\n",
    "        loss = \"sparse_categorical_crossentropy\"\n",
    "    optimizer = tf.keras.optimizers.Adam(learning_rate=learning_rate)\n",
    "    model.compile(optimizer=optimizer, loss=loss, metrics=[\"acc\"])\n",
    "\n",
    "    # Create callback for early stopping on validation loss.\n",
    "    callbacks = [tf.keras.callbacks.EarlyStopping(\n",
    "        monitor=\"val_loss\", patience=patience)]\n",
    "\n",
    "    # Train and validate model.\n",
    "    history = model.fit(\n",
    "            x_train,\n",
    "            train_labels,\n",
    "            epochs=epochs,\n",
    "            callbacks=callbacks,\n",
    "            validation_data=(x_val, val_labels),\n",
    "            verbose=verbose,\n",
    "            batch_size=batch_size)\n",
    "\n",
    "    # Print results.\n",
    "    history = history.history\n",
    "    if not disable_plot_history:\n",
    "        print(\"Validation accuracy: {acc}, loss: {loss}\".format(\n",
    "                acc=history[\"val_acc\"][-1], loss=history[\"val_loss\"][-1]))\n",
    "    \n",
    "        plot_history(history, num_classes)\n",
    "        \n",
    "    if not disable_print_report:\n",
    "        y_pred = model.predict(x_test).argmax(axis=1)\n",
    "        print(classification_report(test_labels, y_pred))\n",
    "    \n",
    "    # Save model.\n",
    "    if not disable_save:\n",
    "        model.save(os.path.join(os.environ[\"OUTPUT_PATH\"], \"Risk_factor_ann_model.keras\"))\n",
    "        \n",
    "    return model, history[\"val_acc\"][-1], history[\"val_loss\"][-1]"
   ],
   "metadata": {
    "collapsed": false,
    "ExecuteTime": {
     "end_time": "2023-11-24T22:20:11.557434700Z",
     "start_time": "2023-11-24T22:20:11.554156400Z"
    }
   },
   "id": "9eb340b63720bee0"
  },
  {
   "cell_type": "code",
   "execution_count": 13,
   "outputs": [],
   "source": [
    "def tune_ann_model(df, units, dropout_rates, learning_rates):\n",
    "    least_val_loss = float('inf')\n",
    "    least_val_loss_params = []\n",
    "    \n",
    "    i = 1 \n",
    "    max = len(units) * len(dropout_rates) * len(learning_rates)\n",
    "    for u in units:\n",
    "        for dr in dropout_rates:\n",
    "            for lr in learning_rates:  \n",
    "                print(f\"[{i}/{max}] Units: {u}; Dropout rate: {dr}; Learning rate: {lr};\")\n",
    "                \n",
    "                model, _, _ = train_ann_model(\n",
    "                    df, \n",
    "                    epochs=100, \n",
    "                    patience=20, \n",
    "                    units=u,\n",
    "                    dropout_rate=dr,\n",
    "                    learning_rate=lr,\n",
    "                    verbose=0,\n",
    "                    disable_save=True,\n",
    "                    disable_plot_history=True,\n",
    "                    disable_print_report=True)\n",
    "                \n",
    "                val_loss, val_acc = model.evaluate(x_test, test_labels)\n",
    "                print(f\"Loss: {val_loss}; Accuracy: {val_acc};\")\n",
    "                if val_loss < least_val_loss:\n",
    "                    model.save(os.path.join(os.environ[\"OUTPUT_PATH\"], \"Risk_factor_ann_model.keras\"))\n",
    "                    least_val_loss = val_loss\n",
    "                    least_val_loss_params = [u, dr, lr]\n",
    "                    \n",
    "                i += 1\n",
    "                        \n",
    "    print(least_val_loss_params)\n",
    "    print(least_val_loss)"
   ],
   "metadata": {
    "collapsed": false,
    "ExecuteTime": {
     "end_time": "2023-11-24T22:20:16.212636800Z",
     "start_time": "2023-11-24T22:20:16.200251600Z"
    }
   },
   "id": "c122afc22e125abf"
  },
  {
   "cell_type": "code",
   "execution_count": 15,
   "outputs": [
    {
     "name": "stdout",
     "output_type": "stream",
     "text": [
      "Epoch 1/100\n",
      "76/76 - 1s - loss: 0.5705 - acc: 0.7665 - val_loss: 0.4970 - val_acc: 0.7545 - 529ms/epoch - 7ms/step\n",
      "Epoch 2/100\n",
      "76/76 - 0s - loss: 0.3864 - acc: 0.8318 - val_loss: 0.4280 - val_acc: 0.8080 - 190ms/epoch - 3ms/step\n",
      "Epoch 3/100\n",
      "76/76 - 0s - loss: 0.3596 - acc: 0.8367 - val_loss: 0.4169 - val_acc: 0.7967 - 168ms/epoch - 2ms/step\n",
      "Epoch 4/100\n",
      "76/76 - 0s - loss: 0.3453 - acc: 0.8440 - val_loss: 0.3520 - val_acc: 0.8515 - 150ms/epoch - 2ms/step\n",
      "Epoch 5/100\n",
      "76/76 - 0s - loss: 0.3457 - acc: 0.8479 - val_loss: 0.3423 - val_acc: 0.8542 - 149ms/epoch - 2ms/step\n",
      "Epoch 6/100\n",
      "76/76 - 0s - loss: 0.3387 - acc: 0.8483 - val_loss: 0.3073 - val_acc: 0.8803 - 142ms/epoch - 2ms/step\n",
      "Epoch 7/100\n",
      "76/76 - 0s - loss: 0.3380 - acc: 0.8477 - val_loss: 0.3230 - val_acc: 0.8615 - 141ms/epoch - 2ms/step\n",
      "Epoch 8/100\n",
      "76/76 - 0s - loss: 0.3301 - acc: 0.8490 - val_loss: 0.3180 - val_acc: 0.8749 - 163ms/epoch - 2ms/step\n",
      "Epoch 9/100\n",
      "76/76 - 0s - loss: 0.3302 - acc: 0.8520 - val_loss: 0.3356 - val_acc: 0.8555 - 136ms/epoch - 2ms/step\n",
      "Epoch 10/100\n",
      "76/76 - 0s - loss: 0.3234 - acc: 0.8548 - val_loss: 0.3725 - val_acc: 0.8355 - 141ms/epoch - 2ms/step\n",
      "Epoch 11/100\n",
      "76/76 - 0s - loss: 0.3216 - acc: 0.8558 - val_loss: 0.3307 - val_acc: 0.8535 - 144ms/epoch - 2ms/step\n",
      "Epoch 12/100\n",
      "76/76 - 0s - loss: 0.3149 - acc: 0.8612 - val_loss: 0.3154 - val_acc: 0.8669 - 153ms/epoch - 2ms/step\n",
      "Epoch 13/100\n",
      "76/76 - 0s - loss: 0.3166 - acc: 0.8582 - val_loss: 0.2679 - val_acc: 0.8957 - 142ms/epoch - 2ms/step\n",
      "Epoch 14/100\n",
      "76/76 - 0s - loss: 0.3246 - acc: 0.8539 - val_loss: 0.2730 - val_acc: 0.8916 - 156ms/epoch - 2ms/step\n",
      "Epoch 15/100\n",
      "76/76 - 0s - loss: 0.3196 - acc: 0.8571 - val_loss: 0.2982 - val_acc: 0.8722 - 158ms/epoch - 2ms/step\n",
      "Epoch 16/100\n",
      "76/76 - 0s - loss: 0.3132 - acc: 0.8613 - val_loss: 0.2726 - val_acc: 0.8876 - 148ms/epoch - 2ms/step\n",
      "Epoch 17/100\n",
      "76/76 - 0s - loss: 0.3154 - acc: 0.8592 - val_loss: 0.2893 - val_acc: 0.8689 - 136ms/epoch - 2ms/step\n",
      "Epoch 18/100\n",
      "76/76 - 0s - loss: 0.3138 - acc: 0.8634 - val_loss: 0.2633 - val_acc: 0.8896 - 141ms/epoch - 2ms/step\n",
      "Epoch 19/100\n",
      "76/76 - 0s - loss: 0.3070 - acc: 0.8678 - val_loss: 0.2705 - val_acc: 0.8876 - 153ms/epoch - 2ms/step\n",
      "Epoch 20/100\n",
      "76/76 - 0s - loss: 0.3138 - acc: 0.8638 - val_loss: 0.2616 - val_acc: 0.8957 - 134ms/epoch - 2ms/step\n",
      "Epoch 21/100\n",
      "76/76 - 0s - loss: 0.3057 - acc: 0.8646 - val_loss: 0.2469 - val_acc: 0.9077 - 134ms/epoch - 2ms/step\n",
      "Epoch 22/100\n",
      "76/76 - 0s - loss: 0.3019 - acc: 0.8653 - val_loss: 0.2672 - val_acc: 0.8916 - 145ms/epoch - 2ms/step\n",
      "Epoch 23/100\n",
      "76/76 - 0s - loss: 0.3004 - acc: 0.8707 - val_loss: 0.2731 - val_acc: 0.8849 - 138ms/epoch - 2ms/step\n",
      "Epoch 24/100\n",
      "76/76 - 0s - loss: 0.3044 - acc: 0.8671 - val_loss: 0.2449 - val_acc: 0.8963 - 136ms/epoch - 2ms/step\n",
      "Epoch 25/100\n",
      "76/76 - 0s - loss: 0.3021 - acc: 0.8667 - val_loss: 0.2408 - val_acc: 0.8936 - 142ms/epoch - 2ms/step\n",
      "Epoch 26/100\n",
      "76/76 - 0s - loss: 0.2966 - acc: 0.8654 - val_loss: 0.2567 - val_acc: 0.8943 - 141ms/epoch - 2ms/step\n",
      "Epoch 27/100\n",
      "76/76 - 0s - loss: 0.2921 - acc: 0.8723 - val_loss: 0.2580 - val_acc: 0.8943 - 137ms/epoch - 2ms/step\n",
      "Epoch 28/100\n",
      "76/76 - 0s - loss: 0.2988 - acc: 0.8682 - val_loss: 0.2629 - val_acc: 0.8870 - 143ms/epoch - 2ms/step\n",
      "Epoch 29/100\n",
      "76/76 - 0s - loss: 0.2855 - acc: 0.8785 - val_loss: 0.2537 - val_acc: 0.8930 - 139ms/epoch - 2ms/step\n",
      "Epoch 30/100\n",
      "76/76 - 0s - loss: 0.2952 - acc: 0.8689 - val_loss: 0.2270 - val_acc: 0.9124 - 161ms/epoch - 2ms/step\n",
      "Epoch 31/100\n",
      "76/76 - 0s - loss: 0.2868 - acc: 0.8724 - val_loss: 0.2240 - val_acc: 0.9043 - 164ms/epoch - 2ms/step\n",
      "Epoch 32/100\n",
      "76/76 - 0s - loss: 0.2849 - acc: 0.8760 - val_loss: 0.2125 - val_acc: 0.9137 - 137ms/epoch - 2ms/step\n",
      "Epoch 33/100\n",
      "76/76 - 0s - loss: 0.2820 - acc: 0.8762 - val_loss: 0.2393 - val_acc: 0.9030 - 181ms/epoch - 2ms/step\n",
      "Epoch 34/100\n",
      "76/76 - 0s - loss: 0.2842 - acc: 0.8776 - val_loss: 0.2178 - val_acc: 0.9110 - 155ms/epoch - 2ms/step\n",
      "Epoch 35/100\n",
      "76/76 - 0s - loss: 0.2917 - acc: 0.8725 - val_loss: 0.2266 - val_acc: 0.9070 - 148ms/epoch - 2ms/step\n",
      "Epoch 36/100\n",
      "76/76 - 0s - loss: 0.2876 - acc: 0.8757 - val_loss: 0.2340 - val_acc: 0.9003 - 147ms/epoch - 2ms/step\n",
      "Epoch 37/100\n",
      "76/76 - 0s - loss: 0.2809 - acc: 0.8804 - val_loss: 0.2028 - val_acc: 0.9231 - 148ms/epoch - 2ms/step\n",
      "Epoch 38/100\n",
      "76/76 - 0s - loss: 0.2868 - acc: 0.8773 - val_loss: 0.2433 - val_acc: 0.8923 - 139ms/epoch - 2ms/step\n",
      "Epoch 39/100\n",
      "76/76 - 0s - loss: 0.2793 - acc: 0.8783 - val_loss: 0.2273 - val_acc: 0.9084 - 140ms/epoch - 2ms/step\n",
      "Epoch 40/100\n",
      "76/76 - 0s - loss: 0.2837 - acc: 0.8760 - val_loss: 0.2187 - val_acc: 0.9130 - 143ms/epoch - 2ms/step\n",
      "Epoch 41/100\n",
      "76/76 - 0s - loss: 0.2849 - acc: 0.8759 - val_loss: 0.2370 - val_acc: 0.9037 - 136ms/epoch - 2ms/step\n",
      "Epoch 42/100\n",
      "76/76 - 0s - loss: 0.2734 - acc: 0.8829 - val_loss: 0.2044 - val_acc: 0.9177 - 139ms/epoch - 2ms/step\n",
      "Epoch 43/100\n",
      "76/76 - 0s - loss: 0.2724 - acc: 0.8830 - val_loss: 0.1988 - val_acc: 0.9151 - 140ms/epoch - 2ms/step\n",
      "Epoch 44/100\n",
      "76/76 - 0s - loss: 0.2669 - acc: 0.8838 - val_loss: 0.1992 - val_acc: 0.9217 - 157ms/epoch - 2ms/step\n",
      "Epoch 45/100\n",
      "76/76 - 0s - loss: 0.2762 - acc: 0.8810 - val_loss: 0.2170 - val_acc: 0.9231 - 152ms/epoch - 2ms/step\n",
      "Epoch 46/100\n",
      "76/76 - 0s - loss: 0.2594 - acc: 0.8921 - val_loss: 0.1927 - val_acc: 0.9258 - 152ms/epoch - 2ms/step\n",
      "Epoch 47/100\n",
      "76/76 - 0s - loss: 0.2778 - acc: 0.8837 - val_loss: 0.2151 - val_acc: 0.9130 - 176ms/epoch - 2ms/step\n",
      "Epoch 48/100\n",
      "76/76 - 0s - loss: 0.2732 - acc: 0.8848 - val_loss: 0.2188 - val_acc: 0.9184 - 159ms/epoch - 2ms/step\n",
      "Epoch 49/100\n",
      "76/76 - 0s - loss: 0.2678 - acc: 0.8866 - val_loss: 0.1894 - val_acc: 0.9311 - 142ms/epoch - 2ms/step\n",
      "Epoch 50/100\n",
      "76/76 - 0s - loss: 0.2733 - acc: 0.8821 - val_loss: 0.2054 - val_acc: 0.9177 - 151ms/epoch - 2ms/step\n",
      "Epoch 51/100\n",
      "76/76 - 0s - loss: 0.2715 - acc: 0.8819 - val_loss: 0.2009 - val_acc: 0.9204 - 136ms/epoch - 2ms/step\n",
      "Epoch 52/100\n",
      "76/76 - 0s - loss: 0.2588 - acc: 0.8891 - val_loss: 0.1902 - val_acc: 0.9244 - 136ms/epoch - 2ms/step\n",
      "Epoch 53/100\n",
      "76/76 - 0s - loss: 0.2675 - acc: 0.8862 - val_loss: 0.1973 - val_acc: 0.9184 - 148ms/epoch - 2ms/step\n",
      "Epoch 54/100\n",
      "76/76 - 0s - loss: 0.2548 - acc: 0.8902 - val_loss: 0.2048 - val_acc: 0.9204 - 144ms/epoch - 2ms/step\n",
      "Epoch 55/100\n",
      "76/76 - 0s - loss: 0.2622 - acc: 0.8906 - val_loss: 0.1986 - val_acc: 0.9110 - 135ms/epoch - 2ms/step\n",
      "Epoch 56/100\n",
      "76/76 - 0s - loss: 0.2591 - acc: 0.8880 - val_loss: 0.1957 - val_acc: 0.9217 - 140ms/epoch - 2ms/step\n",
      "Epoch 57/100\n",
      "76/76 - 0s - loss: 0.2619 - acc: 0.8866 - val_loss: 0.1950 - val_acc: 0.9164 - 150ms/epoch - 2ms/step\n",
      "Epoch 58/100\n",
      "76/76 - 0s - loss: 0.2606 - acc: 0.8874 - val_loss: 0.1900 - val_acc: 0.9237 - 136ms/epoch - 2ms/step\n",
      "Epoch 59/100\n",
      "76/76 - 0s - loss: 0.2555 - acc: 0.8918 - val_loss: 0.1899 - val_acc: 0.9298 - 140ms/epoch - 2ms/step\n",
      "Validation accuracy: 0.9297658801078796, loss: 0.1899144947528839\n"
     ]
    },
    {
     "data": {
      "text/plain": "<Figure size 1000x400 with 2 Axes>",
      "image/png": "[encoded data removed]"
     },
     "metadata": {},
     "output_type": "display_data"
    },
    {
     "name": "stdout",
     "output_type": "stream",
     "text": [
      "47/47 [==============================] - 0s 1ms/step\n",
      "              precision    recall  f1-score   support\n",
      "\n",
      "           1       0.93      0.93      0.93       299\n",
      "           2       0.94      0.95      0.95      1078\n",
      "           3       0.72      0.64      0.68       119\n",
      "\n",
      "    accuracy                           0.92      1496\n",
      "   macro avg       0.86      0.84      0.85      1496\n",
      "weighted avg       0.92      0.92      0.92      1496\n",
      "\n",
      "47/47 [==============================] - 0s 1ms/step - loss: 0.1866 - acc: 0.9238\n",
      "Loss: 0.1866467297077179; Accuracy: 0.9237967729568481;\n"
     ]
    }
   ],
   "source": [
    "model, _, _ = train_ann_model(\n",
    "                        df, \n",
    "                        epochs=100, \n",
    "                        patience=10, \n",
    "                        units=320,\n",
    "                        dropout_rate=0.2,\n",
    "                        learning_rate=0.002,\n",
    "                        verbose=2,\n",
    "                        disable_save=True)\n",
    "\n",
    "val_loss, val_acc = model.evaluate(x_test, test_labels)\n",
    "print(f\"Loss: {val_loss}; Accuracy: {val_acc};\")"
   ],
   "metadata": {
    "collapsed": false,
    "ExecuteTime": {
     "end_time": "2023-11-24T22:21:08.836595400Z",
     "start_time": "2023-11-24T22:20:58.974485600Z"
    }
   },
   "id": "52850fc89b1ef9fc"
  },
  {
   "cell_type": "code",
   "execution_count": 14,
   "outputs": [
    {
     "name": "stdout",
     "output_type": "stream",
     "text": [
      "[1/1] Units: 320; Dropout rate: 0.2; Learning rate: 0.002;\n",
      "47/47 [==============================] - 0s 1ms/step - loss: 0.1850 - acc: 0.9171\n",
      "Loss: 0.1849970668554306; Accuracy: 0.9171122908592224;\n",
      "[320, 0.2, 0.002]\n",
      "0.1849970668554306\n"
     ]
    }
   ],
   "source": [
    "tune_ann_model(df=df,\n",
    "                units=[320],\n",
    "                dropout_rates=[0.2],\n",
    "                learning_rates=[0.002])"
   ],
   "metadata": {
    "collapsed": false,
    "ExecuteTime": {
     "end_time": "2023-11-24T22:20:44.281677Z",
     "start_time": "2023-11-24T22:20:30.880028100Z"
    }
   },
   "id": "8f7a6c5f64db7b47"
  },
  {
   "cell_type": "code",
   "execution_count": null,
   "outputs": [],
   "source": [],
   "metadata": {
    "collapsed": false
   },
   "id": "bd76369075519305"
  }
 ],
 "metadata": {
  "kernelspec": {
   "display_name": "Python 3 (ipykernel)",
   "language": "python",
   "name": "python3"
  },
  "language_info": {
   "codemirror_mode": {
    "name": "ipython",
    "version": 3
   },
   "file_extension": ".py",
   "mimetype": "text/x-python",
   "name": "python",
   "nbconvert_exporter": "python",
   "pygments_lexer": "ipython3",
   "version": "3.11.0rc1"
  }
 },
 "nbformat": 4,
 "nbformat_minor": 5
}
