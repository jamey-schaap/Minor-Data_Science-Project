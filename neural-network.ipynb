{
 "cells": [
  {
   "cell_type": "code",
   "execution_count": null,
   "id": "initial_id",
   "metadata": {},
   "outputs": [],
   "source": [
    "import tensorflow as tf\n",
    "import matplotlib.pyplot as plt\n",
    "import pandas as pd\n",
    "from sklearn.preprocessing import StandardScaler\n",
    "from imblearn.over_sampling import RandomOverSampler\n",
    "import numpy as np\n",
    "import os"
   ]
  },
  {
   "cell_type": "code",
   "execution_count": null,
   "id": "8717e40efcd20d79",
   "metadata": {
    "collapsed": false
   },
   "outputs": [],
   "source": [
    "def scale_dataset(dataframe: pd.DataFrame, oversample: bool = False):\n",
    "    # if target column is the last value\n",
    "    X = dataframe[dataframe.columns[:-1]].values\n",
    "    y = dataframe[dataframe.columns[-1]].values\n",
    "\n",
    "    scaler = StandardScaler()\n",
    "    X = scaler.fit_transform(X)\n",
    "\n",
    "    if oversample:\n",
    "        ros = RandomOverSampler()\n",
    "        X, y = ros.fit_resample(X, y)\n",
    "\n",
    "    data = np.hstack((X, np.reshape(y, (-1, 1))))\n",
    "    return data, X, y"
   ]
  },
  {
   "cell_type": "code",
   "execution_count": null,
   "id": "730a7aaf5a561cf8",
   "metadata": {
    "collapsed": false
   },
   "outputs": [],
   "source": [
    "def plot_history(history):\n",
    "    fig, (ax1, ax2) = plt.subplots(1, 2, figsize=(10, 4))\n",
    "    ax1.plot(history.history[\"loss\"], label=\"loss\")\n",
    "    ax1.plot(history.history[\"val_loss\"], label=\"val_loss\")\n",
    "    ax1.set_xlabel(\"Epoch\")\n",
    "    ax1.set_ylabel(\"Binary crossentropy\")\n",
    "    ax1.grid(True)\n",
    "\n",
    "    ax2.plot(history.history[\"accuracy\"], label=\"accuracy\")\n",
    "    ax2.plot(history.history[\"val_accuracy\"], label=\"val_accuracy\")\n",
    "    ax2.set_xlabel(\"Epoch\")\n",
    "    ax2.set_ylabel(\"Accuracy\")\n",
    "    ax2.grid(True)\n",
    "\n",
    "    plt.show()\n",
    "    # fig.savefig(os.path.join(os.environ[\"OUTPUT_PATH\"], \"history.png\"))\n",
    "    # plt.close()"
   ]
  },
  {
   "cell_type": "code",
   "execution_count": null,
   "outputs": [],
   "source": [
    "def train_model(X_train, y_train, X_valid, y_valid, num_nodes, dropout_prob, lr, batch_size, epochs):\n",
    "    nn_model = tf.keras.Sequential([\n",
    "        tf.keras.layers.Dense(num_nodes, activation=\"relu\", input_dim=X_train.shape[1]),\n",
    "        tf.keras.layers.Dropout(dropout_prob),\n",
    "        tf.keras.layers.Dense(num_nodes, activation=\"relu\"),\n",
    "        tf.keras.layers.Dropout(dropout_prob),\n",
    "        tf.keras.layers.Dense(1, activation=\"sigmoid\"),\n",
    "    ])\n",
    "\n",
    "    nn_model.compile(\n",
    "        optimizer=tf.keras.optimizers.Adadelta(lr), \n",
    "        loss=\"binary_crossentropy\",\n",
    "        metrics=[\"accuracy\"])\n",
    "    \n",
    "    history = nn_model.fit(\n",
    "        X_train, y_train, epochs=epochs, batch_size=batch_size, validation_data=(X_valid, y_valid)\n",
    "    )\n",
    "    \n",
    "    return nn_model, history"
   ],
   "metadata": {
    "collapsed": false
   },
   "id": "f5aeee7bfa41efbb"
  },
  {
   "cell_type": "code",
   "execution_count": null,
   "outputs": [],
   "source": [
    "print(\"Loading dataset...\")\n",
    "df = pd.read_excel(\"./MachineLearning-Dataset-V1.xlsx\")\n",
    "print(\"Done...\")\n",
    "\n",
    "# Train (60%), validation (20%) and test (20%) datasets\n",
    "train, valid, test = np.split(df.sample(frac=1), [int(0.6 * len(df)), int(0.8 * len(df))])\n",
    "\n",
    "train, X_train, y_train = scale_dataset(train, oversample=True)\n",
    "valid, X_valid, y_valid = scale_dataset(valid, oversample=False)\n",
    "test, X_test, y_test = scale_dataset(test, oversample=False)"
   ],
   "metadata": {
    "collapsed": false
   },
   "id": "8b6fde9d7bca5a70"
  },
  {
   "cell_type": "code",
   "execution_count": null,
   "id": "8a914a0c9a830ca9",
   "metadata": {
    "collapsed": false
   },
   "outputs": [],
   "source": [
    "least_val_loss = float(\"inf\")\n",
    "least_loss_model = None\n",
    "least_loss_history = None\n",
    "least_loss_params = []\n",
    "\n",
    "epochs = 100\n",
    "for num_nodes in [16, 32, 64]:\n",
    "    for dropout_prob in [0, 0.2]:\n",
    "        for lr in [0.001, 0.005, 0.1]:\n",
    "            for batch_size in [32, 64, 128]:\n",
    "                print(f\"nodes: {num_nodes} , dropout: {dropout_prob}, learning rate (lr): {lr}, batch size: {batch_size}\")\n",
    "                model, history = train_model(X_train, y_train, X_valid, y_valid, num_nodes, dropout_prob, lr, batch_size, epochs)\n",
    "                plot_history(history)\n",
    "                _, val_loss = model.evaluate(X_test, y_test)\n",
    "                if val_loss < least_val_loss:\n",
    "                    least_val_loss = val_loss\n",
    "                    least_loss_model = model\n",
    "                    least_loss_history = history\n",
    "                    least_loss_params = [num_nodes, dropout_prob, lr, batch_size]"
   ]
  },
  {
   "cell_type": "code",
   "execution_count": null,
   "outputs": [],
   "source": [
    "# Least loss\n",
    "#   Adadelta\n",
    "#       Loss:     0.12441471219062805\n",
    "#       Params: [16, 0.2, 0.001, 128]"
   ],
   "metadata": {
    "collapsed": false
   },
   "id": "838cfae7beee8600"
  }
 ],
 "metadata": {
  "kernelspec": {
   "display_name": "Python 3 (ipykernel)",
   "language": "python",
   "name": "python3"
  },
  "language_info": {
   "codemirror_mode": {
    "name": "ipython",
    "version": 3
   },
   "file_extension": ".py",
   "mimetype": "text/x-python",
   "name": "python",
   "nbconvert_exporter": "python",
   "pygments_lexer": "ipython3",
   "version": "3.11.0rc1"
  }
 },
 "nbformat": 4,
 "nbformat_minor": 5
}
