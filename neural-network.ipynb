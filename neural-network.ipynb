{
 "cells": [
  {
   "cell_type": "code",
   "execution_count": null,
   "outputs": [],
   "source": [
    "import pandas as pd\n",
    "from sklearn.metrics import classification_report\n",
    "import numpy as np\n",
    "import os\n",
    "import warnings\n",
    "from configs.data import MACHINE_LEARNING_DATASET_PATH\n",
    "from machine_learning.utils import split_data, scale_dataset\n",
    "from machine_learning.neural_networks.utils import plot_history\n",
    "from machine_learning.neural_networks.fnn import fnn_model, train_fnn_model\n",
    "from machine_learning.neural_networks.ann import ann_model, train_ann_model\n",
    "from tensorflow.keras.models import load_model\n",
    "import shap\n",
    "from configs.enums import Column, RiskClassifications\n",
    "warnings.simplefilter(action='ignore', category=FutureWarning)"
   ],
   "metadata": {
    "collapsed": false
   },
   "id": "initial_id"
  },
  {
   "cell_type": "markdown",
   "source": [
    "## 1. Loading the dataset"
   ],
   "metadata": {
    "collapsed": false
   },
   "id": "318dc18bb83c8386"
  },
  {
   "cell_type": "code",
   "execution_count": null,
   "outputs": [],
   "source": [
    "df = pd.read_excel(MACHINE_LEARNING_DATASET_PATH)\n",
    "train, valid, test = split_data(df)\n",
    "test, x_test, test_labels = scale_dataset(test, oversample=False)"
   ],
   "metadata": {
    "collapsed": false
   },
   "id": "e9e3b783640832f"
  },
  {
   "cell_type": "markdown",
   "source": [
    "## 2. FNN"
   ],
   "metadata": {
    "collapsed": false
   },
   "id": "4576bd762e555588"
  },
  {
   "cell_type": "code",
   "execution_count": null,
   "outputs": [],
   "source": [
    "def tune_fnn_model(df, layers, units, dropout_rates, learning_rates):\n",
    "    least_val_loss = float('inf')\n",
    "    least_val_loss_params = []\n",
    "    \n",
    "    i = 1 \n",
    "    max = len(layers) * len(units) * len(dropout_rates) * len(learning_rates)\n",
    "    for l in layers:\n",
    "        for u in units:\n",
    "            for dr in dropout_rates:\n",
    "                for lr in learning_rates:  \n",
    "                    print(f\"[{i}/{max}] Layers: {l}; Units: {u}; Dropout rate: {dr}; Learning rate: {lr};\")\n",
    "                    \n",
    "                    model, _, _ = train_fnn_model(\n",
    "                        df, \n",
    "                        epochs=100, \n",
    "                        patience=20, \n",
    "                        layers=l, \n",
    "                        units=u,\n",
    "                        dropout_rate=dr,\n",
    "                        learning_rate=lr,\n",
    "                        verbose=0,\n",
    "                        disable_save=True,\n",
    "                        disable_plot_history=True,\n",
    "                        disable_print_report=True)\n",
    "                    \n",
    "                    val_loss, val_acc = model.evaluate(x_test, test_labels)\n",
    "                    print(f\"Loss: {val_loss}; Accuracy: {val_acc};\")\n",
    "                    if val_loss < least_val_loss:\n",
    "                        model.save(os.path.join(os.environ[\"OUTPUT_PATH\"], \"Risk_factor_dnn_model.keras\"))\n",
    "                        least_val_loss = val_loss\n",
    "                        least_val_loss_params = [l, u, dr, lr]\n",
    "                        \n",
    "                    i += 1\n",
    "                        \n",
    "    print(least_val_loss_params)\n",
    "    print(least_val_loss)"
   ],
   "metadata": {
    "collapsed": false
   },
   "id": "bc74cfdd9caf2bd2"
  },
  {
   "cell_type": "markdown",
   "source": [
    "### 2.1 Tuning"
   ],
   "metadata": {
    "collapsed": false
   },
   "id": "46c8f0e6b3ad3258"
  },
  {
   "cell_type": "code",
   "execution_count": null,
   "outputs": [],
   "source": [
    "tune_fnn_model(\n",
    "        df=df,\n",
    "        layers=[1], # 1, 2, 3, 4, 5, 6\n",
    "        units=[192, 224, 256], # 8, 16, 32, 64, 96, 128, 160, 192\n",
    "        dropout_rates=[0.2], # 0.2, 0.3, 0.4, 0.5\n",
    "        learning_rates=[0.001, 0.00125, 0.0015, 0.00175, 0.002], # 0.0001, 0.0005, 0.00075, 0.001, 0.00125, 0.0015, 0.00175, 0.002  \n",
    "    )"
   ],
   "metadata": {
    "collapsed": false
   },
   "id": "4b67271b9e804558"
  },
  {
   "cell_type": "markdown",
   "source": [
    "### 2.2 Loading from a file"
   ],
   "metadata": {
    "collapsed": false
   },
   "id": "5aa7295b7246096b"
  },
  {
   "cell_type": "code",
   "execution_count": null,
   "outputs": [],
   "source": [
    "model_file = \"Risk_factor_fnn_model.keras\" # \"Adam_6_192_0.2_0.00175_0.1515021026134491_100.keras\" # \"Risk_factor_dnn_model.keras\"\n",
    "model = load_model(os.path.join(os.environ[\"OUTPUT_PATH\"], model_file))\n",
    "\n",
    "y_pred = model.predict(x_test).argmax(axis=1)\n",
    "print(classification_report(test_labels, y_pred))"
   ],
   "metadata": {
    "collapsed": false
   },
   "id": "d317fd2c95277a6d"
  },
  {
   "cell_type": "markdown",
   "source": [
    "### 2.3 Manual tuning"
   ],
   "metadata": {
    "collapsed": false
   },
   "id": "ac627e9fa133af3"
  },
  {
   "cell_type": "code",
   "execution_count": null,
   "outputs": [],
   "source": [
    "model, _, _ = train_fnn_model(\n",
    "                        df, \n",
    "                        epochs=100, \n",
    "                        patience=20, \n",
    "                        layers=6, \n",
    "                        units=192,\n",
    "                        dropout_rate=0.2,\n",
    "                        learning_rate=0.00175)"
   ],
   "metadata": {
    "collapsed": false
   },
   "id": "117af0c4f8460a42"
  },
  {
   "cell_type": "markdown",
   "source": [
    "### 2.4 Shap"
   ],
   "metadata": {
    "collapsed": false
   },
   "id": "921546bb2dd95774"
  },
  {
   "cell_type": "code",
   "execution_count": null,
   "outputs": [],
   "source": [
    "def shapify(data: pd.DataFrame):\n",
    "    train, valid, test = split_data(data)\n",
    "\n",
    "    train, x_train, train_labels = scale_dataset(train, oversample=True)\n",
    "    valid, x_val, val_labels = scale_dataset(valid, oversample=False)\n",
    "    test, x_test, test_labels = scale_dataset(test, oversample=False)\n",
    "    \n",
    "    explainer = shap.KernelExplainer(model.predict, x_train)\n",
    "    shap_values = explainer.shap_values(x_test, nsamples=100) # nsamples { default = 2 * X.shape[1] + 2048 = 2066 }\n",
    "    # explainer.save()\n",
    "    \n",
    "    return explainer, shap_values, x_test"
   ],
   "metadata": {
    "collapsed": false
   },
   "id": "590b521a6f69e"
  },
  {
   "cell_type": "code",
   "execution_count": null,
   "outputs": [],
   "source": [
    "explainer, shap_values, shap_x_test = shapify(df[:1000])\n",
    "shap.summary_plot(shap_values, shap_x_test, feature_names=df.columns[Column.COUNTRY_RISK], class_names=RiskClassifications.get_names())"
   ],
   "metadata": {
    "collapsed": false
   },
   "id": "5cf2d9d36017d0ca"
  },
  {
   "cell_type": "markdown",
   "source": [
    "## 3. Artificial Neural Network (ANN)"
   ],
   "metadata": {
    "collapsed": false
   },
   "id": "5fd75204b32107be"
  },
  {
   "cell_type": "code",
   "execution_count": null,
   "outputs": [],
   "source": [
    "def tune_ann_model(df, units, dropout_rates, learning_rates):\n",
    "    least_val_loss = float('inf')\n",
    "    least_val_loss_params = []\n",
    "    \n",
    "    i = 1 \n",
    "    max = len(units) * len(dropout_rates) * len(learning_rates)\n",
    "    for u in units:\n",
    "        for dr in dropout_rates:\n",
    "            for lr in learning_rates:  \n",
    "                print(f\"[{i}/{max}] Units: {u}; Dropout rate: {dr}; Learning rate: {lr};\")\n",
    "                \n",
    "                model, _, _ = train_ann_model(\n",
    "                    df, \n",
    "                    epochs=100, \n",
    "                    patience=20, \n",
    "                    units=u,\n",
    "                    dropout_rate=dr,\n",
    "                    learning_rate=lr,\n",
    "                    verbose=0,\n",
    "                    disable_save=True,\n",
    "                    disable_plot_history=True,\n",
    "                    disable_print_report=True)\n",
    "                \n",
    "                val_loss, val_acc = model.evaluate(x_test, test_labels)\n",
    "                print(f\"Loss: {val_loss}; Accuracy: {val_acc};\")\n",
    "                if val_loss < least_val_loss:\n",
    "                    model.save(os.path.join(os.environ[\"OUTPUT_PATH\"], \"Risk_factor_ann_model.keras\"))\n",
    "                    least_val_loss = val_loss\n",
    "                    least_val_loss_params = [u, dr, lr]\n",
    "                    \n",
    "                i += 1\n",
    "                        \n",
    "    print(least_val_loss_params)\n",
    "    print(least_val_loss)"
   ],
   "metadata": {
    "collapsed": false
   },
   "id": "c122afc22e125abf"
  },
  {
   "cell_type": "markdown",
   "source": [
    "### 3.1 Tuning"
   ],
   "metadata": {
    "collapsed": false
   },
   "id": "40a8720d35a8680f"
  },
  {
   "cell_type": "code",
   "execution_count": null,
   "outputs": [],
   "source": [
    "tune_ann_model(df=df,\n",
    "                units=[320],\n",
    "                dropout_rates=[0.2],\n",
    "                learning_rates=[0.002])"
   ],
   "metadata": {
    "collapsed": false
   },
   "id": "8f7a6c5f64db7b47"
  },
  {
   "cell_type": "code",
   "execution_count": null,
   "outputs": [],
   "source": [
    "### 3.2 Manual tuning"
   ],
   "metadata": {
    "collapsed": false
   },
   "id": "2ce3b97df666a063"
  },
  {
   "cell_type": "code",
   "execution_count": null,
   "outputs": [],
   "source": [
    "model, _, _ = train_ann_model(\n",
    "                        df, \n",
    "                        epochs=100, \n",
    "                        patience=10, \n",
    "                        units=320,\n",
    "                        dropout_rate=0.2,\n",
    "                        learning_rate=0.002,\n",
    "                        verbose=2,\n",
    "                        disable_save=True)\n",
    "\n",
    "val_loss, val_acc = model.evaluate(x_test, test_labels)\n",
    "print(f\"Loss: {val_loss}; Accuracy: {val_acc};\")"
   ],
   "metadata": {
    "collapsed": false
   },
   "id": "55759307878d23f"
  }
 ],
 "metadata": {
  "kernelspec": {
   "display_name": "Python 3 (ipykernel)",
   "language": "python",
   "name": "python3"
  },
  "language_info": {
   "codemirror_mode": {
    "name": "ipython",
    "version": 3
   },
   "file_extension": ".py",
   "mimetype": "text/x-python",
   "name": "python",
   "nbconvert_exporter": "python",
   "pygments_lexer": "ipython3",
   "version": "3.11.0rc1"
  }
 },
 "nbformat": 4,
 "nbformat_minor": 5
}
