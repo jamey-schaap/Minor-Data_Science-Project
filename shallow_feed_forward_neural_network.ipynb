{
 "cells": [
  {
   "cell_type": "code",
   "execution_count": 2,
   "outputs": [
    {
     "name": "stdout",
     "output_type": "stream",
     "text": [
      "WARNING:tensorflow:From C:\\Users\\jamey\\Developments\\DS-Project\\venv\\Lib\\site-packages\\keras\\src\\losses.py:2976: The name tf.losses.sparse_softmax_cross_entropy is deprecated. Please use tf.compat.v1.losses.sparse_softmax_cross_entropy instead.\n"
     ]
    }
   ],
   "source": [
    "import pandas as pd\n",
    "from sklearn.metrics import classification_report\n",
    "import os\n",
    "import warnings\n",
    "from machine_learning.utils import split_data, scale_dataset\n",
    "from machine_learning.neural_networks.utils import plot_history\n",
    "from machine_learning.neural_networks.shallow_fnn import train_shallow_fnn_model, shallow_fnn_model\n",
    "from configs.enums import Column, RiskClassifications\n",
    "import numpy as np\n",
    "import matplotlib.pyplot as plt\n",
    "from configs.data import MACHINE_LEARNING_DATASET_PATH, MERGED_DATASET_PATH, OUT_PATH, MODELS_PATH, VERSION\n",
    "import shap\n",
    "import tensorflow as tf\n",
    "\n",
    "warnings.simplefilter(action='ignore', category=FutureWarning)\n",
    "np.random.seed(0)"
   ],
   "metadata": {
    "collapsed": false,
    "ExecuteTime": {
     "end_time": "2023-12-27T15:53:16.738811100Z",
     "start_time": "2023-12-27T15:52:49.131878400Z"
    }
   },
   "id": "bd7b15f8c001f56e"
  },
  {
   "cell_type": "markdown",
   "source": [
    "## Loading the dataset"
   ],
   "metadata": {
    "collapsed": false
   },
   "id": "a8d5bd14682ded87"
  },
  {
   "cell_type": "code",
   "execution_count": 3,
   "outputs": [
    {
     "name": "stdout",
     "output_type": "stream",
     "text": [
      "Train: (10836, 9), Valid: (1494, 9), Test: (1499, 9)\n"
     ]
    }
   ],
   "source": [
    "df = pd.read_excel(MACHINE_LEARNING_DATASET_PATH)\n",
    "train_df, valid_df, test_df = split_data(df)\n",
    "train, x_train, train_labels = scale_dataset(train_df, oversample=True)\n",
    "valid, x_val, val_labels = scale_dataset(valid_df, oversample=False)\n",
    "test, x_test, test_labels = scale_dataset(test_df, oversample=False)\n",
    "\n",
    "print(f\"Train: {x_train.shape}, Valid: {x_val.shape}, Test: {x_test.shape}\")"
   ],
   "metadata": {
    "collapsed": false,
    "ExecuteTime": {
     "end_time": "2023-12-27T15:53:18.515688900Z",
     "start_time": "2023-12-27T15:53:16.740811300Z"
    }
   },
   "id": "a0e065b98cfdeb40"
  },
  {
   "cell_type": "code",
   "execution_count": 4,
   "outputs": [],
   "source": [
    "def print_results(model) -> None:\n",
    "    y_pred_train = model.predict(x_train).argmax(axis=1)\n",
    "    print(\"\\n###### Training ######\")\n",
    "    print(classification_report(train_labels, y_pred_train))\n",
    "    \n",
    "    y_pred_valid = model.predict(x_val).argmax(axis=1)\n",
    "    print(\"\\n###### Validation ######\")\n",
    "    print(classification_report(val_labels, y_pred_valid))\n",
    "    \n",
    "    y_pred = model.predict(x_test).argmax(axis=1)\n",
    "    print(\"\\n###### Test ######\")\n",
    "    print(classification_report(test_labels, y_pred))"
   ],
   "metadata": {
    "collapsed": false,
    "ExecuteTime": {
     "end_time": "2023-12-27T15:53:18.530270700Z",
     "start_time": "2023-12-27T15:53:18.510691800Z"
    }
   },
   "id": "3037effd47510c0e"
  },
  {
   "cell_type": "markdown",
   "source": [
    "## Load model from file"
   ],
   "metadata": {
    "collapsed": false
   },
   "id": "e24fea2893989d07"
  },
  {
   "cell_type": "code",
   "execution_count": null,
   "outputs": [],
   "source": [
    "model_file = \"FormulaData-tf-2.15.0_Deep_Adam_8_256_0.2_0.001_2000.shallow_fnn.keras\"\n",
    "model = tf.keras.models.load_model(os.path.join(MODELS_PATH, model_file))\n",
    "\n",
    "print_results(model)"
   ],
   "metadata": {
    "collapsed": false
   },
   "id": "f733c245218b44aa"
  },
  {
   "cell_type": "markdown",
   "source": [
    "## Automated tuning"
   ],
   "metadata": {
    "collapsed": false
   },
   "id": "a853047f843560eb"
  },
  {
   "cell_type": "code",
   "execution_count": null,
   "outputs": [],
   "source": [
    "def tune_shallow_fnn_model(df, \n",
    "                        units, \n",
    "                        dropout_rates, \n",
    "                        learning_rates, \n",
    "                        epsilons = [1e-07],\n",
    "                        beta_1s = [0.9],\n",
    "                        beta_2s = [0.999],\n",
    "                        weight_decay = [None],\n",
    "                        clipnorm = [None],\n",
    "                        clipvalue = [None],\n",
    "                        epochs=200, \n",
    "                        patience=[10, 20], \n",
    "                        batch_sizes=[128]):\n",
    "    import time\n",
    "    from datetime import timedelta\n",
    "    \n",
    "    least_val_lost_file_name = f\"tuning_least_val_loss.fnn.keras\"\n",
    "    \n",
    "    to_hh_mm_ss = lambda seconds: str(timedelta(seconds=seconds)).rsplit(\".\")[0]\n",
    "    \n",
    "    least_val_loss = float('inf')\n",
    "    least_val_loss_params = []\n",
    "    least_val_loss_accuracy = float('inf')\n",
    "    least_val_loss_model = None  \n",
    "    least_val_loss_history = None\n",
    "    eta = None\n",
    "    \n",
    "    time_past = 0\n",
    "    \n",
    "    i = 1 \n",
    "    max = len(units) * len(dropout_rates) * len(learning_rates) * len(patience) * len(batch_sizes)\n",
    "    \n",
    "    print(\"[prev: N/A] [eta: TBD]\")\n",
    "    \n",
    "    for u in units:\n",
    "        for dr in dropout_rates:\n",
    "            for lr in learning_rates: \n",
    "                for pt in patience:\n",
    "                    for bt in batch_sizes:\n",
    "                        start_time = time.time()\n",
    "\n",
    "                        print(f\"[{i}/{max}] Units: {u}; Dropout rate: {dr}; Learning rate: {lr}; Patience: {pt}; Batch size: {bt}\")\n",
    "                        \n",
    "                        # TODO: add batch_size param to tune\n",
    "                        model, history, num_classes = train_shallow_fnn_model(\n",
    "                            df, \n",
    "                            epochs=epochs, \n",
    "                            patience=pt, \n",
    "                            units=u,\n",
    "                            dropout_rate=dr,\n",
    "                            learning_rate=lr,\n",
    "                            epsilon = 1e-07,\n",
    "                            beta_1 = 0.9,\n",
    "                            beta_2 = 0.999,\n",
    "                            weight_decay = None,\n",
    "                            clipnorm = None,\n",
    "                            clipvalue = None,\n",
    "                            batch_size=bt,\n",
    "                            verbose=0,\n",
    "                            disable_save=True,\n",
    "                            disable_plot_history=True,\n",
    "                            disable_print_report=True)\n",
    "                        \n",
    "                        val_loss, val_acc = model.evaluate(x_test, test_labels)\n",
    "                        print(f\"Loss: {val_loss}; Accuracy: {val_acc};\")\n",
    "                        if val_loss < least_val_loss:\n",
    "                            model.save(os.path.join(MODELS_PATH, least_val_lost_file_name))\n",
    "                            least_val_loss = val_loss\n",
    "                            least_val_loss_params = [ u, dr, lr, pt, bt]\n",
    "                            least_val_loss_accuracy = val_acc\n",
    "                            least_val_loss_model = model\n",
    "                            least_val_loss_history = history\n",
    "                            \n",
    "                        duration = time.time() - start_time\n",
    "                        time_past += duration\n",
    "                        avg_duration = time_past / i\n",
    "                        eta = time_past + avg_duration * (max - i)\n",
    "                        \n",
    "                        print(f\"\\n[eta: {to_hh_mm_ss(time_past)}/{to_hh_mm_ss(eta)}] [prev: {to_hh_mm_ss(duration)}] [avg: {to_hh_mm_ss(avg_duration)}]\")\n",
    "                            \n",
    "                        i += 1\n",
    "    \n",
    "    u, dr, lr, pt, bt = least_val_loss_params\n",
    "    print(\"\\nLeast validation loss:\")              \n",
    "    print(f\"\\tParams:\\t {{Units: {u}; Dropout rate: {dr}; Learning rate: {lr}; Patience: {pt}; Batch size: {bt}}}\")\n",
    "    print(\"\\tLoss:\\t\", least_val_loss)\n",
    "    print(\"\\tAccuracy:\\t\", least_val_loss_accuracy)\n",
    "    \n",
    "    best_model_file_name = f\"{VERSION}_Adam_{u}_{dr}_{lr}_{epochs}_{pt}_{bt}_{least_val_loss}.deep_fnn.keras\"\n",
    "    os.rename(\n",
    "        os.path.join(MODELS_PATH, least_val_lost_file_name), \n",
    "        os.path.join(MODELS_PATH, best_model_file_name))\n",
    "    print(f\"\\nModel has been saved as '{best_model_file_name}'\")\n",
    "    \n",
    "    plot_history(least_val_loss_history, num_classes)\n",
    "    \n",
    "    print_results(model)\n",
    "    \n",
    "    return least_val_loss_model, least_val_loss_history, num_classes\n"
   ],
   "metadata": {
    "collapsed": false
   },
   "id": "initial_id"
  },
  {
   "cell_type": "code",
   "execution_count": null,
   "outputs": [],
   "source": [
    "tune_shallow_fnn_model(\n",
    "    df=df,\n",
    "    units=[512, 768, 1024],\n",
    "    dropout_rates=[0.2, 0.25, 0.3],\n",
    "    learning_rates=[0.001, 0.0015, 0.00175],\n",
    "    patience=[10, 20])\n",
    "\n",
    "# Least validation loss:\n",
    "# \tParams:\t {Units: 512; Dropout rate: 0.2; Learning rate: 0.0015; Patience: 20; Batch size: 128}\n",
    "# \tLoss:\t 0.5933612585067749\n",
    "# \tAccuracy:\t 0.7678452134132385"
   ],
   "metadata": {
    "collapsed": false
   },
   "id": "b08d39c0a5a3d8dd"
  },
  {
   "cell_type": "code",
   "execution_count": null,
   "outputs": [],
   "source": [
    "def tune_hyper_params_shallow_fnn_model(df, \n",
    "                        learning_rates, \n",
    "                        epsilons = [1e-07],\n",
    "                        beta_1s = [0.9],\n",
    "                        beta_2s = [0.999],\n",
    "                        weight_decay = [None],\n",
    "                        clipnorm = [None],\n",
    "                        clipvalue = [None],\n",
    "                        patience=[10, 20]):\n",
    "    import time\n",
    "    from datetime import timedelta\n",
    "    \n",
    "    least_val_lost_file_name = f\"tuning_least_val_loss.fnn.keras\"\n",
    "    \n",
    "    to_hh_mm_ss = lambda seconds: str(timedelta(seconds=seconds)).rsplit(\".\")[0]\n",
    "    \n",
    "    least_val_loss = float('inf')\n",
    "    least_val_loss_params = []\n",
    "    least_val_loss_accuracy = float('inf')\n",
    "    least_val_loss_model = None  \n",
    "    least_val_loss_history = None\n",
    "    eta = None\n",
    "    \n",
    "    time_past = 0\n",
    "    \n",
    "    i = 1 \n",
    "    max = len(epsilons) * len(beta_1s) * len(beta_2s) * len(learning_rates) * len(weight_decay) * len(clipnorm) * len(clipvalue) * len(patience)\n",
    "    \n",
    "    print(\"[prev: N/A] [eta: TBD]\")\n",
    "    \n",
    "    for e in epsilons:\n",
    "        for b1 in beta_1s:\n",
    "            for b2 in beta_2s: \n",
    "                for lr in learning_rates: \n",
    "                    for wd in weight_decay:\n",
    "                        for cn in clipnorm:\n",
    "                            for cv in clipvalue:\n",
    "                                for pt in patience:\n",
    "                                    start_time = time.time()\n",
    "            \n",
    "                                    print(f\"[{i}/{max}] Epsilons: {e}; Beta 1: {b1}; Beta 2: {b2}; Learning rate: {lr}; Weight decay: {wd}; Clipnorm: {cn}; Clipvalue: {cv}; Patience: {pt}\")\n",
    "                                    \n",
    "                                    # TODO: add batch_size param to tune\n",
    "                                    model, history, num_classes = train_shallow_fnn_model(\n",
    "                                        df, \n",
    "                                        epochs=400, \n",
    "                                        patience=pt, \n",
    "                                        units=512,\n",
    "                                        dropout_rate=0.2,\n",
    "                                        learning_rate=lr,\n",
    "                                        epsilon = e,\n",
    "                                        beta_1 = b1,\n",
    "                                        beta_2 = b2,\n",
    "                                        weight_decay = wd,\n",
    "                                        clipnorm = cn,\n",
    "                                        clipvalue = cv,\n",
    "                                        batch_size=128,\n",
    "                                        verbose=0,\n",
    "                                        disable_save=True,\n",
    "                                        disable_plot_history=True,\n",
    "                                        disable_print_report=True)\n",
    "                                    \n",
    "                                    val_loss, val_acc = model.evaluate(x_test, test_labels)\n",
    "                                    print(f\"Loss: {val_loss}; Accuracy: {val_acc};\")\n",
    "                                    if val_loss < least_val_loss:\n",
    "                                        model.save(os.path.join(MODELS_PATH, least_val_lost_file_name))\n",
    "                                        least_val_loss = val_loss\n",
    "                                        least_val_loss_params = [e, b1, b2, lr, wd, cn, cv, pt]\n",
    "                                        least_val_loss_accuracy = val_acc\n",
    "                                        least_val_loss_model = model\n",
    "                                        least_val_loss_history = history\n",
    "                                        \n",
    "                                    duration = time.time() - start_time\n",
    "                                    time_past += duration\n",
    "                                    avg_duration = time_past / i\n",
    "                                    eta = time_past + avg_duration * (max - i)\n",
    "                                    \n",
    "                                    print(f\"\\n[eta: {to_hh_mm_ss(time_past)}/{to_hh_mm_ss(eta)}] [prev: {to_hh_mm_ss(duration)}] [avg: {to_hh_mm_ss(avg_duration)}]\")\n",
    "                                        \n",
    "                                    i += 1\n",
    "    \n",
    "    e, b1, b2, lr, wd, cn, cv, pt = least_val_loss_params\n",
    "    print(\"\\nLeast validation loss:\")              \n",
    "    print(f\"\\tParams:\\t {{Epsilons: {e}; Beta 1: {b1}; Beta 2: {b2}; Learning rate: {lr}; Weight decay: {wd}; Clipnorm: {cn}; Clipvalue: {cv}; Patience: {pt}}}\")\n",
    "    print(\"\\tLoss:\\t\", least_val_loss)\n",
    "    print(\"\\tAccuracy:\\t\", least_val_loss_accuracy)\n",
    "    \n",
    "    best_model_file_name = f\"{VERSION}_Adam_{e}_{b1}_{b2}_{lr}_{wd}_{cn}_{cv}_{pt}_{least_val_loss}.deep_fnn.keras\"\n",
    "    os.rename(\n",
    "        os.path.join(MODELS_PATH, least_val_lost_file_name), \n",
    "        os.path.join(MODELS_PATH, best_model_file_name))\n",
    "    print(f\"\\nModel has been saved as '{best_model_file_name}'\")\n",
    "    \n",
    "    plot_history(least_val_loss_history, num_classes)\n",
    "    \n",
    "    print_results(model)\n",
    "    \n",
    "    return least_val_loss_model, least_val_loss_history, num_classes\n"
   ],
   "metadata": {
    "collapsed": false,
    "ExecuteTime": {
     "end_time": "2023-12-27T15:57:22.358277800Z",
     "start_time": "2023-12-27T15:57:22.354276800Z"
    }
   },
   "id": "78b70756c00f21ca"
  },
  {
   "cell_type": "code",
   "execution_count": null,
   "outputs": [],
   "source": [
    "model, history, _ = tune_hyper_params_shallow_fnn_model(\n",
    "    df=df,\n",
    "    learning_rates=[0.001, 0.00125, 0.0015, 0.00175, 0.002], \n",
    "    epsilons=[1e-08],\n",
    "    beta_1s=[0.9], # CANNOT BE EQUAL OR HIGHER THAN 1\n",
    "    beta_2s=[0.999], # CANNOT BE EQUAL OR HIGHER THAN 1\n",
    "    weight_decay=[None],\n",
    "    clipnorm=[None],\n",
    "    clipvalue=[None],\n",
    "    patience=[10, 20]\n",
    ")"
   ],
   "metadata": {
    "collapsed": false,
    "ExecuteTime": {
     "start_time": "2023-12-27T15:57:22.357277600Z"
    }
   },
   "id": "33d917eb98bf4f9b"
  },
  {
   "cell_type": "markdown",
   "source": [
    "## Manual tuning"
   ],
   "metadata": {
    "collapsed": false
   },
   "id": "9d8b3f0d6e60b4d3"
  },
  {
   "cell_type": "code",
   "execution_count": 7,
   "outputs": [
    {
     "name": "stdout",
     "output_type": "stream",
     "text": [
      "Epoch 1/2000\n",
      "85/85 - 1s - loss: 1.3689 - acc: 0.4635 - val_loss: 1.2951 - val_acc: 0.4759 - 935ms/epoch - 11ms/step\n",
      "Epoch 2/2000\n",
      "85/85 - 0s - loss: 1.0611 - acc: 0.5652 - val_loss: 1.0862 - val_acc: 0.5750 - 175ms/epoch - 2ms/step\n",
      "Epoch 3/2000\n",
      "85/85 - 0s - loss: 0.9719 - acc: 0.6059 - val_loss: 0.9769 - val_acc: 0.6546 - 154ms/epoch - 2ms/step\n",
      "Epoch 4/2000\n",
      "85/85 - 0s - loss: 0.9261 - acc: 0.6174 - val_loss: 0.9313 - val_acc: 0.6653 - 156ms/epoch - 2ms/step\n",
      "Epoch 5/2000\n",
      "85/85 - 0s - loss: 0.8915 - acc: 0.6213 - val_loss: 0.8603 - val_acc: 0.6814 - 156ms/epoch - 2ms/step\n",
      "Epoch 6/2000\n",
      "85/85 - 0s - loss: 0.8779 - acc: 0.6262 - val_loss: 0.8770 - val_acc: 0.6506 - 157ms/epoch - 2ms/step\n",
      "Epoch 7/2000\n",
      "85/85 - 0s - loss: 0.8548 - acc: 0.6413 - val_loss: 0.8459 - val_acc: 0.7028 - 171ms/epoch - 2ms/step\n",
      "Epoch 8/2000\n",
      "85/85 - 0s - loss: 0.8469 - acc: 0.6406 - val_loss: 0.8466 - val_acc: 0.6499 - 157ms/epoch - 2ms/step\n",
      "Epoch 9/2000\n",
      "85/85 - 0s - loss: 0.8228 - acc: 0.6507 - val_loss: 0.8221 - val_acc: 0.6553 - 159ms/epoch - 2ms/step\n",
      "Epoch 10/2000\n",
      "85/85 - 0s - loss: 0.8124 - acc: 0.6576 - val_loss: 0.8094 - val_acc: 0.6667 - 156ms/epoch - 2ms/step\n",
      "Epoch 11/2000\n",
      "85/85 - 0s - loss: 0.8006 - acc: 0.6584 - val_loss: 0.7805 - val_acc: 0.6934 - 156ms/epoch - 2ms/step\n",
      "Epoch 12/2000\n",
      "85/85 - 0s - loss: 0.7798 - acc: 0.6635 - val_loss: 0.7681 - val_acc: 0.7155 - 156ms/epoch - 2ms/step\n",
      "Epoch 13/2000\n",
      "85/85 - 0s - loss: 0.7888 - acc: 0.6625 - val_loss: 0.8036 - val_acc: 0.6740 - 156ms/epoch - 2ms/step\n",
      "Epoch 14/2000\n",
      "85/85 - 0s - loss: 0.7794 - acc: 0.6696 - val_loss: 0.7386 - val_acc: 0.7209 - 194ms/epoch - 2ms/step\n",
      "Epoch 15/2000\n",
      "85/85 - 0s - loss: 0.7844 - acc: 0.6716 - val_loss: 0.7400 - val_acc: 0.7222 - 157ms/epoch - 2ms/step\n",
      "Epoch 16/2000\n",
      "85/85 - 0s - loss: 0.7706 - acc: 0.6712 - val_loss: 0.7337 - val_acc: 0.7363 - 156ms/epoch - 2ms/step\n",
      "Epoch 17/2000\n",
      "85/85 - 0s - loss: 0.7550 - acc: 0.6773 - val_loss: 0.7470 - val_acc: 0.6847 - 172ms/epoch - 2ms/step\n",
      "Epoch 18/2000\n",
      "85/85 - 0s - loss: 0.7413 - acc: 0.6869 - val_loss: 0.7243 - val_acc: 0.7222 - 156ms/epoch - 2ms/step\n",
      "Epoch 19/2000\n",
      "85/85 - 0s - loss: 0.7433 - acc: 0.6873 - val_loss: 0.7312 - val_acc: 0.6948 - 156ms/epoch - 2ms/step\n",
      "Epoch 20/2000\n",
      "85/85 - 0s - loss: 0.7438 - acc: 0.6877 - val_loss: 0.7310 - val_acc: 0.7222 - 156ms/epoch - 2ms/step\n",
      "Epoch 21/2000\n",
      "85/85 - 0s - loss: 0.7382 - acc: 0.6895 - val_loss: 0.7097 - val_acc: 0.7262 - 156ms/epoch - 2ms/step\n",
      "Epoch 22/2000\n",
      "85/85 - 0s - loss: 0.7301 - acc: 0.6908 - val_loss: 0.7001 - val_acc: 0.7289 - 157ms/epoch - 2ms/step\n",
      "Epoch 23/2000\n",
      "85/85 - 0s - loss: 0.7176 - acc: 0.6975 - val_loss: 0.7016 - val_acc: 0.7416 - 156ms/epoch - 2ms/step\n",
      "Epoch 24/2000\n",
      "85/85 - 0s - loss: 0.7354 - acc: 0.6897 - val_loss: 0.6944 - val_acc: 0.7316 - 156ms/epoch - 2ms/step\n",
      "Epoch 25/2000\n",
      "85/85 - 0s - loss: 0.7296 - acc: 0.6876 - val_loss: 0.6952 - val_acc: 0.7463 - 172ms/epoch - 2ms/step\n",
      "Epoch 26/2000\n",
      "85/85 - 0s - loss: 0.7193 - acc: 0.6934 - val_loss: 0.6964 - val_acc: 0.7349 - 157ms/epoch - 2ms/step\n",
      "Epoch 27/2000\n",
      "85/85 - 0s - loss: 0.7128 - acc: 0.6980 - val_loss: 0.6976 - val_acc: 0.7276 - 156ms/epoch - 2ms/step\n",
      "Epoch 28/2000\n",
      "85/85 - 0s - loss: 0.7314 - acc: 0.6899 - val_loss: 0.6951 - val_acc: 0.7483 - 156ms/epoch - 2ms/step\n",
      "Epoch 29/2000\n",
      "85/85 - 0s - loss: 0.7056 - acc: 0.6993 - val_loss: 0.7037 - val_acc: 0.6620 - 156ms/epoch - 2ms/step\n",
      "Epoch 30/2000\n",
      "85/85 - 0s - loss: 0.7075 - acc: 0.6966 - val_loss: 0.6946 - val_acc: 0.7162 - 156ms/epoch - 2ms/step\n",
      "Epoch 31/2000\n",
      "85/85 - 0s - loss: 0.7097 - acc: 0.6971 - val_loss: 0.6941 - val_acc: 0.7276 - 172ms/epoch - 2ms/step\n",
      "Epoch 32/2000\n",
      "85/85 - 0s - loss: 0.6996 - acc: 0.7039 - val_loss: 0.6595 - val_acc: 0.7537 - 156ms/epoch - 2ms/step\n",
      "Epoch 33/2000\n",
      "85/85 - 0s - loss: 0.6963 - acc: 0.7069 - val_loss: 0.6899 - val_acc: 0.7303 - 187ms/epoch - 2ms/step\n",
      "Epoch 34/2000\n",
      "85/85 - 0s - loss: 0.7016 - acc: 0.7008 - val_loss: 0.6756 - val_acc: 0.7577 - 188ms/epoch - 2ms/step\n",
      "Epoch 35/2000\n",
      "85/85 - 0s - loss: 0.6998 - acc: 0.7004 - val_loss: 0.6887 - val_acc: 0.7108 - 188ms/epoch - 2ms/step\n",
      "Epoch 36/2000\n",
      "85/85 - 0s - loss: 0.6874 - acc: 0.7017 - val_loss: 0.6851 - val_acc: 0.6968 - 188ms/epoch - 2ms/step\n",
      "Epoch 37/2000\n",
      "85/85 - 0s - loss: 0.6921 - acc: 0.7059 - val_loss: 0.6718 - val_acc: 0.7450 - 187ms/epoch - 2ms/step\n",
      "Epoch 38/2000\n",
      "85/85 - 0s - loss: 0.6955 - acc: 0.7070 - val_loss: 0.6824 - val_acc: 0.7068 - 203ms/epoch - 2ms/step\n",
      "Epoch 39/2000\n",
      "85/85 - 0s - loss: 0.6903 - acc: 0.7076 - val_loss: 0.6744 - val_acc: 0.7115 - 176ms/epoch - 2ms/step\n",
      "Epoch 40/2000\n",
      "85/85 - 0s - loss: 0.6909 - acc: 0.7062 - val_loss: 0.6501 - val_acc: 0.7691 - 188ms/epoch - 2ms/step\n",
      "Epoch 41/2000\n",
      "85/85 - 0s - loss: 0.6823 - acc: 0.7131 - val_loss: 0.6882 - val_acc: 0.6613 - 187ms/epoch - 2ms/step\n",
      "Epoch 42/2000\n",
      "85/85 - 0s - loss: 0.6820 - acc: 0.7104 - val_loss: 0.6656 - val_acc: 0.7523 - 188ms/epoch - 2ms/step\n",
      "Epoch 43/2000\n",
      "85/85 - 0s - loss: 0.6762 - acc: 0.7123 - val_loss: 0.6703 - val_acc: 0.7236 - 203ms/epoch - 2ms/step\n",
      "Epoch 44/2000\n",
      "85/85 - 0s - loss: 0.6793 - acc: 0.7129 - val_loss: 0.6533 - val_acc: 0.7597 - 187ms/epoch - 2ms/step\n",
      "Epoch 45/2000\n",
      "85/85 - 0s - loss: 0.6588 - acc: 0.7181 - val_loss: 0.6554 - val_acc: 0.7383 - 188ms/epoch - 2ms/step\n",
      "Epoch 46/2000\n",
      "85/85 - 0s - loss: 0.6710 - acc: 0.7159 - val_loss: 0.6673 - val_acc: 0.7369 - 188ms/epoch - 2ms/step\n",
      "Epoch 47/2000\n",
      "85/85 - 0s - loss: 0.6775 - acc: 0.7167 - val_loss: 0.6656 - val_acc: 0.7189 - 187ms/epoch - 2ms/step\n",
      "Epoch 48/2000\n",
      "85/85 - 0s - loss: 0.6730 - acc: 0.7183 - val_loss: 0.6599 - val_acc: 0.7490 - 188ms/epoch - 2ms/step\n",
      "Epoch 49/2000\n",
      "85/85 - 0s - loss: 0.6659 - acc: 0.7203 - val_loss: 0.6631 - val_acc: 0.7497 - 188ms/epoch - 2ms/step\n",
      "Epoch 50/2000\n",
      "85/85 - 0s - loss: 0.6627 - acc: 0.7219 - val_loss: 0.6555 - val_acc: 0.7651 - 192ms/epoch - 2ms/step\n",
      "Validation accuracy: 0.7650602459907532, loss: 0.655478298664093\n"
     ]
    },
    {
     "data": {
      "text/plain": "<Figure size 1000x400 with 2 Axes>",
      "image/png": "[encoded data removed]"
     },
     "metadata": {},
     "output_type": "display_data"
    },
    {
     "name": "stdout",
     "output_type": "stream",
     "text": [
      "339/339 [==============================] - 0s 821us/step\n",
      "\n",
      "###### Training ######\n",
      "              precision    recall  f1-score   support\n",
      "\n",
      "           0       1.00      0.75      0.86      1204\n",
      "           1       0.77      0.93      0.84      1204\n",
      "           2       0.86      0.90      0.88      1204\n",
      "           3       0.82      0.82      0.82      1204\n",
      "           4       0.71      0.78      0.75      1204\n",
      "           5       0.55      0.71      0.62      1204\n",
      "           6       0.68      0.36      0.47      1204\n",
      "           7       0.80      0.76      0.78      1204\n",
      "           8       0.86      1.00      0.93      1204\n",
      "\n",
      "    accuracy                           0.78     10836\n",
      "   macro avg       0.78      0.78      0.77     10836\n",
      "weighted avg       0.78      0.78      0.77     10836\n",
      "\n",
      "47/47 [==============================] - 0s 1ms/step\n",
      "\n",
      "###### Validation ######\n",
      "              precision    recall  f1-score   support\n",
      "\n",
      "           0       0.83      0.88      0.86        17\n",
      "           1       0.86      0.85      0.85        92\n",
      "           2       0.83      0.84      0.84       190\n",
      "           3       0.83      0.83      0.83       318\n",
      "           4       0.72      0.83      0.77       401\n",
      "           5       0.75      0.68      0.72       358\n",
      "           6       0.64      0.31      0.42        96\n",
      "           7       0.42      0.76      0.54        17\n",
      "           8       0.50      1.00      0.67         5\n",
      "\n",
      "    accuracy                           0.77      1494\n",
      "   macro avg       0.71      0.78      0.72      1494\n",
      "weighted avg       0.77      0.77      0.76      1494\n",
      "\n",
      "47/47 [==============================] - 0s 1ms/step\n",
      "\n",
      "###### Test ######\n",
      "              precision    recall  f1-score   support\n",
      "\n",
      "           0       0.88      0.82      0.85        17\n",
      "           1       0.90      0.89      0.90        93\n",
      "           2       0.84      0.89      0.86       190\n",
      "           3       0.85      0.82      0.83       319\n",
      "           4       0.76      0.82      0.79       402\n",
      "           5       0.77      0.75      0.76       358\n",
      "           6       0.68      0.40      0.50        96\n",
      "           7       0.40      0.94      0.57        18\n",
      "           8       1.00      0.83      0.91         6\n",
      "\n",
      "    accuracy                           0.79      1499\n",
      "   macro avg       0.79      0.80      0.77      1499\n",
      "weighted avg       0.79      0.79      0.79      1499\n"
     ]
    }
   ],
   "source": [
    "model, _, _ = train_shallow_fnn_model(\n",
    "                        df, \n",
    "                        epochs=2000, \n",
    "                        patience=10, \n",
    "                        units=512,\n",
    "                        dropout_rate=0.2,\n",
    "                        learning_rate=0.0015,\n",
    "                        verbose=2,\n",
    "                        epsilon = 1e-07,\n",
    "                        beta_1 = 0.9,\n",
    "                        beta_2 = 0.999,\n",
    "                        weight_decay = None,\n",
    "                        clipnorm = None,\n",
    "                        clipvalue = None,\n",
    "                        disable_print_report=True,\n",
    "                        disable_save=True)\n",
    "\n",
    "print_results(model)"
   ],
   "metadata": {
    "collapsed": false,
    "ExecuteTime": {
     "end_time": "2023-12-23T20:55:45.171871800Z",
     "start_time": "2023-12-23T20:55:34.848528700Z"
    }
   },
   "id": "a5511bb76b7347f2"
  },
  {
   "cell_type": "code",
   "execution_count": null,
   "outputs": [],
   "source": [
    "y_pred = model.predict(x_test).argmax(axis=1)\n",
    "\n",
    "result = test_df \n",
    "result[\"predicted_country_risk\"] = y_pred\n",
    "\n",
    "distribution = result.groupby([\"country_risk\", \"predicted_country_risk\"]).size().reset_index().rename(columns={0: 'count'})\n",
    "distribution[\"difference\"] = distribution[\"country_risk\"] - distribution[\"predicted_country_risk\"]\n",
    "print(distribution)"
   ],
   "metadata": {
    "collapsed": false
   },
   "id": "284d312c99d33fff"
  },
  {
   "cell_type": "code",
   "execution_count": null,
   "outputs": [],
   "source": [
    "plt.bar(distribution[\"difference\"], distribution[\"count\"])\n",
    "plt.xlabel(\"difference\")\n",
    "plt.ylabel(\"count\")\n",
    "plt.show()"
   ],
   "metadata": {
    "collapsed": false
   },
   "id": "a7e0f9702100f25a"
  },
  {
   "cell_type": "code",
   "execution_count": null,
   "outputs": [],
   "source": [],
   "metadata": {
    "collapsed": false
   },
   "id": "a6ebb9fe372e191c"
  }
 ],
 "metadata": {
  "kernelspec": {
   "display_name": "Python 3",
   "language": "python",
   "name": "python3"
  },
  "language_info": {
   "codemirror_mode": {
    "name": "ipython",
    "version": 2
   },
   "file_extension": ".py",
   "mimetype": "text/x-python",
   "name": "python",
   "nbconvert_exporter": "python",
   "pygments_lexer": "ipython2",
   "version": "2.7.6"
  }
 },
 "nbformat": 4,
 "nbformat_minor": 5
}
