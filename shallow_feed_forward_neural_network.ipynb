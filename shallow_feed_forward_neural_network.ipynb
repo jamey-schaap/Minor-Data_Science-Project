{
 "cells": [
  {
   "cell_type": "code",
   "execution_count": null,
   "outputs": [],
   "source": [
    "import pandas as pd\n",
    "from sklearn.metrics import classification_report\n",
    "import os\n",
    "import warnings\n",
    "from configs.data import MACHINE_LEARNING_DATASET_PATH\n",
    "from machine_learning.utils import split_data, scale_dataset\n",
    "from machine_learning.neural_networks.utils import get_tensorflow_version, plot_history\n",
    "from machine_learning.neural_networks.deep_fnn import train_deep_fnn_model\n",
    "from tensorflow.keras.models import load_model\n",
    "from configs.enums import Column, RiskClassifications\n",
    "import numpy as np\n",
    "import matplotlib.pyplot as plt\n",
    "from configs.data import MERGED_DATASET_PATH, OUT_PATH, MODELS_PATH\n",
    "import shap\n",
    "\n",
    "warnings.simplefilter(action='ignore', category=FutureWarning)\n",
    "np.random.seed(0)"
   ],
   "metadata": {
    "collapsed": false
   },
   "id": "bd7b15f8c001f56e"
  },
  {
   "cell_type": "code",
   "execution_count": null,
   "outputs": [],
   "source": [
    "def tune_ann_model(df, units, dropout_rates, learning_rates):\n",
    "    least_val_loss = float('inf')\n",
    "    least_val_loss_params = []\n",
    "    \n",
    "    i = 1 \n",
    "    max = len(units) * len(dropout_rates) * len(learning_rates)\n",
    "    for u in units:\n",
    "        for dr in dropout_rates:\n",
    "            for lr in learning_rates:  \n",
    "                print(f\"[{i}/{max}] Units: {u}; Dropout rate: {dr}; Learning rate: {lr};\")\n",
    "                \n",
    "                model, _ = train_ann_model(\n",
    "                    df, \n",
    "                    epochs=100, \n",
    "                    patience=20, \n",
    "                    units=u,\n",
    "                    dropout_rate=dr,\n",
    "                    learning_rate=lr,\n",
    "                    verbose=0,\n",
    "                    disable_save=True,\n",
    "                    disable_plot_history=True,\n",
    "                    disable_print_report=True)\n",
    "                \n",
    "                val_loss, val_acc = model.evaluate(x_test, test_labels)\n",
    "                print(f\"Loss: {val_loss}; Accuracy: {val_acc};\")\n",
    "                if val_loss < least_val_loss:\n",
    "                    model.save(os.path.join(os.environ[\"OUTPUT_PATH\"], \"Risk_factor_ann_model.keras\"))\n",
    "                    least_val_loss = val_loss\n",
    "                    least_val_loss_params = [u, dr, lr]\n",
    "                    \n",
    "                i += 1\n",
    "                        \n",
    "    print(least_val_loss_params)\n",
    "    print(least_val_loss)"
   ],
   "metadata": {
    "collapsed": false
   },
   "id": "initial_id"
  },
  {
   "cell_type": "code",
   "execution_count": null,
   "outputs": [],
   "source": [
    "tune_ann_model(df=df,\n",
    "                units=[320],\n",
    "                dropout_rates=[0.2],\n",
    "                learning_rates=[0.002])"
   ],
   "metadata": {
    "collapsed": false
   },
   "id": "b08d39c0a5a3d8dd"
  },
  {
   "cell_type": "code",
   "execution_count": null,
   "outputs": [],
   "source": [
    "model, _ = train_ann_model(\n",
    "                        df, \n",
    "                        epochs=100, \n",
    "                        patience=10, \n",
    "                        units=320,\n",
    "                        dropout_rate=0.2,\n",
    "                        learning_rate=0.002,\n",
    "                        verbose=2,\n",
    "                        disable_save=True)\n",
    "\n",
    "val_loss, val_acc = model.evaluate(x_test, test_labels)\n",
    "print(f\"Loss: {val_loss}; Accuracy: {val_acc};\")"
   ],
   "metadata": {
    "collapsed": false
   },
   "id": "a5511bb76b7347f2"
  },
  {
   "cell_type": "code",
   "execution_count": null,
   "outputs": [],
   "source": [
    "y_pred_train = model.predict(x_train).argmax(axis=1)\n",
    "print(classification_report(train_labels, y_pred_train))\n",
    "\n",
    "y_pred_valid = model.predict(x_val).argmax(axis=1)\n",
    "print(classification_report(val_labels, y_pred_valid))\n",
    "\n",
    "y_pred = model.predict(x_test).argmax(axis=1)\n",
    "print(classification_report(test_labels, y_pred))"
   ],
   "metadata": {
    "collapsed": false
   },
   "id": "3c5dd330ef155c14"
  }
 ],
 "metadata": {
  "kernelspec": {
   "display_name": "Python 3",
   "language": "python",
   "name": "python3"
  },
  "language_info": {
   "codemirror_mode": {
    "name": "ipython",
    "version": 2
   },
   "file_extension": ".py",
   "mimetype": "text/x-python",
   "name": "python",
   "nbconvert_exporter": "python",
   "pygments_lexer": "ipython2",
   "version": "2.7.6"
  }
 },
 "nbformat": 4,
 "nbformat_minor": 5
}
