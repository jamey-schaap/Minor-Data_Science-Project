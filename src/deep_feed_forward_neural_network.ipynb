{
 "cells": [
  {
   "cell_type": "code",
   "execution_count": null,
   "outputs": [],
   "source": [
    "import pandas as pd\n",
    "from sklearn.metrics import classification_report\n",
    "import os\n",
    "import warnings\n",
    "from machine_learning.utils import scale_dataset, get_distribution, plot_distribution\n",
    "from machine_learning.neural_networks.utils import plot_history, split_data\n",
    "from machine_learning.neural_networks.deep_fnn import train_deep_fnn_model\n",
    "from configs.enums import Column, RiskClassifications\n",
    "import numpy as np\n",
    "import matplotlib.pyplot as plt\n",
    "from configs.data import MACHINE_LEARNING_DATASET_PATH, MERGED_DATASET_PATH, OUT_PATH, MODELS_PATH, VERSION\n",
    "import shap\n",
    "import tensorflow as tf\n",
    "from typing import Tuple\n",
    "\n",
    "warnings.simplefilter(action='ignore', category=FutureWarning)\n",
    "np.random.seed(0)"
   ],
   "metadata": {
    "collapsed": false
   },
   "id": "initial_id"
  },
  {
   "cell_type": "markdown",
   "source": [
    "## Loading the dataset"
   ],
   "metadata": {
    "collapsed": false
   },
   "id": "318dc18bb83c8386"
  },
  {
   "cell_type": "code",
   "execution_count": null,
   "outputs": [],
   "source": [
    "df = pd.read_excel(MACHINE_LEARNING_DATASET_PATH)\n",
    "train_df, valid_df, test_df = split_data(df)\n",
    "train, x_train, train_labels = scale_dataset(train_df, oversample=True)\n",
    "valid, x_val, val_labels = scale_dataset(valid_df, oversample=False)\n",
    "test, x_test, test_labels = scale_dataset(test_df, oversample=False)\n",
    "\n",
    "print(f\"Train: {x_train.shape}, Valid: {x_val.shape}, Test: {x_test.shape}\")"
   ],
   "metadata": {
    "collapsed": false
   },
   "id": "e9e3b783640832f"
  },
  {
   "cell_type": "markdown",
   "source": [
    "## Utility function definitions"
   ],
   "metadata": {
    "collapsed": false
   },
   "id": "c5dc5f90d6b3215e"
  },
  {
   "cell_type": "code",
   "execution_count": null,
   "outputs": [],
   "source": [
    "def print_results(model: tf.keras.models.Sequential) -> Tuple:\n",
    "    \"\"\"\n",
    "    Prints the confusion matrices for the train, validation and test data. \n",
    "    :param model: tf.keras.models.Sequential, A model that will perform the predictions. \n",
    "    :return: Tuple, containing the prediction results.\n",
    "    \"\"\"\n",
    "    y_pred_train = model.predict(x_train).argmax(axis=1)\n",
    "    print(\"\\n###### Training ######\")\n",
    "    print(classification_report(train_labels, y_pred_train))\n",
    "    \n",
    "    y_pred_valid = model.predict(x_val).argmax(axis=1)\n",
    "    print(\"\\n###### Validation ######\")\n",
    "    print(classification_report(val_labels, y_pred_valid))\n",
    "    \n",
    "    y_pred = model.predict(x_test).argmax(axis=1)\n",
    "    print(\"\\n###### Test ######\")\n",
    "    print(classification_report(test_labels, y_pred))\n",
    "    \n",
    "    return y_pred_train, y_pred_valid, y_pred"
   ],
   "metadata": {
    "collapsed": false
   },
   "id": "2258abc54cae18c3"
  },
  {
   "cell_type": "markdown",
   "source": [
    "## Load model from file"
   ],
   "metadata": {
    "collapsed": false
   },
   "id": "6c96243509c2d54d"
  },
  {
   "cell_type": "code",
   "execution_count": null,
   "outputs": [],
   "source": [
    "model_file = \"FormulaData-tf-2.15.0_Deep_Adam_8_256_0.2_0.001_2000.fnn.keras\"\n",
    "model = tf.keras.models.load_model(os.path.join(MODELS_PATH, model_file))\n",
    "\n",
    "_, _, y_pred = print_results(model)"
   ],
   "metadata": {
    "collapsed": false
   },
   "id": "25f3960170fbb930"
  },
  {
   "cell_type": "markdown",
   "source": [
    "## Tuning"
   ],
   "metadata": {
    "collapsed": false
   },
   "id": "4576bd762e555588"
  },
  {
   "cell_type": "markdown",
   "source": [
    "### Parameter tuning"
   ],
   "metadata": {
    "collapsed": false
   },
   "id": "3b1105c87ccc13ef"
  },
  {
   "cell_type": "code",
   "execution_count": null,
   "outputs": [],
   "source": [
    "def tune_deep_fnn_model(df: pd.DataFrame, \n",
    "                        layers: [int], \n",
    "                        units: [int], \n",
    "                        dropout_rates: [float], \n",
    "                        learning_rates: [float], \n",
    "                        epochs: int = 200, \n",
    "                        patience: [int] = [10, 20], \n",
    "                        batch_sizes: [int] = [128]) -> Tuple[tf.keras.models.Sequential, tf.keras.callbacks.History, int]:\n",
    "    \"\"\"Tunes the parameters of a deep feed forward network\"\"\"\n",
    "    import time\n",
    "    from datetime import timedelta\n",
    "    \n",
    "    least_val_lost_file_name = f\"tuning_least_val_loss.deep.fnn.keras\"\n",
    "    \n",
    "    to_hh_mm_ss = lambda seconds: str(timedelta(seconds=seconds)).rsplit(\".\")[0]\n",
    "    \n",
    "    least_val_loss = float('inf')\n",
    "    least_val_loss_params = []\n",
    "    least_val_loss_accuracy = float('inf')\n",
    "    least_val_loss_model = None  \n",
    "    least_val_loss_history = None\n",
    "    eta = None\n",
    "    \n",
    "    time_past = 0\n",
    "    \n",
    "    i = 1 \n",
    "    max = len(layers) * len(units) * len(dropout_rates) * len(learning_rates) * len(patience) * len(batch_sizes)\n",
    "    \n",
    "    print(\"[prev: N/A] [eta: TBD]\")\n",
    "    \n",
    "    for l in layers:\n",
    "        for u in units:\n",
    "            for dr in dropout_rates:\n",
    "                for lr in learning_rates: \n",
    "                    for pt in patience:\n",
    "                        for bt in batch_sizes:\n",
    "                            start_time = time.time()\n",
    "    \n",
    "                            print(f\"[{i}/{max}] Layers: {l}; Units: {u}; Dropout rate: {dr}; Learning rate: {lr}; Patience: {pt}; Batch size: {bt}\")\n",
    "                            \n",
    "                            model, history, num_classes = train_deep_fnn_model(\n",
    "                                df, \n",
    "                                epochs=epochs, \n",
    "                                patience=pt, \n",
    "                                layers=l, \n",
    "                                units=u,\n",
    "                                dropout_rate=dr,\n",
    "                                learning_rate=lr,\n",
    "                                epsilon = 1e-07,\n",
    "                                beta_1 = 0.9,\n",
    "                                beta_2 = 0.999,\n",
    "                                weight_decay = 0,\n",
    "                                clipnorm = None,\n",
    "                                clipvalue = None,\n",
    "                                batch_size=bt,\n",
    "                                verbose=0,\n",
    "                                disable_save=True,\n",
    "                                disable_plot_history=True,\n",
    "                                disable_print_report=True)\n",
    "                            \n",
    "                            val_loss, val_acc = model.evaluate(x_test, test_labels)\n",
    "                            print(f\"Loss: {val_loss}; Accuracy: {val_acc};\")\n",
    "                            if val_loss < least_val_loss:\n",
    "                                model.save(os.path.join(MODELS_PATH, least_val_lost_file_name))\n",
    "                                least_val_loss = val_loss\n",
    "                                least_val_loss_params = [l, u, dr, lr, pt, bt]\n",
    "                                least_val_loss_accuracy = val_acc\n",
    "                                least_val_loss_model = model\n",
    "                                least_val_loss_history = history\n",
    "                                \n",
    "                            duration = time.time() - start_time\n",
    "                            time_past += duration\n",
    "                            avg_duration = time_past / i\n",
    "                            eta = time_past + avg_duration * (max - i)\n",
    "                            \n",
    "                            print(f\"\\n[eta: {to_hh_mm_ss(time_past)}/{to_hh_mm_ss(eta)}] [prev: {to_hh_mm_ss(duration)}] [avg: {to_hh_mm_ss(avg_duration)}]\")\n",
    "                                \n",
    "                            i += 1\n",
    "    \n",
    "    l, u, dr, lr, pt, bt = least_val_loss_params\n",
    "    print(\"\\nLeast validation loss:\")              \n",
    "    print(f\"\\tParams:\\t {{Layers: {l}; Units: {u}; Dropout rate: {dr}; Learning rate: {lr}; Patience: {pt}; Batch size: {bt}}}\")\n",
    "    print(\"\\tLoss:\\t\", least_val_loss)\n",
    "    print(\"\\tAccuracy:\\t\", least_val_loss_accuracy)\n",
    "    \n",
    "    best_model_file_name = f\"{VERSION}_Adam_{l}_{u}_{dr}_{lr}_{epochs}_{pt}_{bt}_{least_val_loss}.deep_fnn.keras\"\n",
    "    os.rename(\n",
    "        os.path.join(MODELS_PATH, least_val_lost_file_name), \n",
    "        os.path.join(MODELS_PATH, best_model_file_name))\n",
    "    print(f\"\\nModel has been saved as '{best_model_file_name}'\")\n",
    "    \n",
    "    plot_history(least_val_loss_history, num_classes)\n",
    "    \n",
    "    print_results(model)\n",
    "    \n",
    "    return least_val_loss_model, least_val_loss_history, num_classes\n"
   ],
   "metadata": {
    "collapsed": false
   },
   "id": "bc74cfdd9caf2bd2"
  },
  {
   "cell_type": "code",
   "execution_count": null,
   "outputs": [],
   "source": [
    "model, history, num_classes = tune_deep_fnn_model(\n",
    "        df=df,\n",
    "        epochs=1000,\n",
    "        # Layers: 1, 2, 3, 4, 5, 6, 7\n",
    "        layers=[2, 4],\n",
    "        # Units: 8, 16, 32, 64, 96, 128, 160, 192\n",
    "        units=[128, 256, 512],\n",
    "        # Dropout rates: 0.2, 0.3, 0.4, 0.5\n",
    "        dropout_rates=[0.2], \n",
    "        # Learning rates: # 0.0001, 0.0005, 0.00075, 0.001, 0.00125, 0.0015, 0.00175, 0.002\n",
    "        learning_rates=[0.001, 0.0015, 0.00175],   \n",
    "        # Patience: 10, 20\n",
    "        patience=[10, 20, 30],\n",
    "        # Batch sizes: 10, 50, 100, 128, 150, 200, 250\n",
    "        batch_sizes=[128]  \n",
    "    )\n",
    "\n",
    "# Least validation loss:\n",
    "# \tParams:\t {Layers: 4; Units: 512; Dropout rate: 0.2; Learning rate: 0.0015; Patience: 10; Batch size: 128}\n",
    "# \tLoss:\t 0.5589165091514587\n",
    "# \tAccuracy:\t 0.7745163440704346"
   ],
   "metadata": {
    "collapsed": false
   },
   "id": "4b67271b9e804558"
  },
  {
   "cell_type": "markdown",
   "source": [
    "## Manual Tuning"
   ],
   "metadata": {
    "collapsed": false
   },
   "id": "ac627e9fa133af3"
  },
  {
   "cell_type": "code",
   "execution_count": null,
   "outputs": [],
   "source": [
    "model, _, num_classes = train_deep_fnn_model(\n",
    "                        df, \n",
    "                        epochs=2000, \n",
    "                        patience=5, \n",
    "                        layers=8, \n",
    "                        units=256,\n",
    "                        dropout_rate=0.2,\n",
    "                        learning_rate=0.001,\n",
    "                        verbose=2,\n",
    "                        batch_size=32,\n",
    "                        disable_print_report=True)\n",
    "_, _, y_pred = print_results(model)"
   ],
   "metadata": {
    "collapsed": false
   },
   "id": "117af0c4f8460a42"
  },
  {
   "cell_type": "code",
   "execution_count": null,
   "outputs": [],
   "source": [
    "distribution = get_distribution(test_df, y_pred)\n",
    "# print(distribution)\n",
    "plot_distribution(distribution)"
   ],
   "metadata": {
    "collapsed": false
   },
   "id": "3966e84bbf194fed"
  },
  {
   "cell_type": "markdown",
   "source": [
    "### 2.4 Shap"
   ],
   "metadata": {
    "collapsed": false
   },
   "id": "921546bb2dd95774"
  },
  {
   "cell_type": "code",
   "execution_count": null,
   "outputs": [],
   "source": [
    "explainer = shap.KernelExplainer(model.predict, x_train)\n",
    "shap_values = explainer.shap_values(shap.sample(x_test, 20), nsamples=100, random_state=41) # default of nsamples = 2 * X.shape[1] + 2048 = 2066 \n",
    "# explainer.save()\n",
    "\n",
    "from configs.enums import RISKCLASSIFICATIONS\n",
    "feature_names = df.columns.tolist()\n",
    "feature_names.remove(Column.COUNTRY_RISK)"
   ],
   "metadata": {
    "collapsed": false
   },
   "id": "590b521a6f69e"
  },
  {
   "cell_type": "code",
   "execution_count": null,
   "outputs": [],
   "source": [
    "shap.summary_plot(shap_values, x_test, \n",
    "                  feature_names=feature_names,\n",
    "                  class_names=RISKCLASSIFICATIONS.get_names())"
   ],
   "metadata": {
    "collapsed": false
   },
   "id": "5cf2d9d36017d0ca"
  }
 ],
 "metadata": {
  "kernelspec": {
   "display_name": "Python 3 (ipykernel)",
   "language": "python",
   "name": "python3"
  },
  "language_info": {
   "codemirror_mode": {
    "name": "ipython",
    "version": 3
   },
   "file_extension": ".py",
   "mimetype": "text/x-python",
   "name": "python",
   "nbconvert_exporter": "python",
   "pygments_lexer": "ipython3",
   "version": "3.11.0rc1"
  }
 },
 "nbformat": 4,
 "nbformat_minor": 5
}
