{
 "cells": [
  {
   "cell_type": "code",
   "execution_count": 1,
   "outputs": [],
   "source": [
    "import pandas as pd\n",
    "from configs.data import MACHINE_LEARNING_DATASET_PATH, MERGED_DATASET_PATH, OUT_PATH, VERSION\n",
    "from sklearn.metrics import classification_report\n",
    "import numpy as np\n",
    "from configs.enums import Column, RISKCLASSIFICATIONS\n",
    "from machine_learning.utils import scale_dataset\n",
    "from sklearn.model_selection import cross_val_score\n",
    "import shap\n",
    "from typing import Tuple\n",
    "import matplotlib.pyplot as plt\n",
    "from machine_learning.utils import plot_distribution, get_distribution"
   ],
   "metadata": {
    "collapsed": false,
    "ExecuteTime": {
     "end_time": "2024-01-05T17:16:52.362308800Z",
     "start_time": "2024-01-05T17:16:48.269994100Z"
    }
   },
   "id": "76f1541520d536e3"
  },
  {
   "cell_type": "markdown",
   "source": [
    "## Load and split dataset"
   ],
   "metadata": {
    "collapsed": false
   },
   "id": "b941153406aba070"
  },
  {
   "cell_type": "code",
   "execution_count": 2,
   "outputs": [],
   "source": [
    "def split_data(dataframe: pd.DataFrame):\n",
    "    data_by_risk = [dataframe[dataframe[\"country_risk\"] == v] for v in RISKCLASSIFICATIONS.get_values()]\n",
    "    split_data = [\n",
    "        # Train (70%) and test (30%) datasets\n",
    "        np.split(sd.sample(frac=1, random_state=0), [int(0.7 * len(sd))])\n",
    "        for sd\n",
    "        in data_by_risk\n",
    "    ]\n",
    "\n",
    "    train = pd.concat([row[0] for row in split_data])\n",
    "    test = pd.concat([row[1] for row in split_data])\n",
    "\n",
    "    return train, test"
   ],
   "metadata": {
    "collapsed": false,
    "ExecuteTime": {
     "end_time": "2024-01-05T17:16:52.376647Z",
     "start_time": "2024-01-05T17:16:52.368308800Z"
    }
   },
   "id": "5e3ceb847fe21e0c"
  },
  {
   "cell_type": "code",
   "execution_count": 3,
   "outputs": [
    {
     "name": "stderr",
     "output_type": "stream",
     "text": [
      "'DataFrame.swapaxes' is deprecated and will be removed in a future version. Please use 'DataFrame.transpose' instead.\n"
     ]
    }
   ],
   "source": [
    "df = pd.read_excel(MACHINE_LEARNING_DATASET_PATH)\n",
    "\n",
    "train_df, test_df = split_data(df)\n",
    "\n",
    "train, x_train, train_labels = scale_dataset(train_df, oversample=True)\n",
    "test, x_test, test_labels = scale_dataset(test_df, oversample=False)  "
   ],
   "metadata": {
    "collapsed": false,
    "ExecuteTime": {
     "end_time": "2024-01-05T17:16:53.452612700Z",
     "start_time": "2024-01-05T17:16:52.374644500Z"
    }
   },
   "id": "58a22c5e76a55955"
  },
  {
   "cell_type": "markdown",
   "source": [
    "## Utility function definitions"
   ],
   "metadata": {
    "collapsed": false
   },
   "id": "8f9fc6e214f16a97"
  },
  {
   "cell_type": "code",
   "execution_count": 4,
   "outputs": [],
   "source": [
    "def print_results(model) -> Tuple:\n",
    "    y_pred_train = model.predict(x_train)\n",
    "    print(\"\\n###### Training ######\")\n",
    "    print(classification_report(train_labels, y_pred_train))\n",
    "\n",
    "    y_pred = model.predict(x_test)\n",
    "    print(\"\\n###### Test ######\")\n",
    "    print(classification_report(test_labels, y_pred))\n",
    "    \n",
    "    return y_pred_train, y_pred"
   ],
   "metadata": {
    "collapsed": false,
    "ExecuteTime": {
     "end_time": "2024-01-05T17:16:53.452612700Z",
     "start_time": "2024-01-05T17:16:53.447584800Z"
    }
   },
   "id": "99fcae97297d061d"
  },
  {
   "cell_type": "code",
   "execution_count": 5,
   "outputs": [],
   "source": [
    "feature_names = df.columns.tolist()\n",
    "feature_names.remove(Column.COUNTRY_RISK)"
   ],
   "metadata": {
    "collapsed": false,
    "ExecuteTime": {
     "end_time": "2024-01-05T17:16:53.463878600Z",
     "start_time": "2024-01-05T17:16:53.453620400Z"
    }
   },
   "id": "2da1b088a4429e9d"
  },
  {
   "cell_type": "code",
   "execution_count": 6,
   "outputs": [],
   "source": [
    "def k_cross_validation(model, k=10):\n",
    "    X = df[feature_names]\n",
    "    y = df[Column.COUNTRY_RISK]  \n",
    "    \n",
    "    scores = cross_val_score(model, X, y, cv=k)\n",
    "    avg_score = np.average((scores))\n",
    "    print(\"Scores:\",scores)\n",
    "    print(\"Avg:\", avg_score)\n",
    "    \n",
    "    return scores, avg_score"
   ],
   "metadata": {
    "collapsed": false,
    "ExecuteTime": {
     "end_time": "2024-01-05T17:16:53.466884Z",
     "start_time": "2024-01-05T17:16:53.460974700Z"
    }
   },
   "id": "a1dc6f5b6dcf4dbc"
  },
  {
   "cell_type": "markdown",
   "source": [
    "### Shap"
   ],
   "metadata": {
    "collapsed": false
   },
   "id": "7b568016003abc99"
  },
  {
   "cell_type": "code",
   "execution_count": 7,
   "outputs": [],
   "source": [
    "def calculate_shap_values(model) -> Tuple:\n",
    "    explainer = shap.KernelExplainer(model.predict, x_train)\n",
    "    shap_values = explainer.shap_values(x_test, nsamples=100)\n",
    "    return explainer, shap_values"
   ],
   "metadata": {
    "collapsed": false,
    "ExecuteTime": {
     "end_time": "2024-01-05T17:16:53.476532700Z",
     "start_time": "2024-01-05T17:16:53.467883700Z"
    }
   },
   "id": "fb1807d5a07cfd63"
  },
  {
   "cell_type": "markdown",
   "source": [
    "## KNN"
   ],
   "metadata": {
    "collapsed": false
   },
   "id": "9eeca891b4310b5f"
  },
  {
   "cell_type": "code",
   "execution_count": 8,
   "outputs": [
    {
     "name": "stdout",
     "output_type": "stream",
     "text": [
      "\n",
      "###### Training ######\n",
      "              precision    recall  f1-score   support\n",
      "\n",
      "           0       0.96      1.00      0.98      1404\n",
      "           1       0.94      0.92      0.93      1404\n",
      "           2       0.87      0.87      0.87      1404\n",
      "           3       0.83      0.79      0.81      1404\n",
      "           4       0.77      0.66      0.71      1404\n",
      "           5       0.70      0.67      0.68      1404\n",
      "           6       0.70      0.73      0.72      1404\n",
      "           7       0.80      0.90      0.85      1404\n",
      "           8       0.95      1.00      0.97      1404\n",
      "\n",
      "    accuracy                           0.84     12636\n",
      "   macro avg       0.84      0.84      0.84     12636\n",
      "weighted avg       0.84      0.84      0.84     12636\n",
      "\n",
      "\n",
      "###### Test ######\n",
      "              precision    recall  f1-score   support\n",
      "\n",
      "           0       0.72      1.00      0.84        26\n",
      "           1       0.88      0.88      0.88       139\n",
      "           2       0.83      0.87      0.85       285\n",
      "           3       0.84      0.81      0.82       478\n",
      "           4       0.82      0.65      0.72       603\n",
      "           5       0.70      0.65      0.67       537\n",
      "           6       0.42      0.67      0.52       144\n",
      "           7       0.24      0.92      0.38        26\n",
      "           8       0.50      0.88      0.64         8\n",
      "\n",
      "    accuracy                           0.73      2246\n",
      "   macro avg       0.66      0.81      0.70      2246\n",
      "weighted avg       0.77      0.73      0.74      2246\n"
     ]
    }
   ],
   "source": [
    "from sklearn.neighbors import KNeighborsClassifier\n",
    "knn_model = KNeighborsClassifier(n_neighbors=50)\n",
    "knn_model.fit(x_train, train_labels)\n",
    "\n",
    "_, y_pred = print_results(knn_model)"
   ],
   "metadata": {
    "collapsed": false,
    "ExecuteTime": {
     "end_time": "2024-01-05T17:16:55.480219500Z",
     "start_time": "2024-01-05T17:16:54.278492400Z"
    }
   },
   "id": "f2f44540bdf8ca63"
  },
  {
   "cell_type": "code",
   "execution_count": null,
   "outputs": [],
   "source": [
    "knn_scores, knn_avg_scores = k_cross_validation(knn_model)"
   ],
   "metadata": {
    "collapsed": false
   },
   "id": "22f22bad6c79758"
  },
  {
   "cell_type": "code",
   "execution_count": 9,
   "outputs": [
    {
     "name": "stderr",
     "output_type": "stream",
     "text": [
      "Setting an item of incompatible dtype is deprecated and will raise in a future error of pandas. Value 'low_0' has dtype incompatible with int64, please explicitly cast to a compatible dtype first.\n",
      "\n",
      "A value is trying to be set on a copy of a slice from a DataFrame.\n",
      "Try using .loc[row_indexer,col_indexer] = value instead\n",
      "\n",
      "See the caveats in the documentation: https://pandas.pydata.org/pandas-docs/stable/user_guide/indexing.html#returning-a-view-versus-a-copy\n",
      "\n",
      "A value is trying to be set on a copy of a slice from a DataFrame.\n",
      "Try using .loc[row_indexer,col_indexer] = value instead\n",
      "\n",
      "See the caveats in the documentation: https://pandas.pydata.org/pandas-docs/stable/user_guide/indexing.html#returning-a-view-versus-a-copy\n"
     ]
    },
    {
     "data": {
      "text/plain": "      year                            country  polity2  durable  fragment  \\\n5861  1977                       Saudi Arabia      -10       51         0   \n7011  1998                     United Kingdom       10      118         0   \n363   2009                            Austria       10       63         0   \n1096  2008                             Canada       10      120         0   \n1097  2009                             Canada       10      121         0   \n...    ...                                ...      ...      ...       ...   \n4440  1968                               Mali       -7        8         0   \n2183  2003                           Ethiopia        1        8         0   \n938   1994                            Burundi        0        0         0   \n3836  1993                            Liberia        0        0         0   \n7374  2008  Congo, Democratic Republic of the        5        2         1   \n\n      gov_instability     gdp_rppp   gdp_rppp_pc  igov_rppp  ipriv_rppp  \\\n5861                0   742.987793  84862.273916  52.070137   41.002678   \n7011                0  2108.601562  36052.395902  38.371407  341.133820   \n363                 0   424.346100  50860.562375  14.336362   80.998306   \n1096                0  1522.818359  45803.018456  63.168842  317.800995   \n1097                0  1478.261475  43958.074585  69.042236  268.824738   \n...               ...          ...           ...        ...         ...   \n4440                1     1.465057    245.248622   0.020099    0.145065   \n2183                8    51.947659    709.969708   1.967131    1.589661   \n938                 4     5.814970   1040.913950   0.030692    0.094637   \n3836                3     0.789138    370.005978   0.008488    0.043327   \n7374               22    48.213375    774.515484   0.902158    2.149984   \n\n      ippp_rppp country_risk predicted_country_risk  norm_risk  \n5861   0.000000        low_1                  low_2   0.206145  \n7011   6.571032        low_1                  low_0   0.118406  \n363    0.289296        low_1                  low_2   0.216857  \n1096   0.000000        low_1                  low_0   0.115244  \n1097   0.000000        low_1                  low_0   0.117408  \n...         ...          ...                    ...        ...  \n4440   0.000000       high_0               medium_2   0.677843  \n2183   0.000000       high_0                 high_1   0.699851  \n938    0.000000       high_0                 high_1   0.775914  \n3836   0.000000       high_1                 high_0   0.846401  \n7374   0.000000       high_1                 high_0   0.778002  \n\n[600 rows x 14 columns]",
      "text/html": "<div>\n<style scoped>\n    .dataframe tbody tr th:only-of-type {\n        vertical-align: middle;\n    }\n\n    .dataframe tbody tr th {\n        vertical-align: top;\n    }\n\n    .dataframe thead th {\n        text-align: right;\n    }\n</style>\n<table border=\"1\" class=\"dataframe\">\n  <thead>\n    <tr style=\"text-align: right;\">\n      <th></th>\n      <th>year</th>\n      <th>country</th>\n      <th>polity2</th>\n      <th>durable</th>\n      <th>fragment</th>\n      <th>gov_instability</th>\n      <th>gdp_rppp</th>\n      <th>gdp_rppp_pc</th>\n      <th>igov_rppp</th>\n      <th>ipriv_rppp</th>\n      <th>ippp_rppp</th>\n      <th>country_risk</th>\n      <th>predicted_country_risk</th>\n      <th>norm_risk</th>\n    </tr>\n  </thead>\n  <tbody>\n    <tr>\n      <th>5861</th>\n      <td>1977</td>\n      <td>Saudi Arabia</td>\n      <td>-10</td>\n      <td>51</td>\n      <td>0</td>\n      <td>0</td>\n      <td>742.987793</td>\n      <td>84862.273916</td>\n      <td>52.070137</td>\n      <td>41.002678</td>\n      <td>0.000000</td>\n      <td>low_1</td>\n      <td>low_2</td>\n      <td>0.206145</td>\n    </tr>\n    <tr>\n      <th>7011</th>\n      <td>1998</td>\n      <td>United Kingdom</td>\n      <td>10</td>\n      <td>118</td>\n      <td>0</td>\n      <td>0</td>\n      <td>2108.601562</td>\n      <td>36052.395902</td>\n      <td>38.371407</td>\n      <td>341.133820</td>\n      <td>6.571032</td>\n      <td>low_1</td>\n      <td>low_0</td>\n      <td>0.118406</td>\n    </tr>\n    <tr>\n      <th>363</th>\n      <td>2009</td>\n      <td>Austria</td>\n      <td>10</td>\n      <td>63</td>\n      <td>0</td>\n      <td>0</td>\n      <td>424.346100</td>\n      <td>50860.562375</td>\n      <td>14.336362</td>\n      <td>80.998306</td>\n      <td>0.289296</td>\n      <td>low_1</td>\n      <td>low_2</td>\n      <td>0.216857</td>\n    </tr>\n    <tr>\n      <th>1096</th>\n      <td>2008</td>\n      <td>Canada</td>\n      <td>10</td>\n      <td>120</td>\n      <td>0</td>\n      <td>0</td>\n      <td>1522.818359</td>\n      <td>45803.018456</td>\n      <td>63.168842</td>\n      <td>317.800995</td>\n      <td>0.000000</td>\n      <td>low_1</td>\n      <td>low_0</td>\n      <td>0.115244</td>\n    </tr>\n    <tr>\n      <th>1097</th>\n      <td>2009</td>\n      <td>Canada</td>\n      <td>10</td>\n      <td>121</td>\n      <td>0</td>\n      <td>0</td>\n      <td>1478.261475</td>\n      <td>43958.074585</td>\n      <td>69.042236</td>\n      <td>268.824738</td>\n      <td>0.000000</td>\n      <td>low_1</td>\n      <td>low_0</td>\n      <td>0.117408</td>\n    </tr>\n    <tr>\n      <th>...</th>\n      <td>...</td>\n      <td>...</td>\n      <td>...</td>\n      <td>...</td>\n      <td>...</td>\n      <td>...</td>\n      <td>...</td>\n      <td>...</td>\n      <td>...</td>\n      <td>...</td>\n      <td>...</td>\n      <td>...</td>\n      <td>...</td>\n      <td>...</td>\n    </tr>\n    <tr>\n      <th>4440</th>\n      <td>1968</td>\n      <td>Mali</td>\n      <td>-7</td>\n      <td>8</td>\n      <td>0</td>\n      <td>1</td>\n      <td>1.465057</td>\n      <td>245.248622</td>\n      <td>0.020099</td>\n      <td>0.145065</td>\n      <td>0.000000</td>\n      <td>high_0</td>\n      <td>medium_2</td>\n      <td>0.677843</td>\n    </tr>\n    <tr>\n      <th>2183</th>\n      <td>2003</td>\n      <td>Ethiopia</td>\n      <td>1</td>\n      <td>8</td>\n      <td>0</td>\n      <td>8</td>\n      <td>51.947659</td>\n      <td>709.969708</td>\n      <td>1.967131</td>\n      <td>1.589661</td>\n      <td>0.000000</td>\n      <td>high_0</td>\n      <td>high_1</td>\n      <td>0.699851</td>\n    </tr>\n    <tr>\n      <th>938</th>\n      <td>1994</td>\n      <td>Burundi</td>\n      <td>0</td>\n      <td>0</td>\n      <td>0</td>\n      <td>4</td>\n      <td>5.814970</td>\n      <td>1040.913950</td>\n      <td>0.030692</td>\n      <td>0.094637</td>\n      <td>0.000000</td>\n      <td>high_0</td>\n      <td>high_1</td>\n      <td>0.775914</td>\n    </tr>\n    <tr>\n      <th>3836</th>\n      <td>1993</td>\n      <td>Liberia</td>\n      <td>0</td>\n      <td>0</td>\n      <td>0</td>\n      <td>3</td>\n      <td>0.789138</td>\n      <td>370.005978</td>\n      <td>0.008488</td>\n      <td>0.043327</td>\n      <td>0.000000</td>\n      <td>high_1</td>\n      <td>high_0</td>\n      <td>0.846401</td>\n    </tr>\n    <tr>\n      <th>7374</th>\n      <td>2008</td>\n      <td>Congo, Democratic Republic of the</td>\n      <td>5</td>\n      <td>2</td>\n      <td>1</td>\n      <td>22</td>\n      <td>48.213375</td>\n      <td>774.515484</td>\n      <td>0.902158</td>\n      <td>2.149984</td>\n      <td>0.000000</td>\n      <td>high_1</td>\n      <td>high_0</td>\n      <td>0.778002</td>\n    </tr>\n  </tbody>\n</table>\n<p>600 rows × 14 columns</p>\n</div>"
     },
     "execution_count": 9,
     "metadata": {},
     "output_type": "execute_result"
    }
   ],
   "source": [
    "from machine_learning.utils import output_incorrectly_predicted_xlsx\n",
    "output_incorrectly_predicted_xlsx(test_df, y_pred, \"knn\")  "
   ],
   "metadata": {
    "collapsed": false,
    "ExecuteTime": {
     "end_time": "2024-01-05T17:13:14.542256Z",
     "start_time": "2024-01-05T17:13:10.540481300Z"
    }
   },
   "id": "45bd957cd966c8e9"
  },
  {
   "cell_type": "code",
   "execution_count": null,
   "outputs": [],
   "source": [
    "_, shap_values = calculate_shap_values(knn_model)\n",
    "shap.summary_plot(shap_values, x_test, feature_names=feature_names,\n",
    "                  class_names=RISKCLASSIFICATIONS.get_names())"
   ],
   "metadata": {
    "collapsed": false
   },
   "id": "c2b0ce899fa1a767"
  },
  {
   "cell_type": "markdown",
   "source": [
    "## Logistic Regression"
   ],
   "metadata": {
    "collapsed": false
   },
   "id": "c7bb2154ccf4ce10"
  },
  {
   "cell_type": "code",
   "execution_count": null,
   "outputs": [],
   "source": [
    "from sklearn.linear_model import LogisticRegression\n",
    "lr_model = LogisticRegression()\n",
    "lr_model.fit(x_train, train_labels)\n",
    "\n",
    "_, y_pred = print_results(lr_model)"
   ],
   "metadata": {
    "collapsed": false
   },
   "id": "c865575aefcdbffc"
  },
  {
   "cell_type": "code",
   "execution_count": null,
   "outputs": [],
   "source": [
    "lr_scores, lr_avg_scores = k_cross_validation(lr_model)"
   ],
   "metadata": {
    "collapsed": false
   },
   "id": "9989b9bafe6f1d90"
  },
  {
   "cell_type": "markdown",
   "source": [
    "## SVM"
   ],
   "metadata": {
    "collapsed": false
   },
   "id": "3b649d9b36f1e440"
  },
  {
   "cell_type": "code",
   "execution_count": null,
   "outputs": [],
   "source": [
    "from sklearn.svm import SVC\n",
    "svm_model = SVC()\n",
    "svm_model.fit(x_train, train_labels)\n",
    "\n",
    "_, y_pred = print_results(svm_model)"
   ],
   "metadata": {
    "collapsed": false
   },
   "id": "35037073811e57c4"
  },
  {
   "cell_type": "code",
   "execution_count": null,
   "outputs": [],
   "source": [
    "svm_scores, svm_avg_scores = k_cross_validation(svm_model)"
   ],
   "metadata": {
    "collapsed": false
   },
   "id": "2a569a6ba7cd6f0d"
  },
  {
   "cell_type": "markdown",
   "source": [
    "## Random Forest"
   ],
   "metadata": {
    "collapsed": false
   },
   "id": "adfdd63248eb093b"
  },
  {
   "cell_type": "code",
   "execution_count": null,
   "outputs": [],
   "source": [
    "from sklearn.ensemble import RandomForestClassifier\n",
    "# rf_model = RandomForestClassifier(n_estimators=3000, random_state=4098)\n",
    "rf_model = RandomForestClassifier(n_estimators=500, random_state=42) \n",
    "rf_model.fit(x_train, train_labels)\n",
    "\n",
    "_, y_pred = print_results(rf_model)"
   ],
   "metadata": {
    "collapsed": false
   },
   "id": "3e81ab76c8ccaf2f"
  },
  {
   "cell_type": "code",
   "execution_count": null,
   "outputs": [],
   "source": [
    "from machine_learning.utils import output_incorrectly_predicted_xlsx\n",
    "output_incorrectly_predicted_xlsx(test_df, y_pred, \"rf\")  "
   ],
   "metadata": {
    "collapsed": false
   },
   "id": "359cd5db746aa3d0"
  },
  {
   "cell_type": "code",
   "execution_count": null,
   "outputs": [],
   "source": [
    "rf_scores, rf_avg_scores = k_cross_validation(rf_model)"
   ],
   "metadata": {
    "collapsed": false
   },
   "id": "3027ab214e485340"
  },
  {
   "cell_type": "code",
   "execution_count": null,
   "outputs": [],
   "source": [
    "distribution = get_distribution(test_df, y_pred)\n",
    "plot_distribution(distribution)"
   ],
   "metadata": {
    "collapsed": false
   },
   "id": "bd60c3ca6d3b2e69"
  },
  {
   "cell_type": "code",
   "execution_count": null,
   "outputs": [],
   "source": [
    "# https://www.kaggle.com/code/ahmedabdulhamid/best-n-estimators-for-randomforest\n",
    "def plot_best_n_estimators(max_n_estimators, random_state=42):\n",
    "    import numpy as np\n",
    "    from sklearn.ensemble import RandomForestClassifier\n",
    "    from sklearn.metrics import accuracy_score\n",
    "    \n",
    "    rf_model = RandomForestClassifier(n_estimators=max_n_estimators, random_state=random_state)\n",
    "    rf_model.fit(x_train, train_labels)\n",
    "    \n",
    "    predictions = []\n",
    "    for tree in rf_model.estimators_:\n",
    "        predictions.append(tree.predict_proba(x_test)[None, :])\n",
    "    \n",
    "    predictions = np.vstack(predictions)\n",
    "    cum_mean = np.cumsum(predictions, axis=0)/np.arange(1, predictions.shape[0] + 1)[:, None, None]\n",
    "    \n",
    "    scores = []\n",
    "    for pred in cum_mean:\n",
    "        scores.append(accuracy_score(test_labels, np.argmax(pred, axis=1)))\n",
    "        \n",
    "    plt.figure(figsize=(15, 8))\n",
    "    plt.plot(scores, linewidth=3)\n",
    "    plt.xlabel('num_trees')\n",
    "    plt.ylabel('accuracy')\n",
    "plot_best_n_estimators(5000)"
   ],
   "metadata": {
    "collapsed": false
   },
   "id": "3909de9217486b1a"
  }
 ],
 "metadata": {
  "kernelspec": {
   "display_name": "Python 3",
   "language": "python",
   "name": "python3"
  },
  "language_info": {
   "codemirror_mode": {
    "name": "ipython",
    "version": 2
   },
   "file_extension": ".py",
   "mimetype": "text/x-python",
   "name": "python",
   "nbconvert_exporter": "python",
   "pygments_lexer": "ipython2",
   "version": "2.7.6"
  }
 },
 "nbformat": 4,
 "nbformat_minor": 5
}
