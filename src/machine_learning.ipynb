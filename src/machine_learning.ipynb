{
 "cells": [
  {
   "cell_type": "code",
   "execution_count": null,
   "outputs": [],
   "source": [
    "import pandas as pd\n",
    "from configs.data import MACHINE_LEARNING_DATASET_PATH, MERGED_DATASET_PATH, OUT_PATH, VERSION\n",
    "from sklearn.metrics import classification_report\n",
    "import numpy as np\n",
    "from configs.enums import Column, RISKCLASSIFICATIONS\n",
    "from machine_learning.utils import scale_dataset\n",
    "from sklearn.model_selection import cross_val_score\n",
    "import shap\n",
    "from typing import Tuple\n",
    "import matplotlib.pyplot as plt\n",
    "from machine_learning.utils import plot_distribution, get_distribution"
   ],
   "metadata": {
    "collapsed": false
   },
   "id": "76f1541520d536e3"
  },
  {
   "cell_type": "markdown",
   "source": [
    "## Load and split dataset"
   ],
   "metadata": {
    "collapsed": false
   },
   "id": "b941153406aba070"
  },
  {
   "cell_type": "code",
   "execution_count": null,
   "outputs": [],
   "source": [
    "def split_data(dataframe: pd.DataFrame) -> Tuple[np.array, np.array]:\n",
    "    \"\"\"\n",
    "    Splits the data into a train and test dataset, where each label/class is spread equally over each\n",
    "    dataset.\n",
    "    :param dataframe: pandas.Dataframe, The dataframe to split.\n",
    "    :return: Tuple[np.array, np.array], A tuple containing the train and test dataset\n",
    "    respectively.\n",
    "    \"\"\"\n",
    "    data_by_risk = [dataframe[dataframe[\"country_risk\"] == v] for v in RISKCLASSIFICATIONS.get_values()]\n",
    "    split_data = [\n",
    "        # Train (70%) and test (30%) datasets\n",
    "        np.split(sd.sample(frac=1, random_state=0), [int(0.7 * len(sd))])\n",
    "        for sd\n",
    "        in data_by_risk\n",
    "    ]\n",
    "\n",
    "    train = pd.concat([row[0] for row in split_data])\n",
    "    test = pd.concat([row[1] for row in split_data])\n",
    "\n",
    "    return train, test"
   ],
   "metadata": {
    "collapsed": false
   },
   "id": "5e3ceb847fe21e0c"
  },
  {
   "cell_type": "code",
   "execution_count": null,
   "outputs": [],
   "source": [
    "df = pd.read_excel(MACHINE_LEARNING_DATASET_PATH)\n",
    "\n",
    "train_df, test_df = split_data(df)\n",
    "\n",
    "train, x_train, train_labels = scale_dataset(train_df, oversample=True)\n",
    "test, x_test, test_labels = scale_dataset(test_df, oversample=False)  "
   ],
   "metadata": {
    "collapsed": false
   },
   "id": "58a22c5e76a55955"
  },
  {
   "cell_type": "markdown",
   "source": [
    "## Utility function definitions"
   ],
   "metadata": {
    "collapsed": false
   },
   "id": "8f9fc6e214f16a97"
  },
  {
   "cell_type": "code",
   "execution_count": null,
   "outputs": [],
   "source": [
    "def print_results(model) -> Tuple:\n",
    "    \"\"\"\n",
    "    Prints the confusion matrices for the train and test data. \n",
    "    :param model: A model that will perform the predictions. \n",
    "    :return: Tuple, containing the prediction results.\n",
    "    \"\"\"\n",
    "    y_pred_train = model.predict(x_train)\n",
    "    print(\"\\n###### Training ######\")\n",
    "    print(classification_report(train_labels, y_pred_train))\n",
    "\n",
    "    y_pred = model.predict(x_test)\n",
    "    print(\"\\n###### Test ######\")\n",
    "    print(classification_report(test_labels, y_pred))\n",
    "    \n",
    "    return y_pred_train, y_pred"
   ],
   "metadata": {
    "collapsed": false
   },
   "id": "99fcae97297d061d"
  },
  {
   "cell_type": "code",
   "execution_count": null,
   "outputs": [],
   "source": [
    "feature_names = df.columns.tolist()\n",
    "feature_names.remove(Column.COUNTRY_RISK)"
   ],
   "metadata": {
    "collapsed": false
   },
   "id": "2da1b088a4429e9d"
  },
  {
   "cell_type": "code",
   "execution_count": null,
   "outputs": [],
   "source": [
    "def k_cross_validation(model, k: int=10):\n",
    "    \"\"\"Performs the k cross validation\"\"\"\n",
    "    X = df[feature_names]\n",
    "    y = df[Column.COUNTRY_RISK]  \n",
    "    \n",
    "    scores = cross_val_score(model, X, y, cv=k)\n",
    "    avg_score = np.average((scores))\n",
    "    print(\"Scores:\",scores)\n",
    "    print(\"Avg:\", avg_score)\n",
    "    \n",
    "    return scores, avg_score"
   ],
   "metadata": {
    "collapsed": false
   },
   "id": "a1dc6f5b6dcf4dbc"
  },
  {
   "cell_type": "markdown",
   "source": [
    "### Shap"
   ],
   "metadata": {
    "collapsed": false
   },
   "id": "7b568016003abc99"
  },
  {
   "cell_type": "code",
   "execution_count": null,
   "outputs": [],
   "source": [
    "def calculate_shap_values(model) -> Tuple:\n",
    "    \"\"\"Calculates the Shap values\"\"\"\n",
    "    explainer = shap.KernelExplainer(model.predict, x_train)\n",
    "    shap_values = explainer.shap_values(x_test, nsamples=100)\n",
    "    return explainer, shap_values"
   ],
   "metadata": {
    "collapsed": false
   },
   "id": "fb1807d5a07cfd63"
  },
  {
   "cell_type": "markdown",
   "source": [
    "## KNN"
   ],
   "metadata": {
    "collapsed": false
   },
   "id": "9eeca891b4310b5f"
  },
  {
   "cell_type": "code",
   "execution_count": null,
   "outputs": [],
   "source": [
    "from sklearn.neighbors import KNeighborsClassifier\n",
    "knn_model = KNeighborsClassifier(n_neighbors=50)\n",
    "knn_model.fit(x_train, train_labels)\n",
    "\n",
    "_, y_pred = print_results(knn_model)"
   ],
   "metadata": {
    "collapsed": false
   },
   "id": "f2f44540bdf8ca63"
  },
  {
   "cell_type": "code",
   "execution_count": null,
   "outputs": [],
   "source": [
    "knn_scores, knn_avg_scores = k_cross_validation(knn_model)"
   ],
   "metadata": {
    "collapsed": false
   },
   "id": "22f22bad6c79758"
  },
  {
   "cell_type": "code",
   "execution_count": null,
   "outputs": [],
   "source": [
    "from machine_learning.utils import output_incorrectly_predicted_xlsx\n",
    "output_incorrectly_predicted_xlsx(test_df, y_pred, \"knn\")  "
   ],
   "metadata": {
    "collapsed": false
   },
   "id": "45bd957cd966c8e9"
  },
  {
   "cell_type": "code",
   "execution_count": null,
   "outputs": [],
   "source": [
    "_, shap_values = calculate_shap_values(knn_model)\n",
    "shap.summary_plot(shap_values, x_test, feature_names=feature_names,\n",
    "                  class_names=RISKCLASSIFICATIONS.get_names())"
   ],
   "metadata": {
    "collapsed": false
   },
   "id": "c2b0ce899fa1a767"
  },
  {
   "cell_type": "markdown",
   "source": [
    "## Logistic Regression"
   ],
   "metadata": {
    "collapsed": false
   },
   "id": "c7bb2154ccf4ce10"
  },
  {
   "cell_type": "code",
   "execution_count": null,
   "outputs": [],
   "source": [
    "from sklearn.linear_model import LogisticRegression\n",
    "lr_model = LogisticRegression()\n",
    "lr_model.fit(x_train, train_labels)\n",
    "\n",
    "_, y_pred = print_results(lr_model)"
   ],
   "metadata": {
    "collapsed": false
   },
   "id": "c865575aefcdbffc"
  },
  {
   "cell_type": "code",
   "execution_count": null,
   "outputs": [],
   "source": [
    "lr_scores, lr_avg_scores = k_cross_validation(lr_model)"
   ],
   "metadata": {
    "collapsed": false
   },
   "id": "9989b9bafe6f1d90"
  },
  {
   "cell_type": "markdown",
   "source": [
    "## SVM"
   ],
   "metadata": {
    "collapsed": false
   },
   "id": "3b649d9b36f1e440"
  },
  {
   "cell_type": "code",
   "execution_count": null,
   "outputs": [],
   "source": [
    "from sklearn.svm import SVC\n",
    "svm_model = SVC()\n",
    "svm_model.fit(x_train, train_labels)\n",
    "\n",
    "_, y_pred = print_results(svm_model)"
   ],
   "metadata": {
    "collapsed": false
   },
   "id": "35037073811e57c4"
  },
  {
   "cell_type": "code",
   "execution_count": null,
   "outputs": [],
   "source": [
    "svm_scores, svm_avg_scores = k_cross_validation(svm_model)"
   ],
   "metadata": {
    "collapsed": false
   },
   "id": "2a569a6ba7cd6f0d"
  },
  {
   "cell_type": "markdown",
   "source": [
    "## Random Forest"
   ],
   "metadata": {
    "collapsed": false
   },
   "id": "adfdd63248eb093b"
  },
  {
   "cell_type": "code",
   "execution_count": null,
   "outputs": [],
   "source": [
    "from sklearn.ensemble import RandomForestClassifier\n",
    "# rf_model = RandomForestClassifier(n_estimators=3000, random_state=4098)\n",
    "rf_model = RandomForestClassifier(n_estimators=500, random_state=42) \n",
    "rf_model.fit(x_train, train_labels)\n",
    "\n",
    "_, y_pred = print_results(rf_model)"
   ],
   "metadata": {
    "collapsed": false
   },
   "id": "3e81ab76c8ccaf2f"
  },
  {
   "cell_type": "code",
   "execution_count": null,
   "outputs": [],
   "source": [
    "from machine_learning.utils import output_incorrectly_predicted_xlsx\n",
    "output_incorrectly_predicted_xlsx(test_df, y_pred, \"rf\")  "
   ],
   "metadata": {
    "collapsed": false
   },
   "id": "359cd5db746aa3d0"
  },
  {
   "cell_type": "code",
   "execution_count": null,
   "outputs": [],
   "source": [
    "rf_scores, rf_avg_scores = k_cross_validation(rf_model)"
   ],
   "metadata": {
    "collapsed": false
   },
   "id": "3027ab214e485340"
  },
  {
   "cell_type": "code",
   "execution_count": null,
   "outputs": [],
   "source": [
    "distribution = get_distribution(test_df, y_pred)\n",
    "plot_distribution(distribution)"
   ],
   "metadata": {
    "collapsed": false
   },
   "id": "bd60c3ca6d3b2e69"
  },
  {
   "cell_type": "code",
   "execution_count": null,
   "outputs": [],
   "source": [
    "# https://www.kaggle.com/code/ahmedabdulhamid/best-n-estimators-for-randomforest\n",
    "def plot_best_n_estimators(max_n_estimators: int, random_state: int=42) -> None:\n",
    "    \"\"\"Plots a graph for max_n_estimators amount of estimators.\"\"\"\n",
    "    import numpy as np\n",
    "    from sklearn.ensemble import RandomForestClassifier\n",
    "    from sklearn.metrics import accuracy_score\n",
    "    \n",
    "    rf_model = RandomForestClassifier(n_estimators=max_n_estimators, random_state=random_state)\n",
    "    rf_model.fit(x_train, train_labels)\n",
    "    \n",
    "    predictions = []\n",
    "    for tree in rf_model.estimators_:\n",
    "        predictions.append(tree.predict_proba(x_test)[None, :])\n",
    "    \n",
    "    predictions = np.vstack(predictions)\n",
    "    cum_mean = np.cumsum(predictions, axis=0)/np.arange(1, predictions.shape[0] + 1)[:, None, None]\n",
    "    \n",
    "    scores = []\n",
    "    for pred in cum_mean:\n",
    "        scores.append(accuracy_score(test_labels, np.argmax(pred, axis=1)))\n",
    "        \n",
    "    plt.figure(figsize=(15, 8))\n",
    "    plt.plot(scores, linewidth=3)\n",
    "    plt.xlabel('num_trees')\n",
    "    plt.ylabel('accuracy')"
   ],
   "metadata": {
    "collapsed": false
   },
   "id": "3909de9217486b1a"
  },
  {
   "cell_type": "code",
   "execution_count": null,
   "outputs": [],
   "source": [
    "plot_best_n_estimators(5000)"
   ],
   "metadata": {
    "collapsed": false
   },
   "id": "8cad908e63e28e18"
  },
  {
   "cell_type": "code",
   "execution_count": null,
   "outputs": [],
   "source": [],
   "metadata": {
    "collapsed": false
   },
   "id": "92dcca0b1bbc167f"
  }
 ],
 "metadata": {
  "kernelspec": {
   "display_name": "Python 3",
   "language": "python",
   "name": "python3"
  },
  "language_info": {
   "codemirror_mode": {
    "name": "ipython",
    "version": 2
   },
   "file_extension": ".py",
   "mimetype": "text/x-python",
   "name": "python",
   "nbconvert_exporter": "python",
   "pygments_lexer": "ipython2",
   "version": "2.7.6"
  }
 },
 "nbformat": 4,
 "nbformat_minor": 5
}
